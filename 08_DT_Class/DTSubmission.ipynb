{
 "cells": [
  {
   "cell_type": "markdown",
   "metadata": {},
   "source": [
    "### Decision Tree Lab \n",
    "\n",
    "##### Rachel Seo ydp7xv"
   ]
  },
  {
   "cell_type": "code",
   "execution_count": 1,
   "metadata": {},
   "outputs": [],
   "source": [
    "# imports\n",
    "import pandas as pd\n",
    "import numpy as np\n",
    "import matplotlib.pyplot as plt\n",
    "import graphviz \n",
    "\n",
    "from sklearn.model_selection import train_test_split,GridSearchCV,RepeatedStratifiedKFold\n",
    "from sklearn import metrics\n",
    "from sklearn.metrics import ConfusionMatrixDisplay\n",
    "from sklearn.preprocessing import OrdinalEncoder\n",
    "from sklearn.tree import DecisionTreeClassifier, export_graphviz "
   ]
  },
  {
   "cell_type": "code",
   "execution_count": 2,
   "metadata": {},
   "outputs": [],
   "source": [
    "# data loading\n",
    "movie_metadata=pd.read_csv(\"../data/movie_metadata.csv\")"
   ]
  },
  {
   "cell_type": "code",
   "execution_count": null,
   "metadata": {},
   "outputs": [],
   "source": [
    "# total function \n",
    "def cleaning(df):\n",
    "    # drop irrelevant columns\n",
    "    columns = ['duration', 'actor_3_facebook_likes', 'facenumber_in_poster', 'actor_2_facebook_likes', 'aspect_ratio', 'color',\n",
    "           'actor_2_name', 'actor_3_name', 'plot_keywords', 'movie_imdb_link', 'language', 'director_name', 'title_year', 'actor_1_name', 'movie_title']\n",
    "    df.drop(columns=columns, inplace=True)\n",
    "\n",
    "    def parse_genres(genres):\n",
    "        if isinstance(genres, str):  # checking if genres is a string\n",
    "            # split the string by '|' and return the first genre\n",
    "            return genres.split('|')[0].strip()\n",
    "        elif isinstance(genres, list) and len(genres) > 0:  # if it's already a list, return the first element\n",
    "            return genres[0]\n",
    "        else:\n",
    "            return None  # return None if the value is not a string or a non-empty list\n",
    "    df['genres'] = df['genres'].apply(parse_genres)\n",
    "\n",
    "    # collapsing country \n",
    "    top_countries = ['USA', 'UK']\n",
    "    df.country = (df.country.apply(lambda x: x if x in top_countries else \"Other\")).astype('category')\n",
    "\n",
    "    # collapsing genres\n",
    "    top_genres = ['Comedy', 'Action']\n",
    "    df.genres = (df.genres.apply(lambda x: x if x in top_genres else \"Other\")).astype('category')\n",
    "\n",
    "    # collapsing content ratings \n",
    "    top_ratings = ['R', 'PG-13']\n",
    "    df['content_rating'] = df['content_rating'].apply(lambda x: x if x in top_ratings else 'Other').astype('category')\n",
    "\n",
    "    # dropping null values\n",
    "    df.dropna(inplace=True)\n",
    "    df.reset_index(drop=True, inplace=True)\n",
    "\n",
    "    return df"
   ]
  },
  {
   "cell_type": "code",
   "execution_count": 4,
   "metadata": {},
   "outputs": [
    {
     "data": {
      "text/html": [
       "<div>\n",
       "<style scoped>\n",
       "    .dataframe tbody tr th:only-of-type {\n",
       "        vertical-align: middle;\n",
       "    }\n",
       "\n",
       "    .dataframe tbody tr th {\n",
       "        vertical-align: top;\n",
       "    }\n",
       "\n",
       "    .dataframe thead th {\n",
       "        text-align: right;\n",
       "    }\n",
       "</style>\n",
       "<table border=\"1\" class=\"dataframe\">\n",
       "  <thead>\n",
       "    <tr style=\"text-align: right;\">\n",
       "      <th></th>\n",
       "      <th>num_critic_for_reviews</th>\n",
       "      <th>director_facebook_likes</th>\n",
       "      <th>actor_1_facebook_likes</th>\n",
       "      <th>gross</th>\n",
       "      <th>genres</th>\n",
       "      <th>num_voted_users</th>\n",
       "      <th>cast_total_facebook_likes</th>\n",
       "      <th>num_user_for_reviews</th>\n",
       "      <th>country</th>\n",
       "      <th>content_rating</th>\n",
       "      <th>budget</th>\n",
       "      <th>imdb_score</th>\n",
       "      <th>movie_facebook_likes</th>\n",
       "    </tr>\n",
       "  </thead>\n",
       "  <tbody>\n",
       "    <tr>\n",
       "      <th>0</th>\n",
       "      <td>723.0</td>\n",
       "      <td>0.0</td>\n",
       "      <td>1000.0</td>\n",
       "      <td>760505847.0</td>\n",
       "      <td>Action</td>\n",
       "      <td>886204</td>\n",
       "      <td>4834</td>\n",
       "      <td>3054.0</td>\n",
       "      <td>USA</td>\n",
       "      <td>PG-13</td>\n",
       "      <td>237000000.0</td>\n",
       "      <td>7.9</td>\n",
       "      <td>33000</td>\n",
       "    </tr>\n",
       "    <tr>\n",
       "      <th>1</th>\n",
       "      <td>302.0</td>\n",
       "      <td>563.0</td>\n",
       "      <td>40000.0</td>\n",
       "      <td>309404152.0</td>\n",
       "      <td>Action</td>\n",
       "      <td>471220</td>\n",
       "      <td>48350</td>\n",
       "      <td>1238.0</td>\n",
       "      <td>USA</td>\n",
       "      <td>PG-13</td>\n",
       "      <td>300000000.0</td>\n",
       "      <td>7.1</td>\n",
       "      <td>0</td>\n",
       "    </tr>\n",
       "    <tr>\n",
       "      <th>2</th>\n",
       "      <td>602.0</td>\n",
       "      <td>0.0</td>\n",
       "      <td>11000.0</td>\n",
       "      <td>200074175.0</td>\n",
       "      <td>Action</td>\n",
       "      <td>275868</td>\n",
       "      <td>11700</td>\n",
       "      <td>994.0</td>\n",
       "      <td>UK</td>\n",
       "      <td>PG-13</td>\n",
       "      <td>245000000.0</td>\n",
       "      <td>6.8</td>\n",
       "      <td>85000</td>\n",
       "    </tr>\n",
       "    <tr>\n",
       "      <th>3</th>\n",
       "      <td>813.0</td>\n",
       "      <td>22000.0</td>\n",
       "      <td>27000.0</td>\n",
       "      <td>448130642.0</td>\n",
       "      <td>Action</td>\n",
       "      <td>1144337</td>\n",
       "      <td>106759</td>\n",
       "      <td>2701.0</td>\n",
       "      <td>USA</td>\n",
       "      <td>PG-13</td>\n",
       "      <td>250000000.0</td>\n",
       "      <td>8.5</td>\n",
       "      <td>164000</td>\n",
       "    </tr>\n",
       "    <tr>\n",
       "      <th>4</th>\n",
       "      <td>462.0</td>\n",
       "      <td>475.0</td>\n",
       "      <td>640.0</td>\n",
       "      <td>73058679.0</td>\n",
       "      <td>Action</td>\n",
       "      <td>212204</td>\n",
       "      <td>1873</td>\n",
       "      <td>738.0</td>\n",
       "      <td>USA</td>\n",
       "      <td>PG-13</td>\n",
       "      <td>263700000.0</td>\n",
       "      <td>6.6</td>\n",
       "      <td>24000</td>\n",
       "    </tr>\n",
       "  </tbody>\n",
       "</table>\n",
       "</div>"
      ],
      "text/plain": [
       "   num_critic_for_reviews  director_facebook_likes  actor_1_facebook_likes  \\\n",
       "0                   723.0                      0.0                  1000.0   \n",
       "1                   302.0                    563.0                 40000.0   \n",
       "2                   602.0                      0.0                 11000.0   \n",
       "3                   813.0                  22000.0                 27000.0   \n",
       "4                   462.0                    475.0                   640.0   \n",
       "\n",
       "         gross  genres  num_voted_users  cast_total_facebook_likes  \\\n",
       "0  760505847.0  Action           886204                       4834   \n",
       "1  309404152.0  Action           471220                      48350   \n",
       "2  200074175.0  Action           275868                      11700   \n",
       "3  448130642.0  Action          1144337                     106759   \n",
       "4   73058679.0  Action           212204                       1873   \n",
       "\n",
       "   num_user_for_reviews country content_rating       budget  imdb_score  \\\n",
       "0                3054.0     USA          PG-13  237000000.0         7.9   \n",
       "1                1238.0     USA          PG-13  300000000.0         7.1   \n",
       "2                 994.0      UK          PG-13  245000000.0         6.8   \n",
       "3                2701.0     USA          PG-13  250000000.0         8.5   \n",
       "4                 738.0     USA          PG-13  263700000.0         6.6   \n",
       "\n",
       "   movie_facebook_likes  \n",
       "0                 33000  \n",
       "1                     0  \n",
       "2                 85000  \n",
       "3                164000  \n",
       "4                 24000  "
      ]
     },
     "execution_count": 4,
     "metadata": {},
     "output_type": "execute_result"
    }
   ],
   "source": [
    "# testing the function\n",
    "df = cleaning(movie_metadata)\n",
    "\n",
    "df.head()"
   ]
  },
  {
   "cell_type": "code",
   "execution_count": 5,
   "metadata": {},
   "outputs": [
    {
     "name": "stdout",
     "output_type": "stream",
     "text": [
      "<class 'pandas.core.frame.DataFrame'>\n",
      "RangeIndex: 3887 entries, 0 to 3886\n",
      "Data columns (total 13 columns):\n",
      " #   Column                     Non-Null Count  Dtype   \n",
      "---  ------                     --------------  -----   \n",
      " 0   num_critic_for_reviews     3887 non-null   float64 \n",
      " 1   director_facebook_likes    3887 non-null   float64 \n",
      " 2   actor_1_facebook_likes     3887 non-null   float64 \n",
      " 3   gross                      3887 non-null   float64 \n",
      " 4   genres                     3887 non-null   category\n",
      " 5   num_voted_users            3887 non-null   int64   \n",
      " 6   cast_total_facebook_likes  3887 non-null   int64   \n",
      " 7   num_user_for_reviews       3887 non-null   float64 \n",
      " 8   country                    3887 non-null   category\n",
      " 9   content_rating             3887 non-null   category\n",
      " 10  budget                     3887 non-null   float64 \n",
      " 11  movie_facebook_likes       3887 non-null   int64   \n",
      " 12  top_imdb_score             3887 non-null   category\n",
      "dtypes: category(4), float64(6), int64(3)\n",
      "memory usage: 289.1 KB\n"
     ]
    }
   ],
   "source": [
    "# cut imdb_score into 1 and 0 from top 25% percentile \n",
    "\n",
    "def cut_imdb_score(df):\n",
    "    # calculate the 75th percentile\n",
    "    percentile_75 = df['imdb_score'].quantile(0.75)\n",
    "    \n",
    "    # create a new column 'top_imdb_score'\n",
    "    df['top_imdb_score'] = np.where(df['imdb_score'] >= percentile_75, 1, 0)\n",
    "    \n",
    "    return df\n",
    "# applying the cut function\n",
    "df = cut_imdb_score(df)\n",
    "\n",
    "df.drop(columns=['imdb_score'], inplace=True)\n",
    "df['top_imdb_score'] = df['top_imdb_score'].astype('category')\n",
    "df.info()"
   ]
  },
  {
   "cell_type": "code",
   "execution_count": null,
   "metadata": {},
   "outputs": [
    {
     "name": "stdout",
     "output_type": "stream",
     "text": [
      "top_imdb_score\n",
      "0.0    2849\n",
      "1.0    1038\n",
      "Name: count, dtype: int64\n"
     ]
    }
   ],
   "source": [
    "# collapsing/encoding target variable\n",
    "df[[\"top_imdb_score\"]] = OrdinalEncoder().fit_transform(df[[\"top_imdb_score\"]])\n",
    "print(df[\"top_imdb_score\"].value_counts())"
   ]
  },
  {
   "cell_type": "code",
   "execution_count": 7,
   "metadata": {},
   "outputs": [
    {
     "name": "stdout",
     "output_type": "stream",
     "text": [
      "0.26704399279650115\n"
     ]
    }
   ],
   "source": [
    "# prevalence for the target variable\n",
    "print(1038/(2849+1038))\n",
    "\n",
    "# The prevalence of the target variable represents the proportion of positive cases (1s) in the dataset. \n",
    "# In this case, the prevalence is approximately 26.7%, meaning that about 26.7% of the movies in the dataset have a high IMDb score (top 25%).\n",
    "# This is a relatively imbalanced dataset, as there are significantly more movies with lower IMDb scores (0s) compared to those with higher scores (1s)."
   ]
  },
  {
   "cell_type": "code",
   "execution_count": 8,
   "metadata": {},
   "outputs": [],
   "source": [
    "# one-hot encoding\n",
    "categorical_columns = df.select_dtypes(include=['category']).columns\n",
    "df2 = pd.get_dummies(df, columns=categorical_columns)"
   ]
  },
  {
   "cell_type": "code",
   "execution_count": 9,
   "metadata": {},
   "outputs": [],
   "source": [
    "# splitting the dataset into test, tune, and train sets (80% train, 10% tune, 10% test)\n",
    "\n",
    "X = df2.drop(columns=['top_imdb_score'])\n",
    "y = df2.top_imdb_score\n",
    "\n",
    "X_train, X_test, y_train, y_test = train_test_split(X, y, train_size=0.80, stratify= y, random_state=21)\n",
    "X_tune, X_test, y_tune, y_test = train_test_split(X_test,y_test,  train_size = 0.5,stratify= y_test, random_state=49)"
   ]
  },
  {
   "cell_type": "code",
   "execution_count": 10,
   "metadata": {},
   "outputs": [],
   "source": [
    "# kfold object for cross validation\n",
    "\n",
    "kf = RepeatedStratifiedKFold(n_splits=10,n_repeats=5, random_state=42)"
   ]
  },
  {
   "cell_type": "code",
   "execution_count": null,
   "metadata": {},
   "outputs": [],
   "source": [
    "# scoring metric and the max depth hyperparameter (grid search) \n",
    "scoring = 'f1_weighted'\n",
    "param = {\"max_depth\" : [1,2,3,4,5,6,7,8,9,10,11]}"
   ]
  },
  {
   "cell_type": "code",
   "execution_count": 20,
   "metadata": {},
   "outputs": [
    {
     "name": "stdout",
     "output_type": "stream",
     "text": [
      "DecisionTreeClassifier(max_depth=5, random_state=1000)\n"
     ]
    }
   ],
   "source": [
    "# fitting model to training data\n",
    "cl= DecisionTreeClassifier(random_state=1000)\n",
    "\n",
    "# search for best DecisionTreeClassifier estimator across all folds based f1_weighted\n",
    "search = GridSearchCV(cl, param, scoring=scoring, n_jobs=-1, cv=kf,refit='f1_weighted')\n",
    "\n",
    "# execute on training data\n",
    "model = search.fit(X_train, y_train)\n",
    "\n",
    "# best hyperparameters and score\n",
    "best = model.best_estimator_\n",
    "print(best) "
   ]
  },
  {
   "cell_type": "code",
   "execution_count": 21,
   "metadata": {},
   "outputs": [
    {
     "name": "stdout",
     "output_type": "stream",
     "text": [
      "{'mean_fit_time': array([0.00599154, 0.00637001, 0.00902311, 0.01069516, 0.0240674 ,\n",
      "       0.02376858, 0.01901168, 0.02234075, 0.02186903, 0.02360387,\n",
      "       0.02218844]), 'std_fit_time': array([0.00384139, 0.00151078, 0.00265918, 0.00275534, 0.03099314,\n",
      "       0.03075041, 0.00523244, 0.00793723, 0.0048614 , 0.0069692 ,\n",
      "       0.00379263]), 'mean_score_time': array([0.00297658, 0.00277548, 0.00271116, 0.0021243 , 0.00752132,\n",
      "       0.00754554, 0.00316987, 0.00321513, 0.00247466, 0.00261261,\n",
      "       0.00209895]), 'std_score_time': array([0.00207494, 0.00153492, 0.00153181, 0.00102473, 0.01694887,\n",
      "       0.02312028, 0.00206231, 0.00221479, 0.00163611, 0.00161145,\n",
      "       0.00119984]), 'param_max_depth': masked_array(data=[1, 2, 3, 4, 5, 6, 7, 8, 9, 10, 11],\n",
      "             mask=[False, False, False, False, False, False, False, False,\n",
      "                   False, False, False],\n",
      "       fill_value=999999), 'params': [{'max_depth': 1}, {'max_depth': 2}, {'max_depth': 3}, {'max_depth': 4}, {'max_depth': 5}, {'max_depth': 6}, {'max_depth': 7}, {'max_depth': 8}, {'max_depth': 9}, {'max_depth': 10}, {'max_depth': 11}], 'split0_test_score': array([0.69154419, 0.71574166, 0.73218072, 0.76079007, 0.76616133,\n",
      "       0.76128607, 0.76820531, 0.78888482, 0.77563487, 0.78695069,\n",
      "       0.78145221]), 'split1_test_score': array([0.73950528, 0.73950528, 0.78585673, 0.77023138, 0.76984539,\n",
      "       0.76668762, 0.77758645, 0.76549322, 0.75972308, 0.75056417,\n",
      "       0.73995878]), 'split2_test_score': array([0.77023138, 0.77023138, 0.7789357 , 0.78328079, 0.8092206 ,\n",
      "       0.80807194, 0.78046277, 0.79510554, 0.79279394, 0.805792  ,\n",
      "       0.8205951 ]), 'split3_test_score': array([0.76615761, 0.76615761, 0.82756854, 0.81440916, 0.82821359,\n",
      "       0.82099272, 0.83064689, 0.83337875, 0.82923239, 0.80102365,\n",
      "       0.80553096]), 'split4_test_score': array([0.76534111, 0.76534111, 0.76510838, 0.77230193, 0.77786651,\n",
      "       0.79454582, 0.80748274, 0.77239048, 0.78951182, 0.77287539,\n",
      "       0.76663715]), 'split5_test_score': array([0.78253643, 0.78253643, 0.81419021, 0.80713614, 0.8120689 ,\n",
      "       0.80355039, 0.81091814, 0.80072774, 0.81138538, 0.79791291,\n",
      "       0.80072774]), 'split6_test_score': array([0.75208722, 0.75208722, 0.80121737, 0.81000306, 0.80355039,\n",
      "       0.79454582, 0.78982448, 0.80638122, 0.78702886, 0.78797602,\n",
      "       0.77769996]), 'split7_test_score': array([0.75907531, 0.75907531, 0.79958758, 0.80717852, 0.82099272,\n",
      "       0.82960481, 0.81350482, 0.80470936, 0.80385291, 0.78414879,\n",
      "       0.79426709]), 'split8_test_score': array([0.78308998, 0.78308998, 0.80287615, 0.79595675, 0.82466954,\n",
      "       0.81808894, 0.80707395, 0.78442468, 0.76184151, 0.77664454,\n",
      "       0.78160661]), 'split9_test_score': array([0.7188128 , 0.73416364, 0.7573766 , 0.78811951, 0.77442511,\n",
      "       0.7937212 , 0.7821451 , 0.78993008, 0.79378093, 0.77977679,\n",
      "       0.77977679]), 'split10_test_score': array([0.76077687, 0.76077687, 0.80668773, 0.80807194, 0.78951182,\n",
      "       0.8133842 , 0.81522872, 0.80707395, 0.82280871, 0.79703543,\n",
      "       0.8027912 ]), 'split11_test_score': array([0.73950528, 0.73950528, 0.81138538, 0.80727105, 0.81002869,\n",
      "       0.81603415, 0.79731467, 0.80388755, 0.79986277, 0.78238896,\n",
      "       0.77018802]), 'split12_test_score': array([0.75208722, 0.75208722, 0.77786651, 0.78630451, 0.8092206 ,\n",
      "       0.80121737, 0.82485786, 0.81812162, 0.79510554, 0.80296045,\n",
      "       0.78702886]), 'split13_test_score': array([0.71998523, 0.71998523, 0.75640421, 0.77528765, 0.75542403,\n",
      "       0.76616133, 0.75275853, 0.76516935, 0.77614749, 0.7467357 ,\n",
      "       0.75698455]), 'split14_test_score': array([0.77074673, 0.77074673, 0.78614345, 0.79258038, 0.7693998 ,\n",
      "       0.78750822, 0.78166984, 0.78116883, 0.7850142 , 0.7850142 ,\n",
      "       0.76903589]), 'split15_test_score': array([0.76483642, 0.76483642, 0.77156689, 0.78051586, 0.76967977,\n",
      "       0.79170795, 0.78863404, 0.79716673, 0.77920666, 0.75882573,\n",
      "       0.77729603]), 'split16_test_score': array([0.77512456, 0.77512456, 0.77294745, 0.78700193, 0.78951182,\n",
      "       0.79029102, 0.79029102, 0.77945871, 0.7819664 , 0.78780007,\n",
      "       0.77453758]), 'split17_test_score': array([0.71757664, 0.71815726, 0.77528765, 0.77786651, 0.78877995,\n",
      "       0.77789961, 0.77064815, 0.77495199, 0.76243692, 0.7804759 ,\n",
      "       0.76018436]), 'split18_test_score': array([0.73753148, 0.73753148, 0.78585673, 0.75549731, 0.78896304,\n",
      "       0.78337557, 0.78341532, 0.77365217, 0.77453758, 0.77287539,\n",
      "       0.76243692]), 'split19_test_score': array([0.78826739, 0.78826739, 0.79110276, 0.7992434 , 0.80368106,\n",
      "       0.79727817, 0.81365494, 0.81545893, 0.82414856, 0.81279524,\n",
      "       0.81061536]), 'split20_test_score': array([0.74684316, 0.74684316, 0.7820438 , 0.79142238, 0.78863404,\n",
      "       0.79029102, 0.79059179, 0.78046277, 0.79059179, 0.78702886,\n",
      "       0.76565123]), 'split21_test_score': array([0.76803886, 0.76803886, 0.81257487, 0.80580704, 0.79723967,\n",
      "       0.80355039, 0.78223384, 0.78325649, 0.75742069, 0.75640556,\n",
      "       0.76663715]), 'split22_test_score': array([0.706288  , 0.74144826, 0.79117667, 0.78614345, 0.81002869,\n",
      "       0.81132711, 0.80638122, 0.80748274, 0.79819967, 0.81350482,\n",
      "       0.78295535]), 'split23_test_score': array([0.75090057, 0.75090057, 0.79279394, 0.79861471, 0.78394391,\n",
      "       0.77096797, 0.76736998, 0.79168998, 0.78778135, 0.78217036,\n",
      "       0.79289383]), 'split24_test_score': array([0.76534111, 0.76534111, 0.80299272, 0.80866275, 0.78077276,\n",
      "       0.78750822, 0.80072774, 0.78394391, 0.78049465, 0.78702886,\n",
      "       0.77770547]), 'split25_test_score': array([0.72303824, 0.72303824, 0.75436682, 0.76077687, 0.78480818,\n",
      "       0.7693998 , 0.79117667, 0.77370778, 0.78223384, 0.80203077,\n",
      "       0.80203077]), 'split26_test_score': array([0.77428837, 0.77428837, 0.79735134, 0.77776478, 0.79588229,\n",
      "       0.80717852, 0.76400027, 0.7465421 , 0.73310279, 0.73847054,\n",
      "       0.74548887]), 'split27_test_score': array([0.72735404, 0.72735404, 0.81576347, 0.78630451, 0.80269548,\n",
      "       0.81706467, 0.82645821, 0.80570495, 0.83047907, 0.7850142 ,\n",
      "       0.77287539]), 'split28_test_score': array([0.74468684, 0.74468684, 0.7693998 , 0.7688568 , 0.78065365,\n",
      "       0.79036345, 0.76151628, 0.78721776, 0.79059179, 0.76188076,\n",
      "       0.78116883]), 'split29_test_score': array([0.75204749, 0.75204749, 0.8023829 , 0.78379451, 0.81545893,\n",
      "       0.80403557, 0.79949827, 0.79659896, 0.79659896, 0.77610164,\n",
      "       0.78355014]), 'split30_test_score': array([0.7671392 , 0.7671392 , 0.80299272, 0.7777042 , 0.80847491,\n",
      "       0.79029102, 0.78328743, 0.77403861, 0.77297453, 0.76657944,\n",
      "       0.79059211]), 'split31_test_score': array([0.75859596, 0.74278642, 0.79020179, 0.79299484, 0.80748274,\n",
      "       0.78750822, 0.77668851, 0.79077643, 0.79622549, 0.80187652,\n",
      "       0.79703543]), 'split32_test_score': array([0.77346518, 0.77346518, 0.79579899, 0.81129027, 0.84410755,\n",
      "       0.83833033, 0.83146017, 0.80287615, 0.82346762, 0.80754747,\n",
      "       0.81201326]), 'split33_test_score': array([0.7124001 , 0.7124001 , 0.75323535, 0.75682927, 0.76534111,\n",
      "       0.75016618, 0.77515285, 0.74480145, 0.73475009, 0.74532451,\n",
      "       0.7465421 ]), 'split34_test_score': array([0.73588996, 0.73588996, 0.7987687 , 0.77294745, 0.77379907,\n",
      "       0.78618499, 0.77106575, 0.76549322, 0.75041657, 0.77287539,\n",
      "       0.77668851]), 'split35_test_score': array([0.78353256, 0.78353256, 0.76561937, 0.78700193, 0.8000545 ,\n",
      "       0.79619398, 0.78322802, 0.78394391, 0.77945871, 0.7804759 ,\n",
      "       0.78975646]), 'split36_test_score': array([0.78033337, 0.78033337, 0.80296394, 0.81299938, 0.82863566,\n",
      "       0.79735134, 0.81525909, 0.83250427, 0.81525909, 0.80769382,\n",
      "       0.82634661]), 'split37_test_score': array([0.75546072, 0.75546072, 0.77528765, 0.80269548, 0.77528765,\n",
      "       0.77370778, 0.78951182, 0.77668851, 0.78005995, 0.7850142 ,\n",
      "       0.76188076]), 'split38_test_score': array([0.77052571, 0.77052571, 0.79230529, 0.79731359, 0.79397275,\n",
      "       0.80638122, 0.8199685 , 0.80638122, 0.82292264, 0.81812162,\n",
      "       0.82554197]), 'split39_test_score': array([0.72398543, 0.69629539, 0.72291006, 0.78102001, 0.7851962 ,\n",
      "       0.78406111, 0.77544188, 0.79096904, 0.78536247, 0.80010257,\n",
      "       0.79096904]), 'split40_test_score': array([0.73005152, 0.73005152, 0.77653962, 0.7499054 , 0.77515285,\n",
      "       0.7516987 , 0.76561937, 0.75479843, 0.74523845, 0.7465421 ,\n",
      "       0.74070795]), 'split41_test_score': array([0.75997425, 0.75997425, 0.77802461, 0.78529818, 0.80013295,\n",
      "       0.76398317, 0.77379907, 0.76127508, 0.76127508, 0.76565123,\n",
      "       0.74739419]), 'split42_test_score': array([0.7528093 , 0.7528093 , 0.77928774, 0.76175457, 0.77913176,\n",
      "       0.81240478, 0.7733951 , 0.79920868, 0.79421222, 0.80849002,\n",
      "       0.80139062]), 'split43_test_score': array([0.74729128, 0.74729128, 0.76537903, 0.77567661, 0.78614345,\n",
      "       0.75809669, 0.77512456, 0.77379907, 0.77379907, 0.76423173,\n",
      "       0.78166984]), 'split44_test_score': array([0.77074673, 0.77074673, 0.78480818, 0.78808033, 0.79716673,\n",
      "       0.77515285, 0.79156732, 0.77789961, 0.79117667, 0.78223384,\n",
      "       0.805792  ]), 'split45_test_score': array([0.80072774, 0.77976744, 0.80854124, 0.85307205, 0.8364748 ,\n",
      "       0.79498387, 0.83159409, 0.79819967, 0.79920868, 0.79421222,\n",
      "       0.79819967]), 'split46_test_score': array([0.74934346, 0.74934346, 0.80972078, 0.80296394, 0.80404243,\n",
      "       0.8120689 , 0.80072774, 0.79958758, 0.8000545 , 0.77839925,\n",
      "       0.77392294]), 'split47_test_score': array([0.77871862, 0.77871862, 0.82756854, 0.81878036, 0.80151037,\n",
      "       0.8345027 , 0.82580444, 0.81812162, 0.79731467, 0.79904866,\n",
      "       0.78695069]), 'split48_test_score': array([0.76151892, 0.76151892, 0.77239048, 0.77074673, 0.79036345,\n",
      "       0.77515285, 0.77515285, 0.76695279, 0.78322802, 0.76790633,\n",
      "       0.77769996]), 'split49_test_score': array([0.72920706, 0.72920706, 0.77717628, 0.77689862, 0.79078009,\n",
      "       0.81365494, 0.81199249, 0.82616701, 0.84034652, 0.82788243,\n",
      "       0.79755435]), 'mean_test_score': array([0.75310726, 0.75332384, 0.78601027, 0.78846338, 0.79489167,\n",
      "       0.7933903 , 0.79244238, 0.78917251, 0.78800532, 0.78360835,\n",
      "       0.78237913]), 'std_test_score': array([0.02332471, 0.02134975, 0.02180198, 0.01932603, 0.01931417,\n",
      "       0.02062294, 0.02070258, 0.02016214, 0.02360305, 0.02025049,\n",
      "       0.02074816]), 'rank_test_score': array([11, 10,  7,  5,  1,  2,  3,  4,  6,  8,  9], dtype=int32)}\n"
     ]
    }
   ],
   "source": [
    "print(model.cv_results_)"
   ]
  },
  {
   "cell_type": "code",
   "execution_count": 22,
   "metadata": {},
   "outputs": [
    {
     "data": {
      "text/html": [
       "<style type=\"text/css\">\n",
       "</style>\n",
       "<table id=\"T_04ebb\">\n",
       "  <thead>\n",
       "    <tr>\n",
       "      <th id=\"T_04ebb_level0_col0\" class=\"col_heading level0 col0\" >depth</th>\n",
       "      <th id=\"T_04ebb_level0_col1\" class=\"col_heading level0 col1\" >f1_weighted</th>\n",
       "      <th id=\"T_04ebb_level0_col2\" class=\"col_heading level0 col2\" >f1_weightedSD</th>\n",
       "    </tr>\n",
       "  </thead>\n",
       "  <tbody>\n",
       "    <tr>\n",
       "      <td id=\"T_04ebb_row0_col0\" class=\"data row0 col0\" >1</td>\n",
       "      <td id=\"T_04ebb_row0_col1\" class=\"data row0 col1\" >0.753107</td>\n",
       "      <td id=\"T_04ebb_row0_col2\" class=\"data row0 col2\" >0.023325</td>\n",
       "    </tr>\n",
       "    <tr>\n",
       "      <td id=\"T_04ebb_row1_col0\" class=\"data row1 col0\" >2</td>\n",
       "      <td id=\"T_04ebb_row1_col1\" class=\"data row1 col1\" >0.753324</td>\n",
       "      <td id=\"T_04ebb_row1_col2\" class=\"data row1 col2\" >0.021350</td>\n",
       "    </tr>\n",
       "    <tr>\n",
       "      <td id=\"T_04ebb_row2_col0\" class=\"data row2 col0\" >3</td>\n",
       "      <td id=\"T_04ebb_row2_col1\" class=\"data row2 col1\" >0.786010</td>\n",
       "      <td id=\"T_04ebb_row2_col2\" class=\"data row2 col2\" >0.021802</td>\n",
       "    </tr>\n",
       "    <tr>\n",
       "      <td id=\"T_04ebb_row3_col0\" class=\"data row3 col0\" >4</td>\n",
       "      <td id=\"T_04ebb_row3_col1\" class=\"data row3 col1\" >0.788463</td>\n",
       "      <td id=\"T_04ebb_row3_col2\" class=\"data row3 col2\" >0.019326</td>\n",
       "    </tr>\n",
       "    <tr>\n",
       "      <td id=\"T_04ebb_row4_col0\" class=\"data row4 col0\" >5</td>\n",
       "      <td id=\"T_04ebb_row4_col1\" class=\"data row4 col1\" >0.794892</td>\n",
       "      <td id=\"T_04ebb_row4_col2\" class=\"data row4 col2\" >0.019314</td>\n",
       "    </tr>\n",
       "    <tr>\n",
       "      <td id=\"T_04ebb_row5_col0\" class=\"data row5 col0\" >6</td>\n",
       "      <td id=\"T_04ebb_row5_col1\" class=\"data row5 col1\" >0.793390</td>\n",
       "      <td id=\"T_04ebb_row5_col2\" class=\"data row5 col2\" >0.020623</td>\n",
       "    </tr>\n",
       "    <tr>\n",
       "      <td id=\"T_04ebb_row6_col0\" class=\"data row6 col0\" >7</td>\n",
       "      <td id=\"T_04ebb_row6_col1\" class=\"data row6 col1\" >0.792442</td>\n",
       "      <td id=\"T_04ebb_row6_col2\" class=\"data row6 col2\" >0.020703</td>\n",
       "    </tr>\n",
       "    <tr>\n",
       "      <td id=\"T_04ebb_row7_col0\" class=\"data row7 col0\" >8</td>\n",
       "      <td id=\"T_04ebb_row7_col1\" class=\"data row7 col1\" >0.789173</td>\n",
       "      <td id=\"T_04ebb_row7_col2\" class=\"data row7 col2\" >0.020162</td>\n",
       "    </tr>\n",
       "    <tr>\n",
       "      <td id=\"T_04ebb_row8_col0\" class=\"data row8 col0\" >9</td>\n",
       "      <td id=\"T_04ebb_row8_col1\" class=\"data row8 col1\" >0.788005</td>\n",
       "      <td id=\"T_04ebb_row8_col2\" class=\"data row8 col2\" >0.023603</td>\n",
       "    </tr>\n",
       "    <tr>\n",
       "      <td id=\"T_04ebb_row9_col0\" class=\"data row9 col0\" >10</td>\n",
       "      <td id=\"T_04ebb_row9_col1\" class=\"data row9 col1\" >0.783608</td>\n",
       "      <td id=\"T_04ebb_row9_col2\" class=\"data row9 col2\" >0.020250</td>\n",
       "    </tr>\n",
       "    <tr>\n",
       "      <td id=\"T_04ebb_row10_col0\" class=\"data row10 col0\" >11</td>\n",
       "      <td id=\"T_04ebb_row10_col1\" class=\"data row10 col1\" >0.782379</td>\n",
       "      <td id=\"T_04ebb_row10_col2\" class=\"data row10 col2\" >0.020748</td>\n",
       "    </tr>\n",
       "  </tbody>\n",
       "</table>\n"
      ],
      "text/plain": [
       "<pandas.io.formats.style.Styler at 0xffff893c4980>"
      ]
     },
     "execution_count": 22,
     "metadata": {},
     "output_type": "execute_result"
    }
   ],
   "source": [
    "# extracting scores to view model\n",
    "\n",
    "# scores: \n",
    "f1_w = model.cv_results_['mean_test_score']\n",
    "SD_f1_w = model.cv_results_['std_test_score']\n",
    "\n",
    "# parameter:\n",
    "depth= np.unique(model.cv_results_['param_max_depth']).data\n",
    "\n",
    "# building dataframe\n",
    "final_model = pd.DataFrame(list(zip(depth, \n",
    "                                    f1_w, \n",
    "                                    SD_f1_w)),\n",
    "                           columns=['depth', 'f1_weighted', 'f1_weightedSD'])\n",
    "\n",
    "# final model\n",
    "final_model.style.hide(axis='index')\n",
    "\n",
    "# The model seems to be performing well with the metrics that I have chosen. "
   ]
  },
  {
   "cell_type": "code",
   "execution_count": 23,
   "metadata": {},
   "outputs": [
    {
     "name": "stdout",
     "output_type": "stream",
     "text": [
      "[<matplotlib.lines.Line2D object at 0xffff893ca300>]\n"
     ]
    },
    {
     "data": {
      "image/png": "[encoded data removed]",
      "text/plain": [
       "<Figure size 640x480 with 1 Axes>"
      ]
     },
     "metadata": {},
     "output_type": "display_data"
    }
   ],
   "source": [
    "# checking the depth\n",
    "print(plt.plot(final_model.depth,final_model.f1_weighted))"
   ]
  },
  {
   "cell_type": "code",
   "execution_count": null,
   "metadata": {},
   "outputs": [
    {
     "name": "stdout",
     "output_type": "stream",
     "text": [
      "                           importance\n",
      "num_voted_users              0.559471\n",
      "genres_Other                 0.108349\n",
      "budget                       0.106753\n",
      "cast_total_facebook_likes    0.076477\n",
      "gross                        0.050940\n",
      "director_facebook_likes      0.039727\n",
      "country_USA                  0.031240\n",
      "num_critic_for_reviews       0.016529\n",
      "num_user_for_reviews         0.005857\n",
      "actor_1_facebook_likes       0.004656\n",
      "country_UK                   0.000000\n",
      "content_rating_PG-13         0.000000\n",
      "content_rating_Other         0.000000\n",
      "genres_Action                0.000000\n",
      "country_Other                0.000000\n",
      "genres_Comedy                0.000000\n",
      "movie_facebook_likes         0.000000\n",
      "content_rating_R             0.000000\n"
     ]
    }
   ],
   "source": [
    "# variable importance\n",
    "varimp = pd.DataFrame(best.feature_importances_,index = X.columns,columns=['importance']).sort_values('importance', ascending=False)\n",
    "print(varimp)\n",
    "\n",
    "# num_voted_users and genres_others seem to have the most importance"
   ]
  },
  {
   "cell_type": "code",
   "execution_count": null,
   "metadata": {},
   "outputs": [
    {
     "name": "stdout",
     "output_type": "stream",
     "text": [
      "Predictions on Tune Data:\n",
      "[1. 0. 0. 0. 0. 1. 0. 0. 0. 0. 0. 0. 0. 0. 0. 0. 0. 0. 0. 0. 0. 1. 0. 1.\n",
      " 0. 0. 0. 0. 0. 0. 0. 0. 0. 0. 1. 1. 1. 0. 0. 1. 1. 0. 0. 1. 0. 1. 0. 0.\n",
      " 1. 1. 0. 0. 0. 0. 0. 0. 0. 0. 0. 0. 0. 0. 1. 0. 0. 0. 1. 0. 0. 1. 0. 0.\n",
      " 0. 0. 0. 0. 1. 0. 0. 0. 0. 0. 0. 0. 0. 0. 0. 1. 0. 1. 0. 0. 0. 0. 0. 0.\n",
      " 0. 0. 0. 0. 0. 1. 1. 1. 0. 0. 0. 0. 0. 0. 0. 0. 0. 0. 0. 0. 0. 0. 0. 0.\n",
      " 1. 1. 0. 0. 0. 0. 0. 0. 1. 0. 0. 0. 1. 1. 0. 0. 0. 0. 0. 0. 0. 0. 0. 0.\n",
      " 0. 0. 0. 0. 1. 0. 0. 0. 0. 1. 1. 0. 0. 0. 0. 0. 0. 0. 0. 0. 0. 0. 1. 0.\n",
      " 0. 0. 0. 0. 0. 0. 0. 0. 0. 0. 0. 0. 1. 1. 0. 0. 0. 1. 0. 0. 0. 0. 1. 0.\n",
      " 0. 0. 0. 0. 0. 0. 0. 0. 0. 0. 0. 0. 0. 1. 0. 1. 0. 0. 0. 0. 0. 0. 0. 0.\n",
      " 0. 0. 0. 0. 0. 1. 0. 0. 1. 0. 1. 0. 0. 1. 0. 1. 0. 0. 1. 0. 0. 0. 0. 0.\n",
      " 1. 0. 0. 0. 0. 0. 1. 0. 0. 0. 0. 0. 0. 0. 0. 0. 0. 0. 0. 1. 0. 0. 0. 0.\n",
      " 0. 0. 0. 0. 0. 0. 1. 1. 0. 0. 0. 0. 0. 0. 0. 0. 0. 0. 0. 0. 1. 0. 0. 0.\n",
      " 1. 0. 0. 0. 0. 1. 0. 0. 0. 0. 0. 0. 0. 0. 0. 0. 1. 0. 0. 0. 0. 0. 0. 0.\n",
      " 0. 0. 0. 0. 0. 1. 0. 0. 0. 1. 0. 0. 0. 0. 0. 0. 0. 0. 0. 0. 0. 0. 0. 0.\n",
      " 0. 0. 0. 1. 0. 0. 1. 0. 0. 0. 0. 1. 1. 0. 0. 0. 0. 0. 0. 0. 1. 0. 0. 0.\n",
      " 0. 0. 0. 0. 1. 0. 1. 1. 0. 0. 0. 0. 0. 0. 0. 0. 1. 1. 0. 0. 0. 0. 0. 1.\n",
      " 0. 0. 0. 0. 0.]\n",
      "\n",
      "F1-Weighted Score on Tune Data: 0.8245450144217984\n"
     ]
    }
   ],
   "source": [
    "# predicting on tuning data\n",
    "y_tune_pred = model.best_estimator_.predict(X_tune)\n",
    "\n",
    "# printing predictions\n",
    "print(\"Predictions on Tune Data:\")\n",
    "print(y_tune_pred)\n",
    "\n",
    "# evaluating performance\n",
    "from sklearn.metrics import f1_score\n",
    "f1_tune = f1_score(y_tune, y_tune_pred, average='weighted')\n",
    "print(\"\\nF1-Weighted Score on Tune Data:\", f1_tune)\n",
    "\n",
    "# The model's performance increased on the tuning set."
   ]
  },
  {
   "cell_type": "code",
   "execution_count": null,
   "metadata": {},
   "outputs": [
    {
     "name": "stdout",
     "output_type": "stream",
     "text": [
      "<sklearn.metrics._plot.confusion_matrix.ConfusionMatrixDisplay object at 0xffff893b40b0>\n"
     ]
    },
    {
     "data": {
      "image/png": "[encoded data removed]",
      "text/plain": [
       "<Figure size 640x480 with 2 Axes>"
      ]
     },
     "metadata": {},
     "output_type": "display_data"
    }
   ],
   "source": [
    "# confusion matrix\n",
    "print(ConfusionMatrixDisplay.from_estimator(best,X_tune,y_tune, display_labels = \n",
    "                                            ['Avg','Top'], colorbar=True))\n",
    "\n",
    "# This confusion matrix is telling me that the model performed well in predicting most of the\n",
    "# average movies (0s) correctly, with only a few false positives (1s predicted as 0s).\n",
    "\n",
    "# The model also correctly identified a good number of top-rated movies (1s)\n",
    "# but there were some false negatives (0s predicted as 1s)."
   ]
  },
  {
   "cell_type": "code",
   "execution_count": 37,
   "metadata": {},
   "outputs": [
    {
     "name": "stdout",
     "output_type": "stream",
     "text": [
      "Top 3 Movies with Highest IMDb Scores:\n",
      "      movie_title  top_imdb_score\n",
      "3392        Prom              1.0\n",
      "490     The Edge              1.0\n",
      "1352  Angel Eyes              1.0\n"
     ]
    }
   ],
   "source": [
    "# top three movies \n",
    "tune_data = X_tune.copy()\n",
    "tune_data['top_imdb_score'] = y_tune \n",
    "\n",
    "top_movies = tune_data.sort_values(by='top_imdb_score', ascending=False)\n",
    "\n",
    "# Unfortunately, when I was cleaning in the first part, I removed the movie titles.\n",
    "# Merging the original dataset to get the movie titles back.\n",
    "\n",
    "mm = pd.read_csv(\"../data/movie_metadata.csv\")\n",
    "\n",
    "if 'movie_title' in mm.columns:\n",
    "\ttop_movies = top_movies.merge(mm[['movie_title']], left_index=True, right_index=True, how='left')\n",
    "\ttop_movies = top_movies[['movie_title', 'top_imdb_score']]\n",
    "\tprint(\"Top 3 Movies with Highest IMDb Scores:\")\n",
    "\tprint(top_movies.sort_values(by='top_imdb_score', ascending=False).head(3))"
   ]
  },
  {
   "cell_type": "code",
   "execution_count": 38,
   "metadata": {},
   "outputs": [
    {
     "name": "stdout",
     "output_type": "stream",
     "text": [
      "DecisionTreeClassifier(criterion='entropy', random_state=1000)\n"
     ]
    }
   ],
   "source": [
    "# different hyperparameter\n",
    "\n",
    "scoring = 'f1_weighted'\n",
    "param2 = {\"criterion\" : ['gini', 'entropy']}\n",
    "\n",
    "# fitting model\n",
    "cl2= DecisionTreeClassifier(random_state=1000)\n",
    "\n",
    "# search for best DecisionTreeClassifier estimator across all folds based f1_weighted\n",
    "search2 = GridSearchCV(cl2, param2, scoring=scoring, n_jobs=-1, cv=kf,refit='f1_weighted')\n",
    "\n",
    "# execute on training data\n",
    "model2 = search2.fit(X_train, y_train)\n",
    "\n",
    "# best hyperparameters and score\n",
    "best2 = model2.best_estimator_\n",
    "print(best2) "
   ]
  },
  {
   "cell_type": "code",
   "execution_count": null,
   "metadata": {},
   "outputs": [
    {
     "data": {
      "text/html": [
       "<style type=\"text/css\">\n",
       "</style>\n",
       "<table id=\"T_615f6\">\n",
       "  <thead>\n",
       "    <tr>\n",
       "      <th id=\"T_615f6_level0_col0\" class=\"col_heading level0 col0\" >crit</th>\n",
       "      <th id=\"T_615f6_level0_col1\" class=\"col_heading level0 col1\" >f1_weighted</th>\n",
       "      <th id=\"T_615f6_level0_col2\" class=\"col_heading level0 col2\" >f1_weightedSD</th>\n",
       "    </tr>\n",
       "  </thead>\n",
       "  <tbody>\n",
       "    <tr>\n",
       "      <td id=\"T_615f6_row0_col0\" class=\"data row0 col0\" >1</td>\n",
       "      <td id=\"T_615f6_row0_col1\" class=\"data row0 col1\" >0.771416</td>\n",
       "      <td id=\"T_615f6_row0_col2\" class=\"data row0 col2\" >0.021339</td>\n",
       "    </tr>\n",
       "    <tr>\n",
       "      <td id=\"T_615f6_row1_col0\" class=\"data row1 col0\" >2</td>\n",
       "      <td id=\"T_615f6_row1_col1\" class=\"data row1 col1\" >0.773903</td>\n",
       "      <td id=\"T_615f6_row1_col2\" class=\"data row1 col2\" >0.026886</td>\n",
       "    </tr>\n",
       "  </tbody>\n",
       "</table>\n"
      ],
      "text/plain": [
       "<pandas.io.formats.style.Styler at 0xffff89205eb0>"
      ]
     },
     "execution_count": 40,
     "metadata": {},
     "output_type": "execute_result"
    }
   ],
   "source": [
    "# extracting scores to view model\n",
    "\n",
    "# scores: \n",
    "f1_w = model2.cv_results_['mean_test_score']\n",
    "SD_f1_w = model2.cv_results_['std_test_score']\n",
    "\n",
    "# parameter:\n",
    "crit = np.unique(model2.cv_results_['param_criterion']).data\n",
    "\n",
    "# building dataframe\n",
    "final_model2 = pd.DataFrame(list(zip(depth, \n",
    "                                    f1_w, \n",
    "                                    SD_f1_w)),\n",
    "                           columns=['crit', 'f1_weighted', 'f1_weightedSD'])\n",
    "\n",
    "# final model\n",
    "final_model2.style.hide(axis='index')\n",
    "\n",
    "# The model performed well but not better than my first model with max_depth as the hyperparameter."
   ]
  },
  {
   "cell_type": "code",
   "execution_count": null,
   "metadata": {},
   "outputs": [
    {
     "name": "stdout",
     "output_type": "stream",
     "text": [
      "Predictions on Test Data:\n",
      "[0. 0. 1. 0. 0. 0. 0. 0. 0. 0. 1. 0. 0. 0. 0. 0. 0. 0. 0. 0. 0. 0. 0. 0.\n",
      " 0. 0. 0. 0. 1. 1. 0. 0. 0. 0. 0. 0. 0. 0. 0. 0. 0. 0. 0. 0. 0. 0. 0. 0.\n",
      " 0. 0. 0. 1. 0. 0. 1. 1. 0. 0. 1. 0. 0. 0. 0. 1. 0. 0. 1. 0. 0. 0. 0. 0.\n",
      " 0. 0. 0. 0. 0. 0. 0. 1. 1. 0. 0. 0. 0. 0. 0. 0. 0. 0. 1. 0. 0. 0. 0. 0.\n",
      " 0. 0. 0. 0. 0. 1. 0. 0. 0. 1. 0. 0. 0. 0. 0. 0. 0. 1. 0. 0. 0. 1. 0. 0.\n",
      " 0. 0. 0. 0. 0. 0. 0. 0. 0. 1. 0. 0. 0. 0. 0. 0. 0. 1. 1. 0. 0. 0. 0. 0.\n",
      " 1. 0. 1. 0. 1. 0. 1. 0. 1. 1. 0. 0. 1. 0. 1. 0. 1. 0. 0. 0. 0. 0. 0. 0.\n",
      " 0. 0. 0. 0. 0. 0. 0. 0. 0. 0. 0. 1. 0. 0. 0. 0. 0. 0. 1. 0. 1. 1. 0. 0.\n",
      " 0. 1. 0. 0. 0. 0. 0. 0. 0. 1. 0. 0. 0. 1. 1. 0. 0. 1. 1. 0. 0. 0. 0. 0.\n",
      " 0. 0. 0. 0. 0. 0. 0. 0. 0. 0. 0. 0. 0. 0. 0. 0. 0. 0. 1. 0. 0. 0. 1. 0.\n",
      " 0. 0. 0. 1. 0. 0. 0. 0. 0. 0. 0. 1. 0. 0. 0. 0. 1. 0. 0. 0. 0. 0. 0. 1.\n",
      " 1. 0. 0. 0. 0. 0. 0. 0. 1. 0. 0. 0. 0. 1. 1. 0. 0. 1. 1. 1. 0. 0. 0. 0.\n",
      " 0. 0. 0. 0. 1. 0. 0. 0. 0. 0. 0. 0. 0. 0. 0. 0. 0. 1. 1. 0. 0. 1. 1. 0.\n",
      " 1. 0. 0. 1. 0. 0. 0. 0. 1. 1. 0. 0. 1. 0. 0. 0. 1. 1. 0. 0. 0. 0. 0. 0.\n",
      " 0. 0. 0. 0. 0. 0. 0. 0. 0. 0. 0. 0. 0. 0. 0. 1. 0. 0. 0. 0. 0. 0. 1. 1.\n",
      " 0. 1. 0. 0. 0. 1. 0. 1. 0. 0. 1. 0. 0. 1. 0. 0. 0. 0. 1. 0. 0. 0. 1. 0.\n",
      " 0. 0. 0. 0. 0.]\n",
      "\n",
      "F1-Weighted Score on Test Data: 0.8366165044337251\n"
     ]
    }
   ],
   "source": [
    "# predicting test data \n",
    "y_test_pred = model.best_estimator_.predict(X_test)\n",
    "\n",
    "# printing predictions\n",
    "print(\"Predictions on Test Data:\")\n",
    "print(y_test_pred)\n",
    "\n",
    "# evaluating performance\n",
    "f1_test = f1_score(y_test, y_test_pred, average='weighted')\n",
    "print(\"\\nF1-Weighted Score on Test Data:\", f1_test)\n",
    "\n",
    "# The F1-Weighted Score on the test data is approx 0.836, which indicates that the model is performing well on unseen data."
   ]
  },
  {
   "cell_type": "markdown",
   "metadata": {},
   "source": [
    "**Final Recommendation:**\n",
    "\n",
    "The Decision Tree Classification Model can be used to predict movie success based on the features provided. I learned that I need to one-hot-encode my categorical variables because the sci-kit learn package only takes numerical variables to make decisions and that I need to collapse my target variable to also be numeric. \n",
    "\n",
    "\n",
    "My model's accuracy on the test data is higher than usual, but this is also because I dropped some features that I believed were not relevant. However, everyone's idea of a \"good\" movie is different so it is truly difficult to determine a final recommendation. But for now, my final recommendation would be to use this model to predict movie success if there is a large number of votes and a genre that is not in the 'Comedy' or 'Action' category.\n"
   ]
  }
 ],
 "metadata": {
  "kernelspec": {
   "display_name": "Python 3",
   "language": "python",
   "name": "python3"
  },
  "language_info": {
   "codemirror_mode": {
    "name": "ipython",
    "version": 3
   },
   "file_extension": ".py",
   "mimetype": "text/x-python",
   "name": "python",
   "nbconvert_exporter": "python",
   "pygments_lexer": "ipython3",
   "version": "3.12.7"
  }
 },
 "nbformat": 4,
 "nbformat_minor": 2
}
