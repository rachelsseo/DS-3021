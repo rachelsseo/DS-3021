{
 "cells": [
  {
   "cell_type": "markdown",
   "metadata": {},
   "source": [
    "Congrats! You just graduated UVA's BSDS program and got a job working at a movie studio in Hollywood. \n",
    "\n",
    "Your boss is the head of the studio and wants to know if they can gain a competitive advantage by predicting new movies that might get high imdb scores (movie rating). \n",
    "\n",
    "You would like to be able to explain the model to mere mortals but need a fairly robust and flexible approach so you've chosen to use decision trees to get started. \n",
    "\n",
    "In doing so, similar to  great data scientists of the past you remembered the excellent education provided to you at UVA in a undergrad data science course and have outline 20ish steps that will need to be undertaken to complete this task. As always, you will need to make sure to #comment your work heavily. \n",
    "\n",
    " Footnotes: \n",
    "-\tYou can add or combine steps if needed\n",
    "-\tAlso, remember to try several methods during evaluation and always be mindful of how the model will be used in practice.\n",
    "- Make sure all your variables are the correct type (factor, character,numeric, etc.)"
   ]
  },
  {
   "cell_type": "code",
   "execution_count": 1,
   "metadata": {},
   "outputs": [],
   "source": [
    "import pandas as pd\n",
    "import numpy as np"
   ]
  },
  {
   "cell_type": "markdown",
   "metadata": {},
   "source": [
    "1 Load the data."
   ]
  },
  {
   "cell_type": "code",
   "execution_count": 2,
   "metadata": {},
   "outputs": [],
   "source": [
    "# data loading\n",
    "movie_metadata=pd.read_csv(\"../data/movie_metadata.csv\")"
   ]
  },
  {
   "cell_type": "code",
   "execution_count": 3,
   "metadata": {},
   "outputs": [
    {
     "name": "stdout",
     "output_type": "stream",
     "text": [
      "Numeric columns in the dataset:\n",
      "['num_critic_for_reviews', 'duration', 'director_facebook_likes', 'actor_3_facebook_likes', 'actor_1_facebook_likes', 'gross', 'num_voted_users', 'cast_total_facebook_likes', 'facenumber_in_poster', 'num_user_for_reviews', 'budget', 'title_year', 'actor_2_facebook_likes', 'imdb_score', 'aspect_ratio', 'movie_facebook_likes']\n"
     ]
    }
   ],
   "source": [
    "# EDA \n",
    "\n",
    "# list all numeric columns\n",
    "numeric_columns = movie_metadata.select_dtypes(include=[np.number]).columns.tolist()\n",
    "print(\"Numeric columns in the dataset:\")\n",
    "print(numeric_columns)\n",
    "\n",
    "# relevant columns for analysis\n",
    "# num_critic_for_reviews, actor_1_facebook_likes, num_voted_users, num_user_for_reviews, gross, cast_total_facebook_likes, budget, title_year, imdb_score, movie_facebook_likes"
   ]
  },
  {
   "cell_type": "code",
   "execution_count": 4,
   "metadata": {},
   "outputs": [
    {
     "name": "stdout",
     "output_type": "stream",
     "text": [
      "\n",
      "Categorical columns in the dataset:\n",
      "['color', 'director_name', 'actor_2_name', 'genres', 'actor_1_name', 'movie_title', 'actor_3_name', 'plot_keywords', 'movie_imdb_link', 'language', 'country', 'content_rating']\n"
     ]
    }
   ],
   "source": [
    "# list all categorical columns\n",
    "categorical_columns = movie_metadata.select_dtypes(include=[object]).columns.tolist()\n",
    "print(\"\\nCategorical columns in the dataset:\")\n",
    "print(categorical_columns)\n",
    "\n",
    "# relevant columns for analysis\n",
    "# director_name, genres, actor_1_name, movie_title, country, content_rating"
   ]
  },
  {
   "cell_type": "code",
   "execution_count": 5,
   "metadata": {},
   "outputs": [
    {
     "data": {
      "text/html": [
       "<div>\n",
       "<style scoped>\n",
       "    .dataframe tbody tr th:only-of-type {\n",
       "        vertical-align: middle;\n",
       "    }\n",
       "\n",
       "    .dataframe tbody tr th {\n",
       "        vertical-align: top;\n",
       "    }\n",
       "\n",
       "    .dataframe thead th {\n",
       "        text-align: right;\n",
       "    }\n",
       "</style>\n",
       "<table border=\"1\" class=\"dataframe\">\n",
       "  <thead>\n",
       "    <tr style=\"text-align: right;\">\n",
       "      <th></th>\n",
       "      <th>director_name</th>\n",
       "      <th>num_critic_for_reviews</th>\n",
       "      <th>director_facebook_likes</th>\n",
       "      <th>actor_1_facebook_likes</th>\n",
       "      <th>gross</th>\n",
       "      <th>genres</th>\n",
       "      <th>actor_1_name</th>\n",
       "      <th>movie_title</th>\n",
       "      <th>num_voted_users</th>\n",
       "      <th>cast_total_facebook_likes</th>\n",
       "      <th>num_user_for_reviews</th>\n",
       "      <th>country</th>\n",
       "      <th>content_rating</th>\n",
       "      <th>budget</th>\n",
       "      <th>title_year</th>\n",
       "      <th>imdb_score</th>\n",
       "      <th>movie_facebook_likes</th>\n",
       "    </tr>\n",
       "  </thead>\n",
       "  <tbody>\n",
       "    <tr>\n",
       "      <th>0</th>\n",
       "      <td>James Cameron</td>\n",
       "      <td>723.0</td>\n",
       "      <td>0.0</td>\n",
       "      <td>1000.0</td>\n",
       "      <td>760505847.0</td>\n",
       "      <td>Action|Adventure|Fantasy|Sci-Fi</td>\n",
       "      <td>CCH Pounder</td>\n",
       "      <td>Avatar</td>\n",
       "      <td>886204</td>\n",
       "      <td>4834</td>\n",
       "      <td>3054.0</td>\n",
       "      <td>USA</td>\n",
       "      <td>PG-13</td>\n",
       "      <td>237000000.0</td>\n",
       "      <td>2009.0</td>\n",
       "      <td>7.9</td>\n",
       "      <td>33000</td>\n",
       "    </tr>\n",
       "    <tr>\n",
       "      <th>1</th>\n",
       "      <td>Gore Verbinski</td>\n",
       "      <td>302.0</td>\n",
       "      <td>563.0</td>\n",
       "      <td>40000.0</td>\n",
       "      <td>309404152.0</td>\n",
       "      <td>Action|Adventure|Fantasy</td>\n",
       "      <td>Johnny Depp</td>\n",
       "      <td>Pirates of the Caribbean: At World's End</td>\n",
       "      <td>471220</td>\n",
       "      <td>48350</td>\n",
       "      <td>1238.0</td>\n",
       "      <td>USA</td>\n",
       "      <td>PG-13</td>\n",
       "      <td>300000000.0</td>\n",
       "      <td>2007.0</td>\n",
       "      <td>7.1</td>\n",
       "      <td>0</td>\n",
       "    </tr>\n",
       "    <tr>\n",
       "      <th>2</th>\n",
       "      <td>Sam Mendes</td>\n",
       "      <td>602.0</td>\n",
       "      <td>0.0</td>\n",
       "      <td>11000.0</td>\n",
       "      <td>200074175.0</td>\n",
       "      <td>Action|Adventure|Thriller</td>\n",
       "      <td>Christoph Waltz</td>\n",
       "      <td>Spectre</td>\n",
       "      <td>275868</td>\n",
       "      <td>11700</td>\n",
       "      <td>994.0</td>\n",
       "      <td>UK</td>\n",
       "      <td>PG-13</td>\n",
       "      <td>245000000.0</td>\n",
       "      <td>2015.0</td>\n",
       "      <td>6.8</td>\n",
       "      <td>85000</td>\n",
       "    </tr>\n",
       "    <tr>\n",
       "      <th>3</th>\n",
       "      <td>Christopher Nolan</td>\n",
       "      <td>813.0</td>\n",
       "      <td>22000.0</td>\n",
       "      <td>27000.0</td>\n",
       "      <td>448130642.0</td>\n",
       "      <td>Action|Thriller</td>\n",
       "      <td>Tom Hardy</td>\n",
       "      <td>The Dark Knight Rises</td>\n",
       "      <td>1144337</td>\n",
       "      <td>106759</td>\n",
       "      <td>2701.0</td>\n",
       "      <td>USA</td>\n",
       "      <td>PG-13</td>\n",
       "      <td>250000000.0</td>\n",
       "      <td>2012.0</td>\n",
       "      <td>8.5</td>\n",
       "      <td>164000</td>\n",
       "    </tr>\n",
       "    <tr>\n",
       "      <th>4</th>\n",
       "      <td>Doug Walker</td>\n",
       "      <td>NaN</td>\n",
       "      <td>131.0</td>\n",
       "      <td>131.0</td>\n",
       "      <td>NaN</td>\n",
       "      <td>Documentary</td>\n",
       "      <td>Doug Walker</td>\n",
       "      <td>Star Wars: Episode VII - The Force Awakens    ...</td>\n",
       "      <td>8</td>\n",
       "      <td>143</td>\n",
       "      <td>NaN</td>\n",
       "      <td>NaN</td>\n",
       "      <td>NaN</td>\n",
       "      <td>NaN</td>\n",
       "      <td>NaN</td>\n",
       "      <td>7.1</td>\n",
       "      <td>0</td>\n",
       "    </tr>\n",
       "  </tbody>\n",
       "</table>\n",
       "</div>"
      ],
      "text/plain": [
       "       director_name  num_critic_for_reviews  director_facebook_likes  \\\n",
       "0      James Cameron                   723.0                      0.0   \n",
       "1     Gore Verbinski                   302.0                    563.0   \n",
       "2         Sam Mendes                   602.0                      0.0   \n",
       "3  Christopher Nolan                   813.0                  22000.0   \n",
       "4        Doug Walker                     NaN                    131.0   \n",
       "\n",
       "   actor_1_facebook_likes        gross                           genres  \\\n",
       "0                  1000.0  760505847.0  Action|Adventure|Fantasy|Sci-Fi   \n",
       "1                 40000.0  309404152.0         Action|Adventure|Fantasy   \n",
       "2                 11000.0  200074175.0        Action|Adventure|Thriller   \n",
       "3                 27000.0  448130642.0                  Action|Thriller   \n",
       "4                   131.0          NaN                      Documentary   \n",
       "\n",
       "      actor_1_name                                        movie_title  \\\n",
       "0      CCH Pounder                                            Avatar    \n",
       "1      Johnny Depp          Pirates of the Caribbean: At World's End    \n",
       "2  Christoph Waltz                                           Spectre    \n",
       "3        Tom Hardy                             The Dark Knight Rises    \n",
       "4      Doug Walker  Star Wars: Episode VII - The Force Awakens    ...   \n",
       "\n",
       "   num_voted_users  cast_total_facebook_likes  num_user_for_reviews country  \\\n",
       "0           886204                       4834                3054.0     USA   \n",
       "1           471220                      48350                1238.0     USA   \n",
       "2           275868                      11700                 994.0      UK   \n",
       "3          1144337                     106759                2701.0     USA   \n",
       "4                8                        143                   NaN     NaN   \n",
       "\n",
       "  content_rating       budget  title_year  imdb_score  movie_facebook_likes  \n",
       "0          PG-13  237000000.0      2009.0         7.9                 33000  \n",
       "1          PG-13  300000000.0      2007.0         7.1                     0  \n",
       "2          PG-13  245000000.0      2015.0         6.8                 85000  \n",
       "3          PG-13  250000000.0      2012.0         8.5                164000  \n",
       "4            NaN          NaN         NaN         7.1                     0  "
      ]
     },
     "execution_count": 5,
     "metadata": {},
     "output_type": "execute_result"
    }
   ],
   "source": [
    "# drop irrelevant columns\n",
    "columns = ['duration', 'actor_3_facebook_likes', 'facenumber_in_poster', 'actor_2_facebook_likes', 'aspect_ratio', 'color',\n",
    "           'actor_2_name', 'actor_3_name', 'plot_keywords', 'movie_imdb_link', 'language']\n",
    "movie_metadata.drop(columns=columns, inplace=True)\n",
    "movie_metadata.reset_index(drop=True, inplace=True)\n",
    "\n",
    "\n",
    "movie_metadata.head()"
   ]
  },
  {
   "cell_type": "markdown",
   "metadata": {},
   "source": [
    "2 Ensure all the variables are classified correctly including the target variable and collapse factor variables as needed."
   ]
  },
  {
   "cell_type": "code",
   "execution_count": 6,
   "metadata": {},
   "outputs": [
    {
     "name": "stdout",
     "output_type": "stream",
     "text": [
      "<class 'pandas.core.frame.DataFrame'>\n",
      "RangeIndex: 5043 entries, 0 to 5042\n",
      "Data columns (total 17 columns):\n",
      " #   Column                     Non-Null Count  Dtype  \n",
      "---  ------                     --------------  -----  \n",
      " 0   director_name              4939 non-null   object \n",
      " 1   num_critic_for_reviews     4993 non-null   float64\n",
      " 2   director_facebook_likes    4939 non-null   float64\n",
      " 3   actor_1_facebook_likes     5036 non-null   float64\n",
      " 4   gross                      4159 non-null   float64\n",
      " 5   genres                     5043 non-null   object \n",
      " 6   actor_1_name               5036 non-null   object \n",
      " 7   movie_title                5043 non-null   object \n",
      " 8   num_voted_users            5043 non-null   int64  \n",
      " 9   cast_total_facebook_likes  5043 non-null   int64  \n",
      " 10  num_user_for_reviews       5022 non-null   float64\n",
      " 11  country                    5038 non-null   object \n",
      " 12  content_rating             4740 non-null   object \n",
      " 13  budget                     4551 non-null   float64\n",
      " 14  title_year                 4935 non-null   float64\n",
      " 15  imdb_score                 5043 non-null   float64\n",
      " 16  movie_facebook_likes       5043 non-null   int64  \n",
      "dtypes: float64(8), int64(3), object(6)\n",
      "memory usage: 669.9+ KB\n"
     ]
    },
    {
     "data": {
      "text/plain": [
       "(5043, 17)"
      ]
     },
     "execution_count": 6,
     "metadata": {},
     "output_type": "execute_result"
    }
   ],
   "source": [
    "movie_metadata.info()\n",
    "movie_metadata.shape"
   ]
  },
  {
   "cell_type": "code",
   "execution_count": 7,
   "metadata": {},
   "outputs": [
    {
     "name": "stdout",
     "output_type": "stream",
     "text": [
      "\n",
      "Unique directors in the dataset:\n",
      "2399\n"
     ]
    }
   ],
   "source": [
    "# check unique values in director_name\n",
    "unique_directors = movie_metadata['director_name'].unique()\n",
    "print(\"\\nUnique directors in the dataset:\")\n",
    "print(len(unique_directors))"
   ]
  },
  {
   "cell_type": "code",
   "execution_count": 8,
   "metadata": {},
   "outputs": [
    {
     "data": {
      "text/html": [
       "<div>\n",
       "<style scoped>\n",
       "    .dataframe tbody tr th:only-of-type {\n",
       "        vertical-align: middle;\n",
       "    }\n",
       "\n",
       "    .dataframe tbody tr th {\n",
       "        vertical-align: top;\n",
       "    }\n",
       "\n",
       "    .dataframe thead th {\n",
       "        text-align: right;\n",
       "    }\n",
       "</style>\n",
       "<table border=\"1\" class=\"dataframe\">\n",
       "  <thead>\n",
       "    <tr style=\"text-align: right;\">\n",
       "      <th></th>\n",
       "      <th>director_name</th>\n",
       "      <th>num_critic_for_reviews</th>\n",
       "      <th>director_facebook_likes</th>\n",
       "      <th>actor_1_facebook_likes</th>\n",
       "      <th>gross</th>\n",
       "      <th>genres</th>\n",
       "      <th>actor_1_name</th>\n",
       "      <th>movie_title</th>\n",
       "      <th>num_voted_users</th>\n",
       "      <th>cast_total_facebook_likes</th>\n",
       "      <th>num_user_for_reviews</th>\n",
       "      <th>country</th>\n",
       "      <th>content_rating</th>\n",
       "      <th>budget</th>\n",
       "      <th>title_year</th>\n",
       "      <th>imdb_score</th>\n",
       "      <th>movie_facebook_likes</th>\n",
       "    </tr>\n",
       "  </thead>\n",
       "  <tbody>\n",
       "    <tr>\n",
       "      <th>0</th>\n",
       "      <td>James Cameron</td>\n",
       "      <td>723.0</td>\n",
       "      <td>0.0</td>\n",
       "      <td>1000.0</td>\n",
       "      <td>760505847.0</td>\n",
       "      <td>Action</td>\n",
       "      <td>CCH Pounder</td>\n",
       "      <td>Avatar</td>\n",
       "      <td>886204</td>\n",
       "      <td>4834</td>\n",
       "      <td>3054.0</td>\n",
       "      <td>USA</td>\n",
       "      <td>PG-13</td>\n",
       "      <td>237000000.0</td>\n",
       "      <td>2009.0</td>\n",
       "      <td>7.9</td>\n",
       "      <td>33000</td>\n",
       "    </tr>\n",
       "    <tr>\n",
       "      <th>1</th>\n",
       "      <td>Gore Verbinski</td>\n",
       "      <td>302.0</td>\n",
       "      <td>563.0</td>\n",
       "      <td>40000.0</td>\n",
       "      <td>309404152.0</td>\n",
       "      <td>Action</td>\n",
       "      <td>Johnny Depp</td>\n",
       "      <td>Pirates of the Caribbean: At World's End</td>\n",
       "      <td>471220</td>\n",
       "      <td>48350</td>\n",
       "      <td>1238.0</td>\n",
       "      <td>USA</td>\n",
       "      <td>PG-13</td>\n",
       "      <td>300000000.0</td>\n",
       "      <td>2007.0</td>\n",
       "      <td>7.1</td>\n",
       "      <td>0</td>\n",
       "    </tr>\n",
       "    <tr>\n",
       "      <th>2</th>\n",
       "      <td>Sam Mendes</td>\n",
       "      <td>602.0</td>\n",
       "      <td>0.0</td>\n",
       "      <td>11000.0</td>\n",
       "      <td>200074175.0</td>\n",
       "      <td>Action</td>\n",
       "      <td>Christoph Waltz</td>\n",
       "      <td>Spectre</td>\n",
       "      <td>275868</td>\n",
       "      <td>11700</td>\n",
       "      <td>994.0</td>\n",
       "      <td>UK</td>\n",
       "      <td>PG-13</td>\n",
       "      <td>245000000.0</td>\n",
       "      <td>2015.0</td>\n",
       "      <td>6.8</td>\n",
       "      <td>85000</td>\n",
       "    </tr>\n",
       "    <tr>\n",
       "      <th>3</th>\n",
       "      <td>Christopher Nolan</td>\n",
       "      <td>813.0</td>\n",
       "      <td>22000.0</td>\n",
       "      <td>27000.0</td>\n",
       "      <td>448130642.0</td>\n",
       "      <td>Action</td>\n",
       "      <td>Tom Hardy</td>\n",
       "      <td>The Dark Knight Rises</td>\n",
       "      <td>1144337</td>\n",
       "      <td>106759</td>\n",
       "      <td>2701.0</td>\n",
       "      <td>USA</td>\n",
       "      <td>PG-13</td>\n",
       "      <td>250000000.0</td>\n",
       "      <td>2012.0</td>\n",
       "      <td>8.5</td>\n",
       "      <td>164000</td>\n",
       "    </tr>\n",
       "    <tr>\n",
       "      <th>4</th>\n",
       "      <td>Doug Walker</td>\n",
       "      <td>NaN</td>\n",
       "      <td>131.0</td>\n",
       "      <td>131.0</td>\n",
       "      <td>NaN</td>\n",
       "      <td>Documentary</td>\n",
       "      <td>Doug Walker</td>\n",
       "      <td>Star Wars: Episode VII - The Force Awakens    ...</td>\n",
       "      <td>8</td>\n",
       "      <td>143</td>\n",
       "      <td>NaN</td>\n",
       "      <td>NaN</td>\n",
       "      <td>NaN</td>\n",
       "      <td>NaN</td>\n",
       "      <td>NaN</td>\n",
       "      <td>7.1</td>\n",
       "      <td>0</td>\n",
       "    </tr>\n",
       "  </tbody>\n",
       "</table>\n",
       "</div>"
      ],
      "text/plain": [
       "       director_name  num_critic_for_reviews  director_facebook_likes  \\\n",
       "0      James Cameron                   723.0                      0.0   \n",
       "1     Gore Verbinski                   302.0                    563.0   \n",
       "2         Sam Mendes                   602.0                      0.0   \n",
       "3  Christopher Nolan                   813.0                  22000.0   \n",
       "4        Doug Walker                     NaN                    131.0   \n",
       "\n",
       "   actor_1_facebook_likes        gross       genres     actor_1_name  \\\n",
       "0                  1000.0  760505847.0       Action      CCH Pounder   \n",
       "1                 40000.0  309404152.0       Action      Johnny Depp   \n",
       "2                 11000.0  200074175.0       Action  Christoph Waltz   \n",
       "3                 27000.0  448130642.0       Action        Tom Hardy   \n",
       "4                   131.0          NaN  Documentary      Doug Walker   \n",
       "\n",
       "                                         movie_title  num_voted_users  \\\n",
       "0                                            Avatar            886204   \n",
       "1          Pirates of the Caribbean: At World's End            471220   \n",
       "2                                           Spectre            275868   \n",
       "3                             The Dark Knight Rises           1144337   \n",
       "4  Star Wars: Episode VII - The Force Awakens    ...                8   \n",
       "\n",
       "   cast_total_facebook_likes  num_user_for_reviews country content_rating  \\\n",
       "0                       4834                3054.0     USA          PG-13   \n",
       "1                      48350                1238.0     USA          PG-13   \n",
       "2                      11700                 994.0      UK          PG-13   \n",
       "3                     106759                2701.0     USA          PG-13   \n",
       "4                        143                   NaN     NaN            NaN   \n",
       "\n",
       "        budget  title_year  imdb_score  movie_facebook_likes  \n",
       "0  237000000.0      2009.0         7.9                 33000  \n",
       "1  300000000.0      2007.0         7.1                     0  \n",
       "2  245000000.0      2015.0         6.8                 85000  \n",
       "3  250000000.0      2012.0         8.5                164000  \n",
       "4          NaN         NaN         7.1                     0  "
      ]
     },
     "execution_count": 8,
     "metadata": {},
     "output_type": "execute_result"
    }
   ],
   "source": [
    "# parsing 'genres' column to ensure it contains only the first genre\n",
    "def parse_genres(genres):\n",
    "    if isinstance(genres, str):  # Check if the value is a string\n",
    "        # Split the string by '|' and return the first genre\n",
    "        return genres.split('|')[0].strip()\n",
    "    elif isinstance(genres, list) and len(genres) > 0:  # If it's already a list, return the first element\n",
    "        return genres[0]\n",
    "    else:\n",
    "        return None  # Return None if the value is not a string or a non-empty list\n",
    "\n",
    "# applying\n",
    "movie_metadata['genres'] = movie_metadata['genres'].apply(parse_genres)\n",
    "\n",
    "# updated\n",
    "movie_metadata.head()"
   ]
  },
  {
   "cell_type": "code",
   "execution_count": 9,
   "metadata": {},
   "outputs": [
    {
     "name": "stdout",
     "output_type": "stream",
     "text": [
      "\n",
      "Unique genres in the dataset:\n",
      "21\n"
     ]
    }
   ],
   "source": [
    "# check unique values in genres \n",
    "unique_genres = movie_metadata['genres'].unique()\n",
    "print(\"\\nUnique genres in the dataset:\")\n",
    "print(len(unique_genres))"
   ]
  },
  {
   "cell_type": "code",
   "execution_count": 10,
   "metadata": {},
   "outputs": [
    {
     "name": "stdout",
     "output_type": "stream",
     "text": [
      "\n",
      "Unique countries in the dataset:\n",
      "66\n"
     ]
    }
   ],
   "source": [
    "# unique values in country \n",
    "unique_countries = movie_metadata['country'].unique()\n",
    "print(\"\\nUnique countries in the dataset:\")\n",
    "print(len(unique_countries))"
   ]
  },
  {
   "cell_type": "code",
   "execution_count": 11,
   "metadata": {},
   "outputs": [
    {
     "name": "stdout",
     "output_type": "stream",
     "text": [
      "\n",
      "Unique title_year values in the dataset:\n",
      "92\n"
     ]
    }
   ],
   "source": [
    "# unique title_year values \n",
    "unique_years = movie_metadata['title_year'].unique()\n",
    "print(\"\\nUnique title_year values in the dataset:\")\n",
    "print(len(unique_years))"
   ]
  },
  {
   "cell_type": "code",
   "execution_count": 22,
   "metadata": {},
   "outputs": [
    {
     "name": "stdout",
     "output_type": "stream",
     "text": [
      "\n",
      "Unique actor_1_name values in the dataset:\n",
      "1472\n"
     ]
    }
   ],
   "source": [
    "# unique actor_1_name values\n",
    "unique_actors = movie_metadata['actor_1_name'].unique()\n",
    "print(\"\\nUnique actor_1_name values in the dataset:\")\n",
    "print(len(unique_actors))\n"
   ]
  },
  {
   "cell_type": "code",
   "execution_count": 21,
   "metadata": {},
   "outputs": [
    {
     "name": "stdout",
     "output_type": "stream",
     "text": [
      "<class 'pandas.core.frame.DataFrame'>\n",
      "RangeIndex: 3838 entries, 0 to 3837\n",
      "Data columns (total 17 columns):\n",
      " #   Column                     Non-Null Count  Dtype   \n",
      "---  ------                     --------------  -----   \n",
      " 0   director_name              3838 non-null   category\n",
      " 1   num_critic_for_reviews     3838 non-null   float64 \n",
      " 2   director_facebook_likes    3838 non-null   float64 \n",
      " 3   actor_1_facebook_likes     3838 non-null   float64 \n",
      " 4   gross                      3838 non-null   float64 \n",
      " 5   genres                     3838 non-null   category\n",
      " 6   actor_1_name               3838 non-null   object  \n",
      " 7   movie_title                3838 non-null   object  \n",
      " 8   num_voted_users            3838 non-null   int64   \n",
      " 9   cast_total_facebook_likes  3838 non-null   int64   \n",
      " 10  num_user_for_reviews       3838 non-null   float64 \n",
      " 11  country                    3838 non-null   category\n",
      " 12  content_rating             3838 non-null   category\n",
      " 13  budget                     3838 non-null   float64 \n",
      " 14  title_year                 3838 non-null   category\n",
      " 15  imdb_score                 3838 non-null   float64 \n",
      " 16  movie_facebook_likes       3838 non-null   int64   \n",
      "dtypes: category(5), float64(7), int64(3), object(2)\n",
      "memory usage: 379.9+ KB\n"
     ]
    }
   ],
   "source": [
    "# collapse countries, genres, title_years, and director names to categorical values\n",
    "\n",
    "movie_metadata['country'] = movie_metadata['country'].astype('category')\n",
    "movie_metadata['genres'] = movie_metadata['genres'].astype('category')\n",
    "movie_metadata['title_year'] = movie_metadata['title_year'].astype('category')\n",
    "movie_metadata['director_name'] = movie_metadata['director_name'].astype('category')\n",
    "movie_metadata['content_rating'] = movie_metadata['content_rating'].astype('category')\n",
    "\n",
    "movie_metadata.info()\n"
   ]
  },
  {
   "cell_type": "code",
   "execution_count": 13,
   "metadata": {},
   "outputs": [
    {
     "data": {
      "text/html": [
       "<div>\n",
       "<style scoped>\n",
       "    .dataframe tbody tr th:only-of-type {\n",
       "        vertical-align: middle;\n",
       "    }\n",
       "\n",
       "    .dataframe tbody tr th {\n",
       "        vertical-align: top;\n",
       "    }\n",
       "\n",
       "    .dataframe thead th {\n",
       "        text-align: right;\n",
       "    }\n",
       "</style>\n",
       "<table border=\"1\" class=\"dataframe\">\n",
       "  <thead>\n",
       "    <tr style=\"text-align: right;\">\n",
       "      <th></th>\n",
       "      <th>director_name</th>\n",
       "      <th>num_critic_for_reviews</th>\n",
       "      <th>director_facebook_likes</th>\n",
       "      <th>actor_1_facebook_likes</th>\n",
       "      <th>gross</th>\n",
       "      <th>genres</th>\n",
       "      <th>actor_1_name</th>\n",
       "      <th>movie_title</th>\n",
       "      <th>num_voted_users</th>\n",
       "      <th>cast_total_facebook_likes</th>\n",
       "      <th>num_user_for_reviews</th>\n",
       "      <th>country</th>\n",
       "      <th>content_rating</th>\n",
       "      <th>budget</th>\n",
       "      <th>title_year</th>\n",
       "      <th>imdb_score</th>\n",
       "      <th>movie_facebook_likes</th>\n",
       "    </tr>\n",
       "  </thead>\n",
       "  <tbody>\n",
       "    <tr>\n",
       "      <th>0</th>\n",
       "      <td>James Cameron</td>\n",
       "      <td>723.0</td>\n",
       "      <td>0.0</td>\n",
       "      <td>1000.0</td>\n",
       "      <td>760505847.0</td>\n",
       "      <td>Action</td>\n",
       "      <td>CCH Pounder</td>\n",
       "      <td>Avatar</td>\n",
       "      <td>886204</td>\n",
       "      <td>4834</td>\n",
       "      <td>3054.0</td>\n",
       "      <td>USA</td>\n",
       "      <td>PG-13</td>\n",
       "      <td>237000000.0</td>\n",
       "      <td>2009.0</td>\n",
       "      <td>7.9</td>\n",
       "      <td>33000</td>\n",
       "    </tr>\n",
       "    <tr>\n",
       "      <th>1</th>\n",
       "      <td>Gore Verbinski</td>\n",
       "      <td>302.0</td>\n",
       "      <td>563.0</td>\n",
       "      <td>40000.0</td>\n",
       "      <td>309404152.0</td>\n",
       "      <td>Action</td>\n",
       "      <td>Johnny Depp</td>\n",
       "      <td>Pirates of the Caribbean: At World's End</td>\n",
       "      <td>471220</td>\n",
       "      <td>48350</td>\n",
       "      <td>1238.0</td>\n",
       "      <td>USA</td>\n",
       "      <td>PG-13</td>\n",
       "      <td>300000000.0</td>\n",
       "      <td>2007.0</td>\n",
       "      <td>7.1</td>\n",
       "      <td>0</td>\n",
       "    </tr>\n",
       "    <tr>\n",
       "      <th>2</th>\n",
       "      <td>Sam Mendes</td>\n",
       "      <td>602.0</td>\n",
       "      <td>0.0</td>\n",
       "      <td>11000.0</td>\n",
       "      <td>200074175.0</td>\n",
       "      <td>Action</td>\n",
       "      <td>Christoph Waltz</td>\n",
       "      <td>Spectre</td>\n",
       "      <td>275868</td>\n",
       "      <td>11700</td>\n",
       "      <td>994.0</td>\n",
       "      <td>UK</td>\n",
       "      <td>PG-13</td>\n",
       "      <td>245000000.0</td>\n",
       "      <td>2015.0</td>\n",
       "      <td>6.8</td>\n",
       "      <td>85000</td>\n",
       "    </tr>\n",
       "    <tr>\n",
       "      <th>3</th>\n",
       "      <td>Christopher Nolan</td>\n",
       "      <td>813.0</td>\n",
       "      <td>22000.0</td>\n",
       "      <td>27000.0</td>\n",
       "      <td>448130642.0</td>\n",
       "      <td>Action</td>\n",
       "      <td>Tom Hardy</td>\n",
       "      <td>The Dark Knight Rises</td>\n",
       "      <td>1144337</td>\n",
       "      <td>106759</td>\n",
       "      <td>2701.0</td>\n",
       "      <td>USA</td>\n",
       "      <td>PG-13</td>\n",
       "      <td>250000000.0</td>\n",
       "      <td>2012.0</td>\n",
       "      <td>8.5</td>\n",
       "      <td>164000</td>\n",
       "    </tr>\n",
       "    <tr>\n",
       "      <th>4</th>\n",
       "      <td>Doug Walker</td>\n",
       "      <td>NaN</td>\n",
       "      <td>131.0</td>\n",
       "      <td>131.0</td>\n",
       "      <td>NaN</td>\n",
       "      <td>Documentary</td>\n",
       "      <td>Doug Walker</td>\n",
       "      <td>Star Wars: Episode VII - The Force Awakens    ...</td>\n",
       "      <td>8</td>\n",
       "      <td>143</td>\n",
       "      <td>NaN</td>\n",
       "      <td>NaN</td>\n",
       "      <td>NaN</td>\n",
       "      <td>NaN</td>\n",
       "      <td>NaN</td>\n",
       "      <td>7.1</td>\n",
       "      <td>0</td>\n",
       "    </tr>\n",
       "  </tbody>\n",
       "</table>\n",
       "</div>"
      ],
      "text/plain": [
       "       director_name  num_critic_for_reviews  director_facebook_likes  \\\n",
       "0      James Cameron                   723.0                      0.0   \n",
       "1     Gore Verbinski                   302.0                    563.0   \n",
       "2         Sam Mendes                   602.0                      0.0   \n",
       "3  Christopher Nolan                   813.0                  22000.0   \n",
       "4        Doug Walker                     NaN                    131.0   \n",
       "\n",
       "   actor_1_facebook_likes        gross       genres     actor_1_name  \\\n",
       "0                  1000.0  760505847.0       Action      CCH Pounder   \n",
       "1                 40000.0  309404152.0       Action      Johnny Depp   \n",
       "2                 11000.0  200074175.0       Action  Christoph Waltz   \n",
       "3                 27000.0  448130642.0       Action        Tom Hardy   \n",
       "4                   131.0          NaN  Documentary      Doug Walker   \n",
       "\n",
       "                                         movie_title  num_voted_users  \\\n",
       "0                                            Avatar            886204   \n",
       "1          Pirates of the Caribbean: At World's End            471220   \n",
       "2                                           Spectre            275868   \n",
       "3                             The Dark Knight Rises           1144337   \n",
       "4  Star Wars: Episode VII - The Force Awakens    ...                8   \n",
       "\n",
       "   cast_total_facebook_likes  num_user_for_reviews country content_rating  \\\n",
       "0                       4834                3054.0     USA          PG-13   \n",
       "1                      48350                1238.0     USA          PG-13   \n",
       "2                      11700                 994.0      UK          PG-13   \n",
       "3                     106759                2701.0     USA          PG-13   \n",
       "4                        143                   NaN     NaN            NaN   \n",
       "\n",
       "        budget title_year  imdb_score  movie_facebook_likes  \n",
       "0  237000000.0     2009.0         7.9                 33000  \n",
       "1  300000000.0     2007.0         7.1                     0  \n",
       "2  245000000.0     2015.0         6.8                 85000  \n",
       "3  250000000.0     2012.0         8.5                164000  \n",
       "4          NaN        NaN         7.1                     0  "
      ]
     },
     "execution_count": 13,
     "metadata": {},
     "output_type": "execute_result"
    }
   ],
   "source": [
    "movie_metadata.head()"
   ]
  },
  {
   "cell_type": "code",
   "execution_count": null,
   "metadata": {},
   "outputs": [
    {
     "data": {
      "text/plain": [
       "content_rating\n",
       "R            1737\n",
       "PG-13        1330\n",
       "PG            576\n",
       "G              91\n",
       "Other          63\n",
       "Not Rated      41\n",
       "Name: count, dtype: int64"
      ]
     },
     "execution_count": 30,
     "metadata": {},
     "output_type": "execute_result"
    }
   ],
   "source": [
    "# content rating collapsing \n",
    "movie_metadata.content_rating.value_counts()\n",
    "\n",
    "top_ratings = ['R', 'PG-13', 'PG', 'G', 'Not Rated']\n",
    "movie_metadata['content_rating'] = movie_metadata['content_rating'].apply(lambda x: x if x in top_ratings else 'Other').astype('category')\n",
    "movie_metadata['content_rating'].value_counts()"
   ]
  },
  {
   "cell_type": "code",
   "execution_count": 26,
   "metadata": {},
   "outputs": [
    {
     "data": {
      "text/plain": [
       "actor_1_name\n",
       "Other                3665\n",
       "Robert De Niro         42\n",
       "Johnny Depp            39\n",
       "J.K. Simmons           31\n",
       "Nicolas Cage           31\n",
       "Denzel Washington      30\n",
       "Name: count, dtype: int64"
      ]
     },
     "execution_count": 26,
     "metadata": {},
     "output_type": "execute_result"
    }
   ],
   "source": [
    "# collapsing actor_1_name \n",
    "movie_metadata.actor_1_name.value_counts()\n",
    "\n",
    "top5actors = ['Robert De Niro', 'Johnny Depp', 'Nicolas Cage', 'J.K. Simmons', 'Denzel Washington']\n",
    "movie_metadata.actor_1_name = (movie_metadata.actor_1_name.apply(lambda x: x if x in top5actors else 'Other')).astype('category')\n",
    "movie_metadata.actor_1_name.value_counts()\n"
   ]
  },
  {
   "cell_type": "code",
   "execution_count": 14,
   "metadata": {},
   "outputs": [
    {
     "data": {
      "text/plain": [
       "country\n",
       "USA        3807\n",
       "UK          448\n",
       "Other       406\n",
       "France      154\n",
       "Canada      126\n",
       "Germany      97\n",
       "Name: count, dtype: int64"
      ]
     },
     "execution_count": 14,
     "metadata": {},
     "output_type": "execute_result"
    }
   ],
   "source": [
    "# collapsing country\n",
    "movie_metadata.country.value_counts()\n",
    "top5countries = ['USA', 'UK', 'France', 'Canada', 'Germany']\n",
    "\n",
    "movie_metadata.country = (movie_metadata.country.apply(lambda x: x if x in top5countries else \"Other\")).astype('category')\n",
    "\n",
    "movie_metadata.country.value_counts()"
   ]
  },
  {
   "cell_type": "code",
   "execution_count": 15,
   "metadata": {},
   "outputs": [
    {
     "data": {
      "text/plain": [
       "genres\n",
       "Comedy       1329\n",
       "Action       1153\n",
       "Drama         972\n",
       "Other         787\n",
       "Adventure     453\n",
       "Crime         349\n",
       "Name: count, dtype: int64"
      ]
     },
     "execution_count": 15,
     "metadata": {},
     "output_type": "execute_result"
    }
   ],
   "source": [
    "# collapsing genres\n",
    "movie_metadata.genres.value_counts()\n",
    "top5genres = ['Comedy', 'Action', 'Drama', 'Adventure', 'Crime']\n",
    "\n",
    "movie_metadata.genres = (movie_metadata.genres.apply(lambda x: x if x in top5genres else \"Other\")).astype('category')\n",
    "\n",
    "movie_metadata.genres.value_counts()"
   ]
  },
  {
   "cell_type": "code",
   "execution_count": 16,
   "metadata": {},
   "outputs": [
    {
     "data": {
      "text/plain": [
       "title_year\n",
       "Other     3717\n",
       "2009.0     260\n",
       "2014.0     252\n",
       "2006.0     239\n",
       "2013.0     237\n",
       "2010.0     230\n",
       "Name: count, dtype: int64"
      ]
     },
     "execution_count": 16,
     "metadata": {},
     "output_type": "execute_result"
    }
   ],
   "source": [
    "# collapsing title_year \n",
    "movie_metadata.title_year.value_counts()\n",
    "top5years = [2009.0, 2014.0, 2006.0, 2013.0, 2010.0]\n",
    "movie_metadata.title_year = (movie_metadata.title_year.apply(lambda x: x if x in top5years else \"Other\")).astype('category')\n",
    "\n",
    "movie_metadata.title_year.value_counts()\n",
    " "
   ]
  },
  {
   "cell_type": "code",
   "execution_count": 17,
   "metadata": {},
   "outputs": [
    {
     "data": {
      "text/plain": [
       "director_name\n",
       "Other               4834\n",
       "Steven Spielberg      26\n",
       "Woody Allen           22\n",
       "Clint Eastwood        20\n",
       "Martin Scorsese       20\n",
       "Ridley Scott          17\n",
       "Name: count, dtype: int64"
      ]
     },
     "execution_count": 17,
     "metadata": {},
     "output_type": "execute_result"
    }
   ],
   "source": [
    "# collapsing directors \n",
    "movie_metadata.director_name.value_counts()\n",
    "top5directors = ['Steven Spielberg', 'Woody Allen', 'Clint Eastwood', 'Martin Scorsese', 'Ridley Scott']\n",
    "\n",
    "movie_metadata.director_name = (movie_metadata.director_name.apply(lambda x: x if x in top5directors else \"Other\")).astype('category')\n",
    "\n",
    "movie_metadata.director_name.value_counts()\n"
   ]
  },
  {
   "cell_type": "code",
   "execution_count": 28,
   "metadata": {},
   "outputs": [
    {
     "name": "stdout",
     "output_type": "stream",
     "text": [
      "<class 'pandas.core.frame.DataFrame'>\n",
      "RangeIndex: 3838 entries, 0 to 3837\n",
      "Data columns (total 17 columns):\n",
      " #   Column                     Non-Null Count  Dtype   \n",
      "---  ------                     --------------  -----   \n",
      " 0   director_name              3838 non-null   category\n",
      " 1   num_critic_for_reviews     3838 non-null   float64 \n",
      " 2   director_facebook_likes    3838 non-null   float64 \n",
      " 3   actor_1_facebook_likes     3838 non-null   float64 \n",
      " 4   gross                      3838 non-null   float64 \n",
      " 5   genres                     3838 non-null   category\n",
      " 6   actor_1_name               3838 non-null   category\n",
      " 7   movie_title                3838 non-null   object  \n",
      " 8   num_voted_users            3838 non-null   int64   \n",
      " 9   cast_total_facebook_likes  3838 non-null   int64   \n",
      " 10  num_user_for_reviews       3838 non-null   float64 \n",
      " 11  country                    3838 non-null   category\n",
      " 12  content_rating             3838 non-null   category\n",
      " 13  budget                     3838 non-null   float64 \n",
      " 14  title_year                 3838 non-null   category\n",
      " 15  imdb_score                 3838 non-null   float64 \n",
      " 16  movie_facebook_likes       3838 non-null   int64   \n",
      "dtypes: category(6), float64(7), int64(3), object(1)\n",
      "memory usage: 353.9+ KB\n"
     ]
    }
   ],
   "source": [
    "movie_metadata.dropna(inplace=True)\n",
    "movie_metadata.reset_index(drop=True, inplace=True)\n",
    "movie_metadata.head()\n",
    "movie_metadata.info()"
   ]
  },
  {
   "cell_type": "markdown",
   "metadata": {},
   "source": [
    "3 Check for missing variables and correct as needed. Once you've completed the cleaning again create a function that will do this for you in the future. In the submission, include only the function and the function call."
   ]
  },
  {
   "cell_type": "markdown",
   "metadata": {},
   "source": [
    "4 Guess what, you don't need to scale the data, because DTs don't require this to be done, they make local greedy decisions...keeps getting easier, go to the next step."
   ]
  },
  {
   "cell_type": "markdown",
   "metadata": {},
   "source": [
    "5 Determine the baserate or prevalence for the classifier, what does this number mean?"
   ]
  },
  {
   "cell_type": "markdown",
   "metadata": {},
   "source": [
    "6 Split your data into test, tune, and train. (80/10/10)"
   ]
  },
  {
   "cell_type": "markdown",
   "metadata": {},
   "source": [
    "7 Create the kfold object for cross validation."
   ]
  },
  {
   "cell_type": "markdown",
   "metadata": {},
   "source": [
    "8 Create the scoring metric you will use to evaluate your model and the max depth hyperparameter (grid search) "
   ]
  },
  {
   "cell_type": "markdown",
   "metadata": {},
   "source": [
    "9 Build the classifier object "
   ]
  },
  {
   "cell_type": "markdown",
   "metadata": {},
   "source": [
    "10 Use the kfold object and the scoring metric to find the best hyperparameter value for max depth via the grid search method."
   ]
  },
  {
   "cell_type": "markdown",
   "metadata": {},
   "source": [
    "11 Fit the model to the training data."
   ]
  },
  {
   "cell_type": "markdown",
   "metadata": {},
   "source": [
    "12 What is the best depth value?"
   ]
  },
  {
   "cell_type": "markdown",
   "metadata": {},
   "source": [
    "13 Print out the model"
   ]
  },
  {
   "cell_type": "markdown",
   "metadata": {},
   "source": [
    "14 View the results, comment on how the model performed using the metrics you selected."
   ]
  },
  {
   "cell_type": "markdown",
   "metadata": {},
   "source": [
    "15 Which variables appear to be contributing the most (variable importance) "
   ]
  },
  {
   "cell_type": "markdown",
   "metadata": {},
   "source": [
    "16 Use the predict method on the tune data and print out the results."
   ]
  },
  {
   "cell_type": "markdown",
   "metadata": {},
   "source": [
    "17 How does the model perform on the tune data?"
   ]
  },
  {
   "cell_type": "markdown",
   "metadata": {},
   "source": [
    "18 Print out the confusion matrix for the tune data, what does it tell you about the model?"
   ]
  },
  {
   "cell_type": "markdown",
   "metadata": {},
   "source": [
    "19 What are the top 3 movies based on the tune set? Which variables are most important in predicting the top 3 movies?"
   ]
  },
  {
   "cell_type": "markdown",
   "metadata": {},
   "source": [
    "20 Use a different hyperparameter for the grid search function and go through the process above again using the tune set. "
   ]
  },
  {
   "cell_type": "markdown",
   "metadata": {},
   "source": [
    "21 Did the model improve with the new hyperparameter search?"
   ]
  },
  {
   "cell_type": "markdown",
   "metadata": {},
   "source": [
    "22 Using the better model, predict the test data and print out the results."
   ]
  },
  {
   "cell_type": "markdown",
   "metadata": {},
   "source": [
    "23 Summarize what you learned along the way and make recommendations to your boss on how this could be used moving forward, being careful not to over promise."
   ]
  }
 ],
 "metadata": {
  "kernelspec": {
   "display_name": "Python 3",
   "language": "python",
   "name": "python3"
  },
  "language_info": {
   "codemirror_mode": {
    "name": "ipython",
    "version": 3
   },
   "file_extension": ".py",
   "mimetype": "text/x-python",
   "name": "python",
   "nbconvert_exporter": "python",
   "pygments_lexer": "ipython3",
   "version": "3.12.7"
  }
 },
 "nbformat": 4,
 "nbformat_minor": 2
}
