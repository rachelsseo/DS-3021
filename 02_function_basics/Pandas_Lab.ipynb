{
 "cells": [
  {
   "cell_type": "markdown",
   "metadata": {},
   "source": [
    "## Pandas Lab Assignment\n",
    "#### Rachel Seo ydp7xv"
   ]
  },
  {
   "cell_type": "markdown",
   "metadata": {},
   "source": [
    "#### Question: Are kickers more likely to miss the field goal when distance is 50 yds+?\n",
    "\n",
    "#### Pseudocode \n",
    "1. Create a new dataset by filtering the current dataset for only the 'distance', 'GOOD', and 'Missed'\n",
    "2. Extract all field goal attempts \n",
    "3. Separate attempts into two categories - shorter than 50 yards vs. 50 yards or more\n",
    "4. Calculate miss percentage for each category "
   ]
  },
  {
   "cell_type": "code",
   "execution_count": 1,
   "metadata": {},
   "outputs": [
    {
     "data": {
      "text/plain": [
       "'/workspaces/DS-3021/02_function_basics'"
      ]
     },
     "execution_count": 1,
     "metadata": {},
     "output_type": "execute_result"
    }
   ],
   "source": [
    "# import libraries\n",
    "import pandas as pd\n",
    "import os\n",
    "os.getcwd()"
   ]
  },
  {
   "cell_type": "code",
   "execution_count": 2,
   "metadata": {},
   "outputs": [
    {
     "name": "stdout",
     "output_type": "stream",
     "text": [
      "<class 'pandas.core.frame.DataFrame'>\n",
      "RangeIndex: 1039 entries, 0 to 1038\n",
      "Data columns (total 23 columns):\n",
      " #   Column    Non-Null Count  Dtype  \n",
      "---  ------    --------------  -----  \n",
      " 0   GameDate  1039 non-null   int64  \n",
      " 1   AwayTeam  1039 non-null   object \n",
      " 2   HomeTeam  1039 non-null   object \n",
      " 3   qtr       1039 non-null   int64  \n",
      " 4   min       1039 non-null   int64  \n",
      " 5   sec       1039 non-null   int64  \n",
      " 6   kickteam  1039 non-null   object \n",
      " 7   def       1039 non-null   object \n",
      " 8   down      1037 non-null   float64\n",
      " 9   togo      1037 non-null   float64\n",
      " 10  kicker    1039 non-null   int64  \n",
      " 11  ydline    1039 non-null   int64  \n",
      " 12  name      1039 non-null   object \n",
      " 13  distance  1039 non-null   int64  \n",
      " 14  homekick  1039 non-null   int64  \n",
      " 15  kickdiff  1039 non-null   int64  \n",
      " 16  timerem   1039 non-null   int64  \n",
      " 17  offscore  1039 non-null   int64  \n",
      " 18  defscore  1039 non-null   int64  \n",
      " 19  season    1039 non-null   int64  \n",
      " 20  GOOD      1039 non-null   int64  \n",
      " 21  Missed    1039 non-null   int64  \n",
      " 22  Blocked   1039 non-null   int64  \n",
      "dtypes: float64(2), int64(16), object(5)\n",
      "memory usage: 186.8+ KB\n",
      "None\n"
     ]
    }
   ],
   "source": [
    "# Loading and preparing the data\n",
    "nfl = pd.read_csv(\"../data/nfl2008_fga.csv\")\n",
    "\n",
    "print(nfl.info())   # .info() outputs the structure of the dataframe object. It includes the columns, the data types in each, etc."
   ]
  },
  {
   "cell_type": "code",
   "execution_count": 5,
   "metadata": {},
   "outputs": [
    {
     "name": "stdout",
     "output_type": "stream",
     "text": [
      "<class 'pandas.core.frame.DataFrame'>\n",
      "RangeIndex: 1039 entries, 0 to 1038\n",
      "Data columns (total 3 columns):\n",
      " #   Column    Non-Null Count  Dtype\n",
      "---  ------    --------------  -----\n",
      " 0   distance  1039 non-null   int64\n",
      " 1   GOOD      1039 non-null   int64\n",
      " 2   Missed    1039 non-null   int64\n",
      "dtypes: int64(3)\n",
      "memory usage: 24.5 KB\n",
      "None\n"
     ]
    }
   ],
   "source": [
    "# filtering dropping columns from dataset\n",
    "\n",
    "column_drop = ['GameDate', 'AwayTeam','HomeTeam', 'qtr','min', 'sec', 'kickteam', 'def', 'down', 'togo', 'kicker', 'ydline', 'name','homekick', 'kickdiff', 'timerem','offscore','defscore','season', 'Blocked']\n",
    "nfl_2 = nfl.drop(columns=column_drop)\n",
    "\n",
    "print(nfl_2.info())"
   ]
  },
  {
   "cell_type": "code",
   "execution_count": 4,
   "metadata": {},
   "outputs": [
    {
     "data": {
      "text/plain": [
       "<pandas.core.groupby.generic.DataFrameGroupBy object at 0xffffa4463b30>"
      ]
     },
     "execution_count": 4,
     "metadata": {},
     "output_type": "execute_result"
    }
   ],
   "source": [
    "# Define the bins and labels\n",
    "bins = [0, 10, 20, 30, 40, 50, 60, ]  # Adjust the thresholds as needed\n",
    "labels = ['0-10', '10-20', '20-30', '30-40', '40-50']\n",
    "\n",
    "# Create a new column with the bin labels\n",
    "df['binned_column'] = pd.cut(df['numeric_column'], bins=bins, labels=labels)\n",
    "\n",
    "# Group by the new binned column and calculate the mean of each group\n",
    "grouped_df = df.groupby('binned_column').mean()\n",
    "\n",
    "print(grouped_df)"
   ]
  }
 ],
 "metadata": {
  "kernelspec": {
   "display_name": "Python 3",
   "language": "python",
   "name": "python3"
  },
  "language_info": {
   "codemirror_mode": {
    "name": "ipython",
    "version": 3
   },
   "file_extension": ".py",
   "mimetype": "text/x-python",
   "name": "python",
   "nbconvert_exporter": "python",
   "pygments_lexer": "ipython3",
   "version": "3.12.7"
  }
 },
 "nbformat": 4,
 "nbformat_minor": 2
}
