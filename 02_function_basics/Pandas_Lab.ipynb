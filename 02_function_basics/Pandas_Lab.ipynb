{
 "cells": [
  {
   "cell_type": "markdown",
   "metadata": {},
   "source": [
    "## Pandas Lab Assignment\n",
    "#### Rachel Seo ydp7xv"
   ]
  },
  {
   "cell_type": "markdown",
   "metadata": {},
   "source": [
    "#### **Question # 1**: Are kickers more likely to miss the field goal when distance is 50 yds+?\n",
    "\n",
    "#### Pseudocode \n",
    "1. Create a new dataset by filtering the current dataset for only the 'distance', 'GOOD', and 'Missed'\n",
    "2. Extract all field goal attempts \n",
    "3. Separate attempts into two categories - shorter than 50 yards vs. 50 yards or more\n",
    "4. Calculate miss percentage for each category "
   ]
  },
  {
   "cell_type": "code",
   "execution_count": 62,
   "metadata": {},
   "outputs": [
    {
     "data": {
      "text/plain": [
       "'/workspaces/DS-3021/02_function_basics'"
      ]
     },
     "execution_count": 62,
     "metadata": {},
     "output_type": "execute_result"
    }
   ],
   "source": [
    "# import libraries\n",
    "import pandas as pd\n",
    "import os\n",
    "os.getcwd()"
   ]
  },
  {
   "cell_type": "markdown",
   "metadata": {},
   "source": [
    "#### Data Set #1"
   ]
  },
  {
   "cell_type": "code",
   "execution_count": 63,
   "metadata": {},
   "outputs": [
    {
     "name": "stdout",
     "output_type": "stream",
     "text": [
      "<class 'pandas.core.frame.DataFrame'>\n",
      "RangeIndex: 1039 entries, 0 to 1038\n",
      "Data columns (total 23 columns):\n",
      " #   Column    Non-Null Count  Dtype  \n",
      "---  ------    --------------  -----  \n",
      " 0   GameDate  1039 non-null   int64  \n",
      " 1   AwayTeam  1039 non-null   object \n",
      " 2   HomeTeam  1039 non-null   object \n",
      " 3   qtr       1039 non-null   int64  \n",
      " 4   min       1039 non-null   int64  \n",
      " 5   sec       1039 non-null   int64  \n",
      " 6   kickteam  1039 non-null   object \n",
      " 7   def       1039 non-null   object \n",
      " 8   down      1037 non-null   float64\n",
      " 9   togo      1037 non-null   float64\n",
      " 10  kicker    1039 non-null   int64  \n",
      " 11  ydline    1039 non-null   int64  \n",
      " 12  name      1039 non-null   object \n",
      " 13  distance  1039 non-null   int64  \n",
      " 14  homekick  1039 non-null   int64  \n",
      " 15  kickdiff  1039 non-null   int64  \n",
      " 16  timerem   1039 non-null   int64  \n",
      " 17  offscore  1039 non-null   int64  \n",
      " 18  defscore  1039 non-null   int64  \n",
      " 19  season    1039 non-null   int64  \n",
      " 20  GOOD      1039 non-null   int64  \n",
      " 21  Missed    1039 non-null   int64  \n",
      " 22  Blocked   1039 non-null   int64  \n",
      "dtypes: float64(2), int64(16), object(5)\n",
      "memory usage: 186.8+ KB\n",
      "None\n"
     ]
    }
   ],
   "source": [
    "# loading and preparing the data\n",
    "nfl = pd.read_csv(\"../data/nfl2008_fga.csv\")\n",
    "\n",
    "print(nfl.info())   # .info() outputs the structure of the dataframe object. It includes the columns, the data types in each, etc."
   ]
  },
  {
   "cell_type": "code",
   "execution_count": 64,
   "metadata": {},
   "outputs": [
    {
     "name": "stdout",
     "output_type": "stream",
     "text": [
      "<class 'pandas.core.frame.DataFrame'>\n",
      "RangeIndex: 1039 entries, 0 to 1038\n",
      "Data columns (total 3 columns):\n",
      " #   Column    Non-Null Count  Dtype\n",
      "---  ------    --------------  -----\n",
      " 0   distance  1039 non-null   int64\n",
      " 1   GOOD      1039 non-null   int64\n",
      " 2   Missed    1039 non-null   int64\n",
      "dtypes: int64(3)\n",
      "memory usage: 24.5 KB\n",
      "None\n"
     ]
    }
   ],
   "source": [
    "# filtering dropping columns from dataset\n",
    "\n",
    "column_drop = ['GameDate', 'AwayTeam','HomeTeam', 'qtr','min', 'sec', 'kickteam', 'def', 'down', 'togo', 'kicker', 'ydline', 'name','homekick', 'kickdiff', 'timerem','offscore','defscore','season', 'Blocked']\n",
    "nfl_2 = nfl.drop(columns=column_drop)\n",
    "nfl_2.dropna()\n",
    "\n",
    "print(nfl_2.info())"
   ]
  },
  {
   "cell_type": "code",
   "execution_count": 65,
   "metadata": {},
   "outputs": [
    {
     "data": {
      "text/html": [
       "<div>\n",
       "<style scoped>\n",
       "    .dataframe tbody tr th:only-of-type {\n",
       "        vertical-align: middle;\n",
       "    }\n",
       "\n",
       "    .dataframe tbody tr th {\n",
       "        vertical-align: top;\n",
       "    }\n",
       "\n",
       "    .dataframe thead th {\n",
       "        text-align: right;\n",
       "    }\n",
       "</style>\n",
       "<table border=\"1\" class=\"dataframe\">\n",
       "  <thead>\n",
       "    <tr style=\"text-align: right;\">\n",
       "      <th></th>\n",
       "      <th>distance</th>\n",
       "      <th>GOOD</th>\n",
       "      <th>Missed</th>\n",
       "    </tr>\n",
       "  </thead>\n",
       "  <tbody>\n",
       "    <tr>\n",
       "      <th>0</th>\n",
       "      <td>30</td>\n",
       "      <td>1</td>\n",
       "      <td>0</td>\n",
       "    </tr>\n",
       "    <tr>\n",
       "      <th>1</th>\n",
       "      <td>46</td>\n",
       "      <td>1</td>\n",
       "      <td>0</td>\n",
       "    </tr>\n",
       "    <tr>\n",
       "      <th>2</th>\n",
       "      <td>28</td>\n",
       "      <td>1</td>\n",
       "      <td>0</td>\n",
       "    </tr>\n",
       "    <tr>\n",
       "      <th>3</th>\n",
       "      <td>37</td>\n",
       "      <td>1</td>\n",
       "      <td>0</td>\n",
       "    </tr>\n",
       "    <tr>\n",
       "      <th>4</th>\n",
       "      <td>39</td>\n",
       "      <td>1</td>\n",
       "      <td>0</td>\n",
       "    </tr>\n",
       "  </tbody>\n",
       "</table>\n",
       "</div>"
      ],
      "text/plain": [
       "   distance  GOOD  Missed\n",
       "0        30     1       0\n",
       "1        46     1       0\n",
       "2        28     1       0\n",
       "3        37     1       0\n",
       "4        39     1       0"
      ]
     },
     "execution_count": 65,
     "metadata": {},
     "output_type": "execute_result"
    }
   ],
   "source": [
    "# creating new dataset for distances less than 50 yds\n",
    "threshold_1 = 50\n",
    "less_than_50 = nfl_2[nfl_2['distance'] < threshold_1]\n",
    "less_than_50.head()"
   ]
  },
  {
   "cell_type": "code",
   "execution_count": 66,
   "metadata": {},
   "outputs": [
    {
     "name": "stdout",
     "output_type": "stream",
     "text": [
      "9.624639076034649\n"
     ]
    }
   ],
   "source": [
    "missed_below_50 = less_than_50['Missed'].sum()\n",
    "missed_percent_1 = (missed_below_50 / 1039) * 100  # 1039 is the total number of kicks recorded as seen in the nfl_2.info() printed above\n",
    "print(missed_percent_1)"
   ]
  },
  {
   "cell_type": "code",
   "execution_count": 67,
   "metadata": {},
   "outputs": [
    {
     "data": {
      "text/html": [
       "<div>\n",
       "<style scoped>\n",
       "    .dataframe tbody tr th:only-of-type {\n",
       "        vertical-align: middle;\n",
       "    }\n",
       "\n",
       "    .dataframe tbody tr th {\n",
       "        vertical-align: top;\n",
       "    }\n",
       "\n",
       "    .dataframe thead th {\n",
       "        text-align: right;\n",
       "    }\n",
       "</style>\n",
       "<table border=\"1\" class=\"dataframe\">\n",
       "  <thead>\n",
       "    <tr style=\"text-align: right;\">\n",
       "      <th></th>\n",
       "      <th>distance</th>\n",
       "      <th>GOOD</th>\n",
       "      <th>Missed</th>\n",
       "    </tr>\n",
       "  </thead>\n",
       "  <tbody>\n",
       "    <tr>\n",
       "      <th>13</th>\n",
       "      <td>51</td>\n",
       "      <td>1</td>\n",
       "      <td>0</td>\n",
       "    </tr>\n",
       "    <tr>\n",
       "      <th>14</th>\n",
       "      <td>51</td>\n",
       "      <td>1</td>\n",
       "      <td>0</td>\n",
       "    </tr>\n",
       "    <tr>\n",
       "      <th>17</th>\n",
       "      <td>50</td>\n",
       "      <td>0</td>\n",
       "      <td>1</td>\n",
       "    </tr>\n",
       "    <tr>\n",
       "      <th>30</th>\n",
       "      <td>51</td>\n",
       "      <td>1</td>\n",
       "      <td>0</td>\n",
       "    </tr>\n",
       "    <tr>\n",
       "      <th>31</th>\n",
       "      <td>51</td>\n",
       "      <td>1</td>\n",
       "      <td>0</td>\n",
       "    </tr>\n",
       "  </tbody>\n",
       "</table>\n",
       "</div>"
      ],
      "text/plain": [
       "    distance  GOOD  Missed\n",
       "13        51     1       0\n",
       "14        51     1       0\n",
       "17        50     0       1\n",
       "30        51     1       0\n",
       "31        51     1       0"
      ]
     },
     "execution_count": 67,
     "metadata": {},
     "output_type": "execute_result"
    }
   ],
   "source": [
    "# creating new dataset for distances greater than and equal to 50 yds\n",
    "threshold_2 = 50\n",
    "greater_than_50 = nfl_2[nfl_2['distance'] >= threshold_2]\n",
    "greater_than_50.head()"
   ]
  },
  {
   "cell_type": "code",
   "execution_count": 68,
   "metadata": {},
   "outputs": [
    {
     "name": "stdout",
     "output_type": "stream",
     "text": [
      "3.753609239653513\n"
     ]
    }
   ],
   "source": [
    "missed_above_50 = greater_than_50['Missed'].sum()\n",
    "missed_percent_2 = (missed_above_50 / 1039) * 100\n",
    "print(missed_percent_2)"
   ]
  },
  {
   "cell_type": "markdown",
   "metadata": {},
   "source": [
    "#### Complete Function"
   ]
  },
  {
   "cell_type": "code",
   "execution_count": 69,
   "metadata": {},
   "outputs": [],
   "source": [
    "def missed_kicks(file_path, threshold=50):\n",
    "    df = pd.read_csv(file_path)\n",
    "    total_rows = df.shape[0]\n",
    "    less_than_50 = df[df['distance'] < threshold]\n",
    "    percent_missed_below_50 = (less_than_50['Missed'].sum() / total_rows)*100\n",
    "    greater_than_50 = df[df['distance'] >= threshold]\n",
    "    percent_missed_above_50 = (greater_than_50['Missed'].sum() / total_rows)*100\n",
    "    return percent_missed_below_50, percent_missed_above_50\n",
    "\n",
    "    "
   ]
  },
  {
   "cell_type": "code",
   "execution_count": 70,
   "metadata": {},
   "outputs": [
    {
     "name": "stdout",
     "output_type": "stream",
     "text": [
      "(np.float64(9.624639076034649), np.float64(3.753609239653513))\n"
     ]
    }
   ],
   "source": [
    "print(missed_kicks(file_path = '../data/nfl2008_fga.csv', threshold=50))\n"
   ]
  },
  {
   "cell_type": "markdown",
   "metadata": {},
   "source": [
    "#### Answering Question #1:\n",
    "According to this dataset, kickers missed more kicks when the distance was below 50 yards versus when the distance was at or above 50 yards."
   ]
  },
  {
   "cell_type": "markdown",
   "metadata": {},
   "source": [
    "#### **Question # 2**: What was the most popular genre of top songs released in years 2022 and 2023?\n",
    "\n",
    "#### Pseudocode \n",
    "1. Filter the dataset for columns 'title', 'top genre', 'year', and 'popularity'\n",
    "2. Filter and create a new dataset for years 2022 and 2023\n",
    "3. Group by year and top genre\n",
    "4. Calculate average popularity ratings for each genre in each year \n",
    "5. Calculate which genre has the highest popularity average in each year"
   ]
  },
  {
   "cell_type": "markdown",
   "metadata": {},
   "source": [
    "#### Data Set #2"
   ]
  },
  {
   "cell_type": "code",
   "execution_count": 71,
   "metadata": {},
   "outputs": [
    {
     "name": "stdout",
     "output_type": "stream",
     "text": [
      "<class 'pandas.core.frame.DataFrame'>\n",
      "RangeIndex: 2385 entries, 0 to 2384\n",
      "Data columns (total 14 columns):\n",
      " #   Column         Non-Null Count  Dtype \n",
      "---  ------         --------------  ----- \n",
      " 0   title          2385 non-null   object\n",
      " 1   artist         2385 non-null   object\n",
      " 2   top genre      2385 non-null   object\n",
      " 3   year           2385 non-null   int64 \n",
      " 4   bpm            2385 non-null   int64 \n",
      " 5   energy         2385 non-null   int64 \n",
      " 6   danceability   2385 non-null   int64 \n",
      " 7   dB             2385 non-null   int64 \n",
      " 8   liveness       2385 non-null   int64 \n",
      " 9   valence        2385 non-null   int64 \n",
      " 10  duration       2385 non-null   int64 \n",
      " 11  acousticness   2385 non-null   int64 \n",
      " 12  speechiness    2385 non-null   int64 \n",
      " 13  popularity     2385 non-null   int64 \n",
      "dtypes: int64(11), object(3)\n",
      "memory usage: 261.0+ KB\n",
      "None\n"
     ]
    }
   ],
   "source": [
    "# loading and preparing the data\n",
    "best_songs_spotify = pd.read_csv(\"../data/Best_Songs_Spotify_2000-2023.csv\", sep=';',on_bad_lines='skip')\n",
    "\n",
    "print(best_songs_spotify.info())"
   ]
  },
  {
   "cell_type": "code",
   "execution_count": 72,
   "metadata": {},
   "outputs": [
    {
     "data": {
      "text/html": [
       "<div>\n",
       "<style scoped>\n",
       "    .dataframe tbody tr th:only-of-type {\n",
       "        vertical-align: middle;\n",
       "    }\n",
       "\n",
       "    .dataframe tbody tr th {\n",
       "        vertical-align: top;\n",
       "    }\n",
       "\n",
       "    .dataframe thead th {\n",
       "        text-align: right;\n",
       "    }\n",
       "</style>\n",
       "<table border=\"1\" class=\"dataframe\">\n",
       "  <thead>\n",
       "    <tr style=\"text-align: right;\">\n",
       "      <th></th>\n",
       "      <th>title</th>\n",
       "      <th>top genre</th>\n",
       "      <th>year</th>\n",
       "      <th>popularity</th>\n",
       "    </tr>\n",
       "  </thead>\n",
       "  <tbody>\n",
       "    <tr>\n",
       "      <th>0</th>\n",
       "      <td>Flowers</td>\n",
       "      <td>pop</td>\n",
       "      <td>2023</td>\n",
       "      <td>98</td>\n",
       "    </tr>\n",
       "    <tr>\n",
       "      <th>1</th>\n",
       "      <td>Cupid - Twin Ver.</td>\n",
       "      <td>k-pop girl group</td>\n",
       "      <td>2023</td>\n",
       "      <td>97</td>\n",
       "    </tr>\n",
       "    <tr>\n",
       "      <th>2</th>\n",
       "      <td>BESO</td>\n",
       "      <td>pop</td>\n",
       "      <td>2023</td>\n",
       "      <td>96</td>\n",
       "    </tr>\n",
       "    <tr>\n",
       "      <th>3</th>\n",
       "      <td>Boy's a liar Pt. 2</td>\n",
       "      <td>bronx drill</td>\n",
       "      <td>2023</td>\n",
       "      <td>96</td>\n",
       "    </tr>\n",
       "    <tr>\n",
       "      <th>4</th>\n",
       "      <td>Creepin' (with The Weeknd &amp; 21 Savage)</td>\n",
       "      <td>rap</td>\n",
       "      <td>2022</td>\n",
       "      <td>96</td>\n",
       "    </tr>\n",
       "  </tbody>\n",
       "</table>\n",
       "</div>"
      ],
      "text/plain": [
       "                                    title         top genre  year  popularity\n",
       "0                                 Flowers               pop  2023          98\n",
       "1                       Cupid - Twin Ver.  k-pop girl group  2023          97\n",
       "2                                    BESO               pop  2023          96\n",
       "3                      Boy's a liar Pt. 2       bronx drill  2023          96\n",
       "4  Creepin' (with The Weeknd & 21 Savage)               rap  2022          96"
      ]
     },
     "execution_count": 72,
     "metadata": {},
     "output_type": "execute_result"
    }
   ],
   "source": [
    "# filter dataset\n",
    "filtered_best_songs = best_songs_spotify.loc[:, ['title', 'top genre', 'year', 'popularity']]\n",
    "\n",
    "# new dataset for 2022 \n",
    "filtered_best_songs2 = filtered_best_songs.query(\"year == 2022 or year == 2023\")\n",
    "filtered_best_songs2.head()"
   ]
  },
  {
   "cell_type": "code",
   "execution_count": 73,
   "metadata": {},
   "outputs": [
    {
     "name": "stdout",
     "output_type": "stream",
     "text": [
      "    year                    top_genre  average_popularity\n",
      "0   2022                    afrobeats           95.000000\n",
      "1   2022                  alternative           29.000000\n",
      "2   2022            argentine hip hop           93.000000\n",
      "3   2022                      art pop           65.000000\n",
      "4   2022                aussietronica           67.000000\n",
      "5   2022                       azonto           34.000000\n",
      "6   2022                  bedroom pop           94.000000\n",
      "7   2022                     big room           94.000000\n",
      "8   2022             canadian hip hop           90.000000\n",
      "9   2022                colombian pop           90.000000\n",
      "10  2022                    dance pop           72.400000\n",
      "11  2022     deep underground hip hop           62.000000\n",
      "12  2022                          edm           75.000000\n",
      "13  2022                electro house           85.000000\n",
      "14  2022                   electronic           35.000000\n",
      "15  2022                  escape room           82.000000\n",
      "16  2022      gen z singer-songwriter           93.000000\n",
      "17  2022                      hip pop           90.000000\n",
      "18  2022                      hip-hop           25.000000\n",
      "19  2022                        house           64.000000\n",
      "20  2022                        indie           20.500000\n",
      "21  2022                        k-pop           84.500000\n",
      "22  2022                latin hip hop           87.000000\n",
      "23  2022                    latin pop           81.000000\n",
      "24  2022                mambo chileno           86.000000\n",
      "25  2022                melodic drill           87.000000\n",
      "26  2022             modern indie pop           90.000000\n",
      "27  2022   new jersey underground rap           92.000000\n",
      "28  2022                   piano rock           93.000000\n",
      "29  2022                          pop           75.454545\n",
      "30  2022                          rap           96.000000\n",
      "31  2022                    reggaeton           87.875000\n",
      "32  2022          uk contemporary r&b           91.000000\n",
      "33  2022                    viral pop           86.000000\n",
      "34  2023                    afrobeats           23.000000\n",
      "35  2023                  alternative           39.000000\n",
      "36  2023                  bronx drill           90.000000\n",
      "37  2023    canadian contemporary r&b           91.000000\n",
      "38  2023             canadian hip hop           91.000000\n",
      "39  2023         contemporary country           90.000000\n",
      "40  2023                      country           51.000000\n",
      "41  2023                        dance           21.500000\n",
      "42  2023                    dance pop           63.000000\n",
      "43  2023                      dubstep           34.000000\n",
      "44  2023      gen z singer-songwriter           96.000000\n",
      "45  2023                      hip hop           80.000000\n",
      "46  2023                      hip-hop           33.000000\n",
      "47  2023              indie poptimism           89.000000\n",
      "48  2023                indiecoustica           39.000000\n",
      "49  2023                        k-pop           86.000000\n",
      "50  2023             k-pop girl group           97.000000\n",
      "51  2023                latin hip hop           90.000000\n",
      "52  2023                          pop           53.928571\n",
      "53  2023                     r&b/soul           41.000000\n",
      "54  2023  rap francais nouvelle vague           31.000000\n",
      "55  2023                    reggaeton           96.000000\n",
      "56  2023                         rock           21.000000\n",
      "57  2023               tropical house            5.000000\n",
      "58  2023                       uk pop           32.000000\n",
      "59  2023                    viral rap           39.000000\n"
     ]
    }
   ],
   "source": [
    "# grouping by year and top genre, then calculating the mean of 'popularity'\n",
    "popular_genres = filtered_best_songs2.groupby(['year', 'top genre'])['popularity'].mean().reset_index()\n",
    "\n",
    "# rename\n",
    "popular_genres.columns = ['year', 'top_genre', 'average_popularity']\n",
    "\n",
    "print(popular_genres)"
   ]
  },
  {
   "cell_type": "code",
   "execution_count": 74,
   "metadata": {},
   "outputs": [
    {
     "name": "stdout",
     "output_type": "stream",
     "text": [
      "   year  average_popularity         top_genre\n",
      "0  2022                96.0               rap\n",
      "1  2023                97.0  k-pop girl group\n"
     ]
    }
   ],
   "source": [
    "# maximum average popularity for each year\n",
    "max_popularity_per_year = popular_genres.groupby('year')['average_popularity'].max().reset_index()\n",
    "\n",
    "# merging maximum avg popularity with the original grouped DataFrame to get the top genres\n",
    "top_genres = pd.merge(max_popularity_per_year, popular_genres, on=['year', 'average_popularity'])\n",
    "\n",
    "print(top_genres)"
   ]
  },
  {
   "cell_type": "markdown",
   "metadata": {},
   "source": [
    "#### Complete Function"
   ]
  },
  {
   "cell_type": "code",
   "execution_count": 75,
   "metadata": {},
   "outputs": [],
   "source": [
    "def top_genres_by_year(x):\n",
    "    x1 = x.loc[:, ['title', 'top genre', 'year', 'popularity']]\n",
    "    x2 = x1.query(\"year == 2022 or year == 2023\")\n",
    "    x3 = x2.groupby(['year', 'top genre'])['popularity'].mean().reset_index()\n",
    "    x3.columns = ['year', 'top_genre', 'average_popularity']\n",
    "    max_pop = x3.groupby('year')['average_popularity'].max().reset_index()\n",
    "    top_genres_by_year = pd.merge(max_pop, x3, on=['year', 'average_popularity'])\n",
    "    return top_genres_by_year"
   ]
  },
  {
   "cell_type": "markdown",
   "metadata": {},
   "source": [
    "#### Answering Question #2"
   ]
  },
  {
   "cell_type": "code",
   "execution_count": 76,
   "metadata": {},
   "outputs": [
    {
     "name": "stdout",
     "output_type": "stream",
     "text": [
      "   year  average_popularity         top_genre\n",
      "0  2022                96.0               rap\n",
      "1  2023                97.0  k-pop girl group\n"
     ]
    }
   ],
   "source": [
    "print(top_genres_by_year(best_songs_spotify))"
   ]
  }
 ],
 "metadata": {
  "kernelspec": {
   "display_name": "Python 3",
   "language": "python",
   "name": "python3"
  },
  "language_info": {
   "codemirror_mode": {
    "name": "ipython",
    "version": 3
   },
   "file_extension": ".py",
   "mimetype": "text/x-python",
   "name": "python",
   "nbconvert_exporter": "python",
   "pygments_lexer": "ipython3",
   "version": "3.12.7"
  }
 },
 "nbformat": 4,
 "nbformat_minor": 2
}
