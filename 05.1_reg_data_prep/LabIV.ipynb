{
  "cells": [
    {
      "cell_type": "markdown",
      "id": "e0c7b14a-e5aa-4abc-b48b-b8a9d20dacac",
      "metadata": {
        "id": "e0c7b14a-e5aa-4abc-b48b-b8a9d20dacac"
      },
      "source": [
        "### Lab IV: Linear Models\n",
        "### Rachel Seo ydp7xv\n",
        "#### Answer all three sets of questions"
      ]
    },
    {
      "cell_type": "markdown",
      "id": "bf4826b0",
      "metadata": {
        "id": "bf4826b0"
      },
      "source": [
        "**Q0.** Please answer the following questions in your own words.\n",
        "\n",
        "1. What makes a model \"linear\"? \"Linear\" in what?\n",
        "   \n",
        "   a. A model is \"linear\" when the the coefficients presents the variables in a straight line. The coefficient should only have only have a power of 1.  \n",
        "2. How do you interpret the coefficient for a dummy/one-hot-encoded variable? (This is a trick question, and the trick involves how you handle the intercept of the model.) There's further explanation at the end of this document, if needed.\n",
        "   \n",
        "   a. The coefficient for a dummy/one-hot-encoded variable calculates the average difference in the dependent variable between the given category and the baseline category. We need to either drop the $y$ intercept or not include the constant (recommended). \n",
        "3. Can linear regression be used for classification? Explain why, or why not.\n",
        "   \n",
        "   a. Not very well because linear regression is continuous but classification is categorical. \n",
        "4. If you have a high accuracy on training but low on testing, what might be the problem? It also might be you see a pattern in the residuals. \n",
        "   \n",
        "   a.  The problem may be that the model is over fitting the data.\n",
        "5. Review this page: [Non-Linear with Linear](https://inria.github.io/scikit-learn-mooc/python_scripts/linear_regression_non_linear_link.html) What are two ways to incorporate nonlinear relationships between your target/response/dependent/outcome variable $y$ and your features/control/response/independent variables $x$?\n",
        "   \n",
        "   a. polynomial regression \n",
        "   \n",
        "   b. binned regression\n",
        "6. What is the interpretation of the intercept? A slope coefficient for a variable? The coefficient for a dummy/one-hot-encoded variable?\n",
        "   \n",
        "   a. intercept = the value of $y$ when $x$ is zero\n",
        "   \n",
        "   b. slope coefficient = the change in the dependent variable $y$ for a one-unit increase \n",
        "   \n",
        "   c. coefficient for a dummy/one-hot-encoded variable = average difference in the dependent variable between the given category and the baseline category"
      ]
    },
    {
      "cell_type": "markdown",
      "id": "25bf83c6-ff44-42d6-9b33-8be1b945860d",
      "metadata": {
        "id": "25bf83c6-ff44-42d6-9b33-8be1b945860d"
      },
      "source": [
        "**Q1.** Load clean q1_clean: https://raw.githubusercontent.com/DS3001/linearRegression/refs/heads/main/data/Q1_clean.csv \n",
        "\n",
        "The data include\n",
        "\n",
        "- `Price` per night\n",
        "- `Review Scores Rating`: The average rating for the property\n",
        "- `Neighborhood `: The bourough of NYC. Note the space, or rename the variable.\n",
        "- `Property Type`: The kind of dwelling\n",
        "- `Room Type`: The kind of space being rented"
      ]
    },
    {
      "cell_type": "code",
      "execution_count": 69,
      "id": "f3f120fa",
      "metadata": {},
      "outputs": [],
      "source": [
        "# imports\n",
        "import numpy as np \n",
        "import pandas as pd \n",
        "import sklearn\n",
        "from sklearn.model_selection import train_test_split\n",
        "from sklearn.linear_model import LinearRegression\n",
        "from sklearn.metrics import r2_score, mean_squared_error, mean_absolute_error\n",
        "from sklearn.preprocessing import PolynomialFeatures\n",
        "import seaborn as sns\n",
        "import matplotlib.pyplot as plt\n"
      ]
    },
    {
      "cell_type": "code",
      "execution_count": 10,
      "id": "595fb892",
      "metadata": {},
      "outputs": [
        {
          "data": {
            "text/html": [
              "<div>\n",
              "<style scoped>\n",
              "    .dataframe tbody tr th:only-of-type {\n",
              "        vertical-align: middle;\n",
              "    }\n",
              "\n",
              "    .dataframe tbody tr th {\n",
              "        vertical-align: top;\n",
              "    }\n",
              "\n",
              "    .dataframe thead th {\n",
              "        text-align: right;\n",
              "    }\n",
              "</style>\n",
              "<table border=\"1\" class=\"dataframe\">\n",
              "  <thead>\n",
              "    <tr style=\"text-align: right;\">\n",
              "      <th></th>\n",
              "      <th>Price</th>\n",
              "      <th>Review Scores Rating</th>\n",
              "      <th>Neighbourhood</th>\n",
              "      <th>Property Type</th>\n",
              "      <th>Room Type</th>\n",
              "    </tr>\n",
              "  </thead>\n",
              "  <tbody>\n",
              "    <tr>\n",
              "      <th>0</th>\n",
              "      <td>549</td>\n",
              "      <td>96.0</td>\n",
              "      <td>Manhattan</td>\n",
              "      <td>Apartment</td>\n",
              "      <td>Private room</td>\n",
              "    </tr>\n",
              "    <tr>\n",
              "      <th>1</th>\n",
              "      <td>149</td>\n",
              "      <td>100.0</td>\n",
              "      <td>Brooklyn</td>\n",
              "      <td>Apartment</td>\n",
              "      <td>Entire home/apt</td>\n",
              "    </tr>\n",
              "    <tr>\n",
              "      <th>2</th>\n",
              "      <td>250</td>\n",
              "      <td>100.0</td>\n",
              "      <td>Manhattan</td>\n",
              "      <td>Apartment</td>\n",
              "      <td>Entire home/apt</td>\n",
              "    </tr>\n",
              "    <tr>\n",
              "      <th>3</th>\n",
              "      <td>90</td>\n",
              "      <td>94.0</td>\n",
              "      <td>Brooklyn</td>\n",
              "      <td>Apartment</td>\n",
              "      <td>Private room</td>\n",
              "    </tr>\n",
              "    <tr>\n",
              "      <th>4</th>\n",
              "      <td>270</td>\n",
              "      <td>90.0</td>\n",
              "      <td>Manhattan</td>\n",
              "      <td>Apartment</td>\n",
              "      <td>Entire home/apt</td>\n",
              "    </tr>\n",
              "  </tbody>\n",
              "</table>\n",
              "</div>"
            ],
            "text/plain": [
              "   Price  Review Scores Rating Neighbourhood  Property Type        Room Type\n",
              "0    549                  96.0      Manhattan     Apartment     Private room\n",
              "1    149                 100.0       Brooklyn     Apartment  Entire home/apt\n",
              "2    250                 100.0      Manhattan     Apartment  Entire home/apt\n",
              "3     90                  94.0       Brooklyn     Apartment     Private room\n",
              "4    270                  90.0      Manhattan     Apartment  Entire home/apt"
            ]
          },
          "execution_count": 10,
          "metadata": {},
          "output_type": "execute_result"
        }
      ],
      "source": [
        "# loading data \n",
        "\n",
        "from pandas import read_csv\n",
        "\n",
        "q1_clean = pd.read_csv(\"https://raw.githubusercontent.com/DS3001/linearRegression/refs/heads/main/data/Q1_clean.csv\")\n",
        "q1_clean.head()"
      ]
    },
    {
      "cell_type": "markdown",
      "id": "5ad568db",
      "metadata": {},
      "source": [
        "1. Compute the average prices and scores by `Neighborhood `; which borough is the most expensive on average? Create a kernel density plot of price and log price, grouping by `Neighborhood `."
      ]
    },
    {
      "cell_type": "code",
      "execution_count": 11,
      "id": "903c7f48",
      "metadata": {},
      "outputs": [
        {
          "name": "stdout",
          "output_type": "stream",
          "text": [
            "Neighbourhood \n",
            "Manhattan        183.664286\n",
            "Staten Island    146.166667\n",
            "Brooklyn         127.747378\n",
            "Queens            96.857233\n",
            "Bronx             75.276498\n",
            "Name: Price, dtype: float64\n",
            "Neighbourhood \n",
            "Brooklyn         92.363497\n",
            "Manhattan        91.801496\n",
            "Bronx            91.654378\n",
            "Queens           91.549057\n",
            "Staten Island    90.843750\n",
            "Name: Review Scores Rating, dtype: float64\n"
          ]
        }
      ],
      "source": [
        "grouped_q1 = q1_clean.groupby(\"Neighbourhood \")\n",
        "\n",
        "avg_price = grouped_q1[\"Price\"].mean().sort_values(ascending=False)\n",
        "avg_scores = grouped_q1[\"Review Scores Rating\"].mean().sort_values(ascending=False)\n",
        "\n",
        "print(avg_price)\n",
        "print(avg_scores)\n",
        "\n",
        "# Manhattan is the most expensive on average "
      ]
    },
    {
      "cell_type": "code",
      "execution_count": 12,
      "id": "100fe991",
      "metadata": {},
      "outputs": [
        {
          "data": {
            "image/png": "[encoded data removed]",
            "text/plain": [
              "<Figure size 640x480 with 1 Axes>"
            ]
          },
          "metadata": {},
          "output_type": "display_data"
        }
      ],
      "source": [
        "# KDE for price\n",
        "\n",
        "sns.kdeplot(q1_clean[\"Price\"], label=\"Price\", fill=True)\n",
        "plt.title(\"Kernel Density Plot of Price\")\n",
        "plt.legend()\n",
        "plt.show()\n"
      ]
    },
    {
      "cell_type": "code",
      "execution_count": 13,
      "id": "773f3adc",
      "metadata": {},
      "outputs": [
        {
          "name": "stderr",
          "output_type": "stream",
          "text": [
            "/tmp/ipykernel_90937/586668147.py:6: UserWarning: No artists with labels found to put in legend.  Note that artists whose label start with an underscore are ignored when legend() is called with no argument.\n",
            "  plt.legend()\n"
          ]
        },
        {
          "data": {
            "image/png": "[encoded data removed]",
            "text/plain": [
              "<Figure size 640x480 with 1 Axes>"
            ]
          },
          "metadata": {},
          "output_type": "display_data"
        }
      ],
      "source": [
        "# KDE for log price \n",
        "\n",
        "q1_clean['Log_Price'] = np.log(q1_clean['Price'])\n",
        "sns.kdeplot(q1_clean, x = \"Log_Price\", hue=\"Neighbourhood \", fill=True)\n",
        "plt.title(\"Kernel Density Plot of Log(Price)\")\n",
        "plt.legend()\n",
        "plt.show()"
      ]
    },
    {
      "cell_type": "markdown",
      "id": "88a7b9f2",
      "metadata": {},
      "source": [
        "2. Regress price on `Neighborhood ` by creating the appropriate dummy/one-hot-encoded variables, without an intercept in the linear model. Compare the coefficients in the regression to the table from part 1. What pattern do you see? What are the coefficients in a regression of a continuous variable on one categorical variable?\n",
        "   \n",
        "   - The regression coefficients printed below are the same as those in the table from part 1. The coefficients in a regression of a continuous variable on one categorical variable represents the group mean for each category. "
      ]
    },
    {
      "cell_type": "code",
      "execution_count": 14,
      "id": "9ab6d595",
      "metadata": {},
      "outputs": [
        {
          "name": "stdout",
          "output_type": "stream",
          "text": [
            "[ 75.2764977  127.74737834 183.66428632  96.8572327  146.16666667]\n"
          ]
        }
      ],
      "source": [
        "# one-hot encoding\n",
        "df_dummies = pd.get_dummies(q1_clean['Neighbourhood '], prefix='Neighbourhood ')\n",
        "\n",
        "# model without intercept\n",
        "X = df_dummies\n",
        "y = q1_clean['Price']\n",
        "\n",
        "# model\n",
        "model = LinearRegression(fit_intercept=False)\n",
        "model.fit(X, y)\n",
        "\n",
        "print(model.coef_) # coefficients"
      ]
    },
    {
      "cell_type": "markdown",
      "id": "bbac7e14",
      "metadata": {},
      "source": [
        "3. Repeat part 2, but leave an intercept in the linear model. How do you have to handle the creation of the dummies differently? What is the intercept? Interpret the coefficients. How can I get the coefficients in part 2 from these new coefficients?\n",
        "   \n",
        "    - In order to leave an intercept in the linear model, we must modify the model so that one of the Neighbourhood categories is used as a reference group. \n",
        "    - The intercept represents the mean price of the reference category whereas the coefficients represent the mean price between that neighborhood and the reference category.\n",
        "    - To get the no-intercept regression coefficients from the intercept regression coefficients, I need to add the intercept to the coefficient."
      ]
    },
    {
      "cell_type": "code",
      "execution_count": 15,
      "id": "8b3c8786",
      "metadata": {},
      "outputs": [
        {
          "name": "stdout",
          "output_type": "stream",
          "text": [
            "Intercept (Reference Group - Neighborhood A): 125.94241234634988\n",
            "Coefficients: [-50.66591465   1.804966    57.72187398 -29.08517964  20.22425432]\n"
          ]
        }
      ],
      "source": [
        "# model with intercept \n",
        "Z = pd.get_dummies(q1_clean['Neighbourhood '], prefix='Neighbourhood ', drop_first=True)\n",
        "y = q1_clean['Price']\n",
        "\n",
        "model = LinearRegression()\n",
        "model.fit(X, y)\n",
        "\n",
        "print(\"Intercept (Reference Group - Neighborhood A):\", model.intercept_)\n",
        "print(\"Coefficients:\", model.coef_)"
      ]
    },
    {
      "cell_type": "markdown",
      "id": "a2350860",
      "metadata": {},
      "source": [
        "4. Split the sample 80/20 into a training and a test set. Run a regression of `Price` on `Review Scores Rating` and `Neighborhood `. What is the $R^2$ and RMSE on the test set? What is the coefficient on `Review Scores Rating`? What is the most expensive kind of property you can rent?"
      ]
    },
    {
      "cell_type": "code",
      "execution_count": 30,
      "id": "6f9acee2",
      "metadata": {},
      "outputs": [
        {
          "name": "stdout",
          "output_type": "stream",
          "text": [
            "Test set R^2: 0.07244815327117149\n",
            "Test set RMSE: 121.48983149798269\n",
            "Coefficient on Review Scores Rating: 1.0075976052691327\n"
          ]
        }
      ],
      "source": [
        "# regression of `Price` on `Review Scores Rating` and `Neighbourhood`\n",
        "\n",
        "X1 = pd.get_dummies(q1_clean[['Neighbourhood ', 'Review Scores Rating']], drop_first=True)\n",
        "y = q1_clean['Price']\n",
        "\n",
        "# adding continuous variable\n",
        "X1['Review Scores Rating'] = q1_clean['Review Scores Rating']\n",
        "\n",
        "# splitting into training and test \n",
        "X1_train, X1_test, y_train, y_test = train_test_split(X1, y, test_size=0.2, random_state=99)\n",
        "\n",
        "# model\n",
        "model = LinearRegression()\n",
        "model.fit(X1_train, y_train)\n",
        "\n",
        "# predicting\n",
        "y_pred = model.predict(X1_test)\n",
        "\n",
        "# R-squared\n",
        "r2 = r2_score(y_test, y_pred)\n",
        "\n",
        "# RMSE\n",
        "rmse = np.sqrt(mean_squared_error(y_test, y_pred))\n",
        "\n",
        "# Extract the coefficient on Review Scores Rating\n",
        "# Ensure that 'Review Scores Rating' is included in the X DataFrame\n",
        "coef_dict = dict(zip(X1.columns, model.coef_))\n",
        "coef_review = coef_dict['Review Scores Rating']\n",
        "\n",
        "print(\"Test set R^2:\", r2)\n",
        "print(\"Test set RMSE:\", rmse)\n",
        "print(\"Coefficient on Review Scores Rating:\", coef_review)"
      ]
    },
    {
      "cell_type": "code",
      "execution_count": 31,
      "id": "24c38c20",
      "metadata": {},
      "outputs": [
        {
          "name": "stdout",
          "output_type": "stream",
          "text": [
            "Most Expensive Property:\n",
            "       Neighbourhood  Property Type  Review Scores Rating  Predicted Price\n",
            "13772      Manhattan     Apartment                 100.0       191.763411\n"
          ]
        }
      ],
      "source": [
        "# predict most expensive property\n",
        "q1_clean['Predicted Price'] = model.predict(X1)\n",
        "\n",
        "# Sort by predicted price to find the most expensive property\n",
        "expensive_property = q1_clean.sort_values(by='Predicted Price', ascending=False).head(1)\n",
        "print(\"Most Expensive Property:\\n\", expensive_property[['Neighbourhood ', 'Property Type', 'Review Scores Rating', 'Predicted Price']])"
      ]
    },
    {
      "cell_type": "markdown",
      "id": "6b2b1514",
      "metadata": {},
      "source": [
        "5. Run a regression of `Price` on `Review Scores Rating` and `Neighborhood ` and `Property Type`. What is the $R^2$ and RMSE on the test set? What is the coefficient on `Review Scores Rating`? What is the most expensive kind of property you can rent?"
      ]
    },
    {
      "cell_type": "code",
      "execution_count": null,
      "id": "940db445",
      "metadata": {},
      "outputs": [
        {
          "name": "stdout",
          "output_type": "stream",
          "text": [
            "R^2 on Test Set: 0.0542\n",
            "RMSE on Test Set: 140.30\n",
            "Coefficient on Review Scores Rating: 1.20\n",
            "Most Expensive Property:\n",
            "    Neighbourhood  Property Type  Review Scores Rating  Predicted Price\n",
            "80      Manhattan          Loft                 100.0       261.701573\n"
          ]
        }
      ],
      "source": [
        "# one-hot encoding the categorical variables\n",
        "X2 = pd.get_dummies(q1_clean[['Neighbourhood ', 'Property Type']], drop_first=True)\n",
        "X2['Review Scores Rating'] = q1_clean['Review Scores Rating']\n",
        "y = q1_clean['Price']\n",
        "\n",
        "# split dataset\n",
        "X2_train, X2_test, y2_train, y2_test = train_test_split(X2, y, test_size=0.2, random_state=42)\n",
        "\n",
        "# model\n",
        "model = LinearRegression()\n",
        "model.fit(X2_train, y2_train)\n",
        "\n",
        "# prediction\n",
        "y2_pred = model.predict(X2_test)\n",
        "\n",
        "r2_2 = r2_score(y2_test, y2_pred)\n",
        "rmse_2 = np.sqrt(mean_squared_error(y2_test, y2_pred))\n",
        "\n",
        "# coefficient for `Review Scores Rating`\n",
        "review_scores_coeff_2 = model.coef_[list(X2.columns).index('Review Scores Rating')]\n",
        "\n",
        "# results\n",
        "print(f\"R^2 on Test Set: {r2_2:.4f}\")\n",
        "print(f\"RMSE on Test Set: {rmse_2:.2f}\")\n",
        "print(f\"Coefficient on Review Scores Rating: {review_scores_coeff_2:.2f}\")\n"
      ]
    },
    {
      "cell_type": "code",
      "execution_count": 27,
      "id": "364c1731",
      "metadata": {},
      "outputs": [
        {
          "name": "stdout",
          "output_type": "stream",
          "text": [
            "Most Expensive Property:\n",
            "    Neighbourhood  Property Type  Review Scores Rating  Predicted Price\n",
            "80      Manhattan          Loft                 100.0       261.701573\n"
          ]
        }
      ],
      "source": [
        "# predict prices for the full dataset to find the most expensive property\n",
        "q1_clean['Predicted Price'] = model.predict(X2)\n",
        "\n",
        "# Sort by predicted price to find the most expensive property\n",
        "most_expensive_property = q1_clean.sort_values(by='Predicted Price', ascending=False).head(1)\n",
        "print(\"Most Expensive Property:\\n\", most_expensive_property[['Neighbourhood ', 'Property Type', 'Review Scores Rating', 'Predicted Price']])"
      ]
    },
    {
      "cell_type": "markdown",
      "id": "14676bda",
      "metadata": {},
      "source": [
        "6. What does the coefficient on `Review Scores Rating` mean if it changes from part 4 to 5? Hint: Think about how multiple linear regression works.\n",
        "   \n",
        "   - The coefficient on `Review Scores Rating` increases from part 4 to 5 and this means that after controlling for `Property Type`, the impact of `Review Scores Rating` on `Price` appears stronger."
      ]
    },
    {
      "cell_type": "markdown",
      "id": "d0463f96",
      "metadata": {},
      "source": [
        "7. (Optional) We've included `Neighborhood ` and `Property Type` separately in the model. How do you interact them, so you can have \"A bedroom in Queens\" or \"A townhouse in Manhattan\". Split the sample 80/20 into a training and a test set and run a regression including that kind of \"property type X neighborhood\" dummy, plus `Review Scores Rating`. How does the slope coefficient for `Review Scores Rating`, the $R^2$, and the RMSE change? Do they increase significantly compares to part 5? Are the coefficients in this regression just the sum of the coefficients for `Neighbourhood ` and `Property Type` from 5? What is the most expensive kind of property you can rent?"
      ]
    },
    {
      "cell_type": "markdown",
      "id": "95f22300-0180-4ed2-be8f-ed56cf4cd36b",
      "metadata": {
        "id": "95f22300-0180-4ed2-be8f-ed56cf4cd36b"
      },
      "source": [
        "**Q2.** This question is a case study for linear models. The data are about car prices. In particular, they include:\n",
        "\n",
        "  - `Price`, `Color`, `Seating_Capacity`\n",
        "  - `Body_Type`: crossover, hatchback, muv, sedan, suv\n",
        "  - `Make`, `Make_Year`: The brand of car and year produced\n",
        "  - `Mileage_Run`: The number of miles on the odometer\n",
        "  - `Fuel_Type`: Diesel or gasoline/petrol\n",
        "  - `Transmission`, `Transmission_Type`:  speeds and automatic/manual"
      ]
    },
    {
      "cell_type": "markdown",
      "id": "ace643bd",
      "metadata": {},
      "source": [
        "1. Load `cars_hw.csv`. These data were really dirty, and I've already cleaned them a significant amount in terms of missing values and other issues, but some issues remain (e.g. outliers, badly skewed variables that require a log or arcsinh transformation) Note this is different than normalizing: there is a text below that explains further. Clean the data however you think is most appropriate."
      ]
    },
    {
      "cell_type": "code",
      "execution_count": null,
      "id": "27befd15",
      "metadata": {},
      "outputs": [
        {
          "data": {
            "text/html": [
              "<div>\n",
              "<style scoped>\n",
              "    .dataframe tbody tr th:only-of-type {\n",
              "        vertical-align: middle;\n",
              "    }\n",
              "\n",
              "    .dataframe tbody tr th {\n",
              "        vertical-align: top;\n",
              "    }\n",
              "\n",
              "    .dataframe thead th {\n",
              "        text-align: right;\n",
              "    }\n",
              "</style>\n",
              "<table border=\"1\" class=\"dataframe\">\n",
              "  <thead>\n",
              "    <tr style=\"text-align: right;\">\n",
              "      <th></th>\n",
              "      <th>Unnamed: 0</th>\n",
              "      <th>Make</th>\n",
              "      <th>Make_Year</th>\n",
              "      <th>Color</th>\n",
              "      <th>Body_Type</th>\n",
              "      <th>Mileage_Run</th>\n",
              "      <th>No_of_Owners</th>\n",
              "      <th>Seating_Capacity</th>\n",
              "      <th>Fuel_Type</th>\n",
              "      <th>Transmission</th>\n",
              "      <th>Transmission_Type</th>\n",
              "      <th>Price</th>\n",
              "    </tr>\n",
              "  </thead>\n",
              "  <tbody>\n",
              "    <tr>\n",
              "      <th>0</th>\n",
              "      <td>1</td>\n",
              "      <td>Volkswagen</td>\n",
              "      <td>2017</td>\n",
              "      <td>silver</td>\n",
              "      <td>sedan</td>\n",
              "      <td>44611</td>\n",
              "      <td>1st</td>\n",
              "      <td>5</td>\n",
              "      <td>diesel</td>\n",
              "      <td>7-Speed</td>\n",
              "      <td>Automatic</td>\n",
              "      <td>657000</td>\n",
              "    </tr>\n",
              "    <tr>\n",
              "      <th>1</th>\n",
              "      <td>2</td>\n",
              "      <td>Hyundai</td>\n",
              "      <td>2016</td>\n",
              "      <td>red</td>\n",
              "      <td>crossover</td>\n",
              "      <td>20305</td>\n",
              "      <td>1st</td>\n",
              "      <td>5</td>\n",
              "      <td>petrol</td>\n",
              "      <td>5-Speed</td>\n",
              "      <td>Manual</td>\n",
              "      <td>682000</td>\n",
              "    </tr>\n",
              "    <tr>\n",
              "      <th>2</th>\n",
              "      <td>3</td>\n",
              "      <td>Honda</td>\n",
              "      <td>2019</td>\n",
              "      <td>white</td>\n",
              "      <td>suv</td>\n",
              "      <td>29540</td>\n",
              "      <td>2nd</td>\n",
              "      <td>5</td>\n",
              "      <td>petrol</td>\n",
              "      <td>5-Speed</td>\n",
              "      <td>Manual</td>\n",
              "      <td>793000</td>\n",
              "    </tr>\n",
              "    <tr>\n",
              "      <th>3</th>\n",
              "      <td>4</td>\n",
              "      <td>Renault</td>\n",
              "      <td>2017</td>\n",
              "      <td>bronze</td>\n",
              "      <td>hatchback</td>\n",
              "      <td>35680</td>\n",
              "      <td>1st</td>\n",
              "      <td>5</td>\n",
              "      <td>petrol</td>\n",
              "      <td>5-Speed</td>\n",
              "      <td>Manual</td>\n",
              "      <td>414000</td>\n",
              "    </tr>\n",
              "    <tr>\n",
              "      <th>4</th>\n",
              "      <td>5</td>\n",
              "      <td>Hyundai</td>\n",
              "      <td>2017</td>\n",
              "      <td>orange</td>\n",
              "      <td>hatchback</td>\n",
              "      <td>25126</td>\n",
              "      <td>1st</td>\n",
              "      <td>5</td>\n",
              "      <td>petrol</td>\n",
              "      <td>5-Speed</td>\n",
              "      <td>Manual</td>\n",
              "      <td>515000</td>\n",
              "    </tr>\n",
              "  </tbody>\n",
              "</table>\n",
              "</div>"
            ],
            "text/plain": [
              "   Unnamed: 0        Make  Make_Year   Color  Body_Type  Mileage_Run  \\\n",
              "0           1  Volkswagen       2017  silver      sedan        44611   \n",
              "1           2     Hyundai       2016     red  crossover        20305   \n",
              "2           3       Honda       2019   white        suv        29540   \n",
              "3           4     Renault       2017  bronze  hatchback        35680   \n",
              "4           5     Hyundai       2017  orange  hatchback        25126   \n",
              "\n",
              "  No_of_Owners  Seating_Capacity Fuel_Type Transmission Transmission_Type  \\\n",
              "0          1st                 5    diesel      7-Speed         Automatic   \n",
              "1          1st                 5    petrol      5-Speed            Manual   \n",
              "2          2nd                 5    petrol      5-Speed            Manual   \n",
              "3          1st                 5    petrol      5-Speed            Manual   \n",
              "4          1st                 5    petrol      5-Speed            Manual   \n",
              "\n",
              "    Price  \n",
              "0  657000  \n",
              "1  682000  \n",
              "2  793000  \n",
              "3  414000  \n",
              "4  515000  "
            ]
          },
          "execution_count": 35,
          "metadata": {},
          "output_type": "execute_result"
        }
      ],
      "source": [
        "# loading data \n",
        "car = pd.read_csv('../data/cars_hw.csv')\n",
        "car.head()"
      ]
    },
    {
      "cell_type": "code",
      "execution_count": 52,
      "id": "74b8e14d",
      "metadata": {},
      "outputs": [
        {
          "data": {
            "text/html": [
              "<div>\n",
              "<style scoped>\n",
              "    .dataframe tbody tr th:only-of-type {\n",
              "        vertical-align: middle;\n",
              "    }\n",
              "\n",
              "    .dataframe tbody tr th {\n",
              "        vertical-align: top;\n",
              "    }\n",
              "\n",
              "    .dataframe thead th {\n",
              "        text-align: right;\n",
              "    }\n",
              "</style>\n",
              "<table border=\"1\" class=\"dataframe\">\n",
              "  <thead>\n",
              "    <tr style=\"text-align: right;\">\n",
              "      <th></th>\n",
              "      <th>Make</th>\n",
              "      <th>Make_Year</th>\n",
              "      <th>Color</th>\n",
              "      <th>Body_Type</th>\n",
              "      <th>Mileage_Run</th>\n",
              "      <th>No_of_Owners</th>\n",
              "      <th>Seating_Capacity</th>\n",
              "      <th>Fuel_Type</th>\n",
              "      <th>Transmission</th>\n",
              "      <th>Transmission_Type</th>\n",
              "      <th>Price</th>\n",
              "      <th>log_price</th>\n",
              "    </tr>\n",
              "  </thead>\n",
              "  <tbody>\n",
              "    <tr>\n",
              "      <th>0</th>\n",
              "      <td>Volkswagen</td>\n",
              "      <td>2017</td>\n",
              "      <td>silver</td>\n",
              "      <td>sedan</td>\n",
              "      <td>44611</td>\n",
              "      <td>1st</td>\n",
              "      <td>5</td>\n",
              "      <td>diesel</td>\n",
              "      <td>7-Speed</td>\n",
              "      <td>Automatic</td>\n",
              "      <td>657000</td>\n",
              "      <td>13.395439</td>\n",
              "    </tr>\n",
              "    <tr>\n",
              "      <th>1</th>\n",
              "      <td>Hyundai</td>\n",
              "      <td>2016</td>\n",
              "      <td>red</td>\n",
              "      <td>crossover</td>\n",
              "      <td>20305</td>\n",
              "      <td>1st</td>\n",
              "      <td>5</td>\n",
              "      <td>petrol</td>\n",
              "      <td>5-Speed</td>\n",
              "      <td>Manual</td>\n",
              "      <td>682000</td>\n",
              "      <td>13.432785</td>\n",
              "    </tr>\n",
              "    <tr>\n",
              "      <th>2</th>\n",
              "      <td>Honda</td>\n",
              "      <td>2019</td>\n",
              "      <td>white</td>\n",
              "      <td>suv</td>\n",
              "      <td>29540</td>\n",
              "      <td>2nd</td>\n",
              "      <td>5</td>\n",
              "      <td>petrol</td>\n",
              "      <td>5-Speed</td>\n",
              "      <td>Manual</td>\n",
              "      <td>793000</td>\n",
              "      <td>13.583579</td>\n",
              "    </tr>\n",
              "    <tr>\n",
              "      <th>3</th>\n",
              "      <td>Renault</td>\n",
              "      <td>2017</td>\n",
              "      <td>bronze</td>\n",
              "      <td>hatchback</td>\n",
              "      <td>35680</td>\n",
              "      <td>1st</td>\n",
              "      <td>5</td>\n",
              "      <td>petrol</td>\n",
              "      <td>5-Speed</td>\n",
              "      <td>Manual</td>\n",
              "      <td>414000</td>\n",
              "      <td>12.933621</td>\n",
              "    </tr>\n",
              "    <tr>\n",
              "      <th>4</th>\n",
              "      <td>Hyundai</td>\n",
              "      <td>2017</td>\n",
              "      <td>orange</td>\n",
              "      <td>hatchback</td>\n",
              "      <td>25126</td>\n",
              "      <td>1st</td>\n",
              "      <td>5</td>\n",
              "      <td>petrol</td>\n",
              "      <td>5-Speed</td>\n",
              "      <td>Manual</td>\n",
              "      <td>515000</td>\n",
              "      <td>13.151922</td>\n",
              "    </tr>\n",
              "  </tbody>\n",
              "</table>\n",
              "</div>"
            ],
            "text/plain": [
              "         Make  Make_Year   Color  Body_Type  Mileage_Run No_of_Owners  \\\n",
              "0  Volkswagen       2017  silver      sedan        44611          1st   \n",
              "1     Hyundai       2016     red  crossover        20305          1st   \n",
              "2       Honda       2019   white        suv        29540          2nd   \n",
              "3     Renault       2017  bronze  hatchback        35680          1st   \n",
              "4     Hyundai       2017  orange  hatchback        25126          1st   \n",
              "\n",
              "   Seating_Capacity Fuel_Type Transmission Transmission_Type   Price  \\\n",
              "0                 5    diesel      7-Speed         Automatic  657000   \n",
              "1                 5    petrol      5-Speed            Manual  682000   \n",
              "2                 5    petrol      5-Speed            Manual  793000   \n",
              "3                 5    petrol      5-Speed            Manual  414000   \n",
              "4                 5    petrol      5-Speed            Manual  515000   \n",
              "\n",
              "   log_price  \n",
              "0  13.395439  \n",
              "1  13.432785  \n",
              "2  13.583579  \n",
              "3  12.933621  \n",
              "4  13.151922  "
            ]
          },
          "execution_count": 52,
          "metadata": {},
          "output_type": "execute_result"
        }
      ],
      "source": [
        "# cleaning data\n",
        "car.dropna(inplace=True)\n",
        "\n",
        "# dropping column \n",
        "# car.drop(columns=['Unnamed: 0'], inplace=True)\n",
        "\n",
        "# log transformation\n",
        "car['log_price'] = np.log(car['Price'])\n",
        "car.head()"
      ]
    },
    {
      "cell_type": "markdown",
      "id": "56a55c55",
      "metadata": {},
      "source": [
        "2. Summarize the `Price` variable and create a kernel density plot. Use `.groupby()` and `.describe()` to summarize prices by brand (`Make`). Make a grouped kernel density plot by `Make`. Which car brands are the most expensive? What do prices look like in general?"
      ]
    },
    {
      "cell_type": "code",
      "execution_count": 48,
      "id": "3868eb54",
      "metadata": {},
      "outputs": [
        {
          "data": {
            "text/plain": [
              "count    9.760000e+02\n",
              "mean     7.410195e+05\n",
              "std      3.673234e+05\n",
              "min      1.880000e+05\n",
              "25%      4.757500e+05\n",
              "50%      6.665000e+05\n",
              "75%      8.830000e+05\n",
              "max      2.941000e+06\n",
              "Name: Price, dtype: float64"
            ]
          },
          "execution_count": 48,
          "metadata": {},
          "output_type": "execute_result"
        }
      ],
      "source": [
        "# summary \n",
        "car['Price'].describe()"
      ]
    },
    {
      "cell_type": "code",
      "execution_count": 55,
      "id": "a976d5a9",
      "metadata": {},
      "outputs": [
        {
          "data": {
            "image/png": "[encoded data removed]",
            "text/plain": [
              "<Figure size 640x480 with 1 Axes>"
            ]
          },
          "metadata": {},
          "output_type": "display_data"
        }
      ],
      "source": [
        "# KDE for price\n",
        "\n",
        "sns.kdeplot(car[\"Price\"], label=\"Price\", fill=True)\n",
        "plt.title(\"Kernel Density Plot of Price\")\n",
        "plt.legend()\n",
        "plt.show()"
      ]
    },
    {
      "cell_type": "markdown",
      "id": "27cb047d",
      "metadata": {},
      "source": [
        "- `Prices` looks very skewed to the right but generally in the 0-1.5 range."
      ]
    },
    {
      "cell_type": "code",
      "execution_count": 56,
      "id": "2ee5f239",
      "metadata": {},
      "outputs": [
        {
          "data": {
            "text/html": [
              "<div>\n",
              "<style scoped>\n",
              "    .dataframe tbody tr th:only-of-type {\n",
              "        vertical-align: middle;\n",
              "    }\n",
              "\n",
              "    .dataframe tbody tr th {\n",
              "        vertical-align: top;\n",
              "    }\n",
              "\n",
              "    .dataframe thead th {\n",
              "        text-align: right;\n",
              "    }\n",
              "</style>\n",
              "<table border=\"1\" class=\"dataframe\">\n",
              "  <thead>\n",
              "    <tr style=\"text-align: right;\">\n",
              "      <th></th>\n",
              "      <th>count</th>\n",
              "      <th>mean</th>\n",
              "      <th>std</th>\n",
              "      <th>min</th>\n",
              "      <th>25%</th>\n",
              "      <th>50%</th>\n",
              "      <th>75%</th>\n",
              "      <th>max</th>\n",
              "    </tr>\n",
              "    <tr>\n",
              "      <th>Make</th>\n",
              "      <th></th>\n",
              "      <th></th>\n",
              "      <th></th>\n",
              "      <th></th>\n",
              "      <th></th>\n",
              "      <th></th>\n",
              "      <th></th>\n",
              "      <th></th>\n",
              "    </tr>\n",
              "  </thead>\n",
              "  <tbody>\n",
              "    <tr>\n",
              "      <th>Chevrolet</th>\n",
              "      <td>6.0</td>\n",
              "      <td>12.919895</td>\n",
              "      <td>0.480975</td>\n",
              "      <td>12.495004</td>\n",
              "      <td>12.568392</td>\n",
              "      <td>12.752286</td>\n",
              "      <td>13.171681</td>\n",
              "      <td>13.701221</td>\n",
              "    </tr>\n",
              "    <tr>\n",
              "      <th>Datsun</th>\n",
              "      <td>3.0</td>\n",
              "      <td>12.576047</td>\n",
              "      <td>0.036311</td>\n",
              "      <td>12.538967</td>\n",
              "      <td>12.558302</td>\n",
              "      <td>12.577636</td>\n",
              "      <td>12.594587</td>\n",
              "      <td>12.611538</td>\n",
              "    </tr>\n",
              "    <tr>\n",
              "      <th>Ford</th>\n",
              "      <td>52.0</td>\n",
              "      <td>13.468280</td>\n",
              "      <td>0.210895</td>\n",
              "      <td>12.577636</td>\n",
              "      <td>13.361380</td>\n",
              "      <td>13.469493</td>\n",
              "      <td>13.575984</td>\n",
              "      <td>13.879424</td>\n",
              "    </tr>\n",
              "    <tr>\n",
              "      <th>Honda</th>\n",
              "      <td>73.0</td>\n",
              "      <td>13.536318</td>\n",
              "      <td>0.336972</td>\n",
              "      <td>12.663497</td>\n",
              "      <td>13.272506</td>\n",
              "      <td>13.573439</td>\n",
              "      <td>13.726679</td>\n",
              "      <td>14.245343</td>\n",
              "    </tr>\n",
              "    <tr>\n",
              "      <th>Hyundai</th>\n",
              "      <td>305.0</td>\n",
              "      <td>13.368511</td>\n",
              "      <td>0.398781</td>\n",
              "      <td>12.421184</td>\n",
              "      <td>13.091904</td>\n",
              "      <td>13.366094</td>\n",
              "      <td>13.637579</td>\n",
              "      <td>14.370544</td>\n",
              "    </tr>\n",
              "    <tr>\n",
              "      <th>Jeep</th>\n",
              "      <td>4.0</td>\n",
              "      <td>14.216591</td>\n",
              "      <td>0.105084</td>\n",
              "      <td>14.070153</td>\n",
              "      <td>14.183270</td>\n",
              "      <td>14.240265</td>\n",
              "      <td>14.273586</td>\n",
              "      <td>14.315680</td>\n",
              "    </tr>\n",
              "    <tr>\n",
              "      <th>Kia</th>\n",
              "      <td>8.0</td>\n",
              "      <td>14.292177</td>\n",
              "      <td>0.076877</td>\n",
              "      <td>14.129591</td>\n",
              "      <td>14.272242</td>\n",
              "      <td>14.303105</td>\n",
              "      <td>14.349515</td>\n",
              "      <td>14.369970</td>\n",
              "    </tr>\n",
              "    <tr>\n",
              "      <th>MG Motors</th>\n",
              "      <td>35.0</td>\n",
              "      <td>14.439052</td>\n",
              "      <td>0.066263</td>\n",
              "      <td>14.278615</td>\n",
              "      <td>14.395744</td>\n",
              "      <td>14.429615</td>\n",
              "      <td>14.497597</td>\n",
              "      <td>14.518113</td>\n",
              "    </tr>\n",
              "    <tr>\n",
              "      <th>Mahindra</th>\n",
              "      <td>18.0</td>\n",
              "      <td>13.898953</td>\n",
              "      <td>0.159906</td>\n",
              "      <td>13.587354</td>\n",
              "      <td>13.851808</td>\n",
              "      <td>13.905680</td>\n",
              "      <td>13.961249</td>\n",
              "      <td>14.197366</td>\n",
              "    </tr>\n",
              "    <tr>\n",
              "      <th>Maruti Suzuki</th>\n",
              "      <td>293.0</td>\n",
              "      <td>13.218132</td>\n",
              "      <td>0.371409</td>\n",
              "      <td>12.375815</td>\n",
              "      <td>12.926348</td>\n",
              "      <td>13.174956</td>\n",
              "      <td>13.546323</td>\n",
              "      <td>13.966513</td>\n",
              "    </tr>\n",
              "    <tr>\n",
              "      <th>Nissan</th>\n",
              "      <td>4.0</td>\n",
              "      <td>13.641194</td>\n",
              "      <td>0.392610</td>\n",
              "      <td>13.071070</td>\n",
              "      <td>13.537775</td>\n",
              "      <td>13.788723</td>\n",
              "      <td>13.892143</td>\n",
              "      <td>13.916260</td>\n",
              "    </tr>\n",
              "    <tr>\n",
              "      <th>Renault</th>\n",
              "      <td>68.0</td>\n",
              "      <td>13.350862</td>\n",
              "      <td>0.331717</td>\n",
              "      <td>12.567237</td>\n",
              "      <td>13.071063</td>\n",
              "      <td>13.375395</td>\n",
              "      <td>13.593607</td>\n",
              "      <td>13.967373</td>\n",
              "    </tr>\n",
              "    <tr>\n",
              "      <th>Skoda</th>\n",
              "      <td>5.0</td>\n",
              "      <td>13.640864</td>\n",
              "      <td>0.827046</td>\n",
              "      <td>12.985398</td>\n",
              "      <td>13.051941</td>\n",
              "      <td>13.195614</td>\n",
              "      <td>14.077105</td>\n",
              "      <td>14.894260</td>\n",
              "    </tr>\n",
              "    <tr>\n",
              "      <th>Tata</th>\n",
              "      <td>23.0</td>\n",
              "      <td>13.713405</td>\n",
              "      <td>0.615090</td>\n",
              "      <td>12.144197</td>\n",
              "      <td>13.566383</td>\n",
              "      <td>13.675098</td>\n",
              "      <td>14.251370</td>\n",
              "      <td>14.557448</td>\n",
              "    </tr>\n",
              "    <tr>\n",
              "      <th>Toyota</th>\n",
              "      <td>50.0</td>\n",
              "      <td>13.535507</td>\n",
              "      <td>0.360112</td>\n",
              "      <td>12.815838</td>\n",
              "      <td>13.171414</td>\n",
              "      <td>13.703461</td>\n",
              "      <td>13.838227</td>\n",
              "      <td>13.903521</td>\n",
              "    </tr>\n",
              "    <tr>\n",
              "      <th>Volkswagen</th>\n",
              "      <td>29.0</td>\n",
              "      <td>13.294742</td>\n",
              "      <td>0.203839</td>\n",
              "      <td>12.904207</td>\n",
              "      <td>13.203021</td>\n",
              "      <td>13.316284</td>\n",
              "      <td>13.457406</td>\n",
              "      <td>13.579788</td>\n",
              "    </tr>\n",
              "  </tbody>\n",
              "</table>\n",
              "</div>"
            ],
            "text/plain": [
              "               count       mean       std        min        25%        50%  \\\n",
              "Make                                                                         \n",
              "Chevrolet        6.0  12.919895  0.480975  12.495004  12.568392  12.752286   \n",
              "Datsun           3.0  12.576047  0.036311  12.538967  12.558302  12.577636   \n",
              "Ford            52.0  13.468280  0.210895  12.577636  13.361380  13.469493   \n",
              "Honda           73.0  13.536318  0.336972  12.663497  13.272506  13.573439   \n",
              "Hyundai        305.0  13.368511  0.398781  12.421184  13.091904  13.366094   \n",
              "Jeep             4.0  14.216591  0.105084  14.070153  14.183270  14.240265   \n",
              "Kia              8.0  14.292177  0.076877  14.129591  14.272242  14.303105   \n",
              "MG Motors       35.0  14.439052  0.066263  14.278615  14.395744  14.429615   \n",
              "Mahindra        18.0  13.898953  0.159906  13.587354  13.851808  13.905680   \n",
              "Maruti Suzuki  293.0  13.218132  0.371409  12.375815  12.926348  13.174956   \n",
              "Nissan           4.0  13.641194  0.392610  13.071070  13.537775  13.788723   \n",
              "Renault         68.0  13.350862  0.331717  12.567237  13.071063  13.375395   \n",
              "Skoda            5.0  13.640864  0.827046  12.985398  13.051941  13.195614   \n",
              "Tata            23.0  13.713405  0.615090  12.144197  13.566383  13.675098   \n",
              "Toyota          50.0  13.535507  0.360112  12.815838  13.171414  13.703461   \n",
              "Volkswagen      29.0  13.294742  0.203839  12.904207  13.203021  13.316284   \n",
              "\n",
              "                     75%        max  \n",
              "Make                                 \n",
              "Chevrolet      13.171681  13.701221  \n",
              "Datsun         12.594587  12.611538  \n",
              "Ford           13.575984  13.879424  \n",
              "Honda          13.726679  14.245343  \n",
              "Hyundai        13.637579  14.370544  \n",
              "Jeep           14.273586  14.315680  \n",
              "Kia            14.349515  14.369970  \n",
              "MG Motors      14.497597  14.518113  \n",
              "Mahindra       13.961249  14.197366  \n",
              "Maruti Suzuki  13.546323  13.966513  \n",
              "Nissan         13.892143  13.916260  \n",
              "Renault        13.593607  13.967373  \n",
              "Skoda          14.077105  14.894260  \n",
              "Tata           14.251370  14.557448  \n",
              "Toyota         13.838227  13.903521  \n",
              "Volkswagen     13.457406  13.579788  "
            ]
          },
          "execution_count": 56,
          "metadata": {},
          "output_type": "execute_result"
        }
      ],
      "source": [
        "car_make = car.groupby('Make')\n",
        "car_make['log_price'].describe()"
      ]
    },
    {
      "cell_type": "markdown",
      "id": "7ac2b41b",
      "metadata": {},
      "source": [
        "- Jeep, Kia, and MG Motors are on average, the more expensive car makers."
      ]
    },
    {
      "cell_type": "code",
      "execution_count": 57,
      "id": "659007c1",
      "metadata": {},
      "outputs": [
        {
          "name": "stderr",
          "output_type": "stream",
          "text": [
            "/tmp/ipykernel_90937/4176649211.py:5: UserWarning: No artists with labels found to put in legend.  Note that artists whose label start with an underscore are ignored when legend() is called with no argument.\n",
            "  plt.legend()\n"
          ]
        },
        {
          "data": {
            "image/png": "[encoded data removed]",
            "text/plain": [
              "<Figure size 640x480 with 1 Axes>"
            ]
          },
          "metadata": {},
          "output_type": "display_data"
        }
      ],
      "source": [
        "# KDE by `Make`\n",
        "\n",
        "sns.kdeplot(data=car, x = \"log_price\", hue=\"Make\", fill=True)\n",
        "plt.title(\"Kernel Density Plot of Log Price by Make\")\n",
        "plt.legend()\n",
        "plt.show()"
      ]
    },
    {
      "cell_type": "markdown",
      "id": "ced76eed",
      "metadata": {},
      "source": [
        "3. Split the data into an 80% training set and a 20% testing set.\n",
        "   \n",
        "   - Done below"
      ]
    },
    {
      "cell_type": "markdown",
      "id": "0a1d7a09",
      "metadata": {},
      "source": [
        "4. Make a model where you regress price on the numeric variables alone; what is the $R^2$ and `RMSE` on the training set and test set? Make a second model where, for the categorical variables, you regress price on a model comprised of one-hot encoded regressors/features alone (you can use `pd.get_dummies()`; be careful of the dummy variable trap); what is the $R^2$ and `RMSE` on the test set? Which model performs better on the test set? Make a third model that combines all the regressors from the previous two; what is the $R^2$ and `RMSE` on the test set? Does the joint model perform better or worse, and by how much?"
      ]
    },
    {
      "cell_type": "code",
      "execution_count": 53,
      "id": "6a461303",
      "metadata": {},
      "outputs": [
        {
          "name": "stdout",
          "output_type": "stream",
          "text": [
            "<class 'pandas.core.frame.DataFrame'>\n",
            "RangeIndex: 976 entries, 0 to 975\n",
            "Data columns (total 12 columns):\n",
            " #   Column             Non-Null Count  Dtype  \n",
            "---  ------             --------------  -----  \n",
            " 0   Make               976 non-null    object \n",
            " 1   Make_Year          976 non-null    int64  \n",
            " 2   Color              976 non-null    object \n",
            " 3   Body_Type          976 non-null    object \n",
            " 4   Mileage_Run        976 non-null    int64  \n",
            " 5   No_of_Owners       976 non-null    object \n",
            " 6   Seating_Capacity   976 non-null    int64  \n",
            " 7   Fuel_Type          976 non-null    object \n",
            " 8   Transmission       976 non-null    object \n",
            " 9   Transmission_Type  976 non-null    object \n",
            " 10  Price              976 non-null    int64  \n",
            " 11  log_price          976 non-null    float64\n",
            "dtypes: float64(1), int64(4), object(7)\n",
            "memory usage: 91.6+ KB\n"
          ]
        }
      ],
      "source": [
        "car.info()"
      ]
    },
    {
      "cell_type": "code",
      "execution_count": 61,
      "id": "78900992",
      "metadata": {},
      "outputs": [
        {
          "name": "stdout",
          "output_type": "stream",
          "text": [
            "R^2: 0.4677866421591417\n",
            "RMSE: 0.3026984951361233\n"
          ]
        }
      ],
      "source": [
        "# regressing price on numeric variables\n",
        "\n",
        "# selecting only numeric variables\n",
        "numeric_vars = car.select_dtypes(include=[np.number]).columns.tolist()\n",
        "numeric_vars.remove('Price')\n",
        "numeric_vars.remove('log_price')  # remove target variable from the list of features\n",
        "\n",
        "# data split\n",
        "X3 = car[numeric_vars]\n",
        "y3 = car['log_price']\n",
        "X3_train, X3_test, y3_train, y3_test = train_test_split(X3, y3, test_size=0.2, random_state=99)\n",
        "\n",
        "# regression model\n",
        "model = LinearRegression()\n",
        "model.fit(X3_train, y3_train)\n",
        "\n",
        "# predict on test data\n",
        "y3_pred = model.predict(X3_test)\n",
        "\n",
        "r2 = r2_score(y3_test, y3_pred)\n",
        "rmse = np.sqrt(mean_squared_error(y3_test, y3_pred))\n",
        "\n",
        "print(f'R^2: {r2}')\n",
        "print(f'RMSE: {rmse}')\n"
      ]
    },
    {
      "cell_type": "code",
      "execution_count": 62,
      "id": "ebda28d8",
      "metadata": {},
      "outputs": [
        {
          "name": "stdout",
          "output_type": "stream",
          "text": [
            "R^2: 0.9525142212046768\n",
            "RMSE: 0.09041680553016279\n"
          ]
        }
      ],
      "source": [
        "# regress price on categorical variables\n",
        "\n",
        "# only categorical variables\n",
        "categorical_vars = car.select_dtypes(include=['object']).columns.tolist()\n",
        "\n",
        "# one-hot encoding\n",
        "car_encoded = pd.get_dummies(car, columns=categorical_vars, drop_first=True)\n",
        "\n",
        "# data split\n",
        "X4 = car_encoded.drop('log_price', axis=1)\n",
        "y4 = car_encoded['log_price']\n",
        "X4_train, X4_test, y4_train, y4_test = train_test_split(X4, y4, test_size=0.2, random_state=99)\n",
        "\n",
        "# regression model\n",
        "model = LinearRegression()\n",
        "model.fit(X4_train, y4_train)\n",
        "\n",
        "# Predict on the test data\n",
        "y4_pred = model.predict(X4_test)\n",
        "\n",
        "# Evaluate the model\n",
        "r2_4 = r2_score(y4_test, y4_pred)\n",
        "rmse_4 = np.sqrt(mean_squared_error(y4_test, y4_pred))\n",
        "\n",
        "print(f'R^2: {r2_4}')\n",
        "print(f'RMSE: {rmse_4}')\n"
      ]
    },
    {
      "cell_type": "markdown",
      "id": "27eacf1b",
      "metadata": {},
      "source": [
        "- $R^2$ is higher and RMSE is lower for the categorical regression model than the numeric, so it is more accurate at this point."
      ]
    },
    {
      "cell_type": "code",
      "execution_count": 68,
      "id": "dce7de8e",
      "metadata": {},
      "outputs": [
        {
          "name": "stdout",
          "output_type": "stream",
          "text": [
            "R^2: 0.9525142212046768\n",
            "RMSE: 0.09041680553016279\n"
          ]
        }
      ],
      "source": [
        "# joint model \n",
        "\n",
        "# numeric and categorical variables\n",
        "numeric_vars = car.select_dtypes(include=[np.number]).columns.tolist()\n",
        "numeric_vars.remove('Price') \n",
        "numeric_vars.remove('log_price') \n",
        "\n",
        "# data split\n",
        "X5 = car_encoded.drop(['log_price'], axis=1) # encoding from above\n",
        "y5 = car_encoded['log_price']\n",
        "X5_train, X5_test, y5_train, y5_test = train_test_split(X5, y5, test_size=0.2, random_state=99)\n",
        "\n",
        "# regression model\n",
        "model = LinearRegression()\n",
        "model.fit(X5_train, y5_train)\n",
        "\n",
        "# predict on test data\n",
        "y5_pred = model.predict(X5_test)\n",
        "\n",
        "r2_5 = r2_score(y5_test, y5_pred)\n",
        "rmse_5 = np.sqrt(mean_squared_error(y5_test, y5_pred))\n",
        "\n",
        "print(f'R^2: {r2_5}')\n",
        "print(f'RMSE: {rmse_5}')"
      ]
    },
    {
      "cell_type": "markdown",
      "id": "9e36ad1a",
      "metadata": {},
      "source": [
        "- The joint model performs at the same level as the categorical regression model."
      ]
    },
    {
      "cell_type": "markdown",
      "id": "5e707a80",
      "metadata": {},
      "source": [
        "5. Use the `PolynomialFeatures` function from `sklearn` to expand the set of numerical variables you're using in the regression. As you increase the degree of the expansion, how do the $R^2$ and `RMSE` change? At what point does $R^2$ go negative on the test set? For your best model with expanded features, what is the $R^2$ and `RMSE`? How does it compare to your best model from part 4?"
      ]
    },
    {
      "cell_type": "code",
      "execution_count": 91,
      "id": "d6d489f3",
      "metadata": {},
      "outputs": [
        {
          "name": "stdout",
          "output_type": "stream",
          "text": [
            "R^2: 0.959733433942101\n",
            "RMSE: 0.08326062638018948\n"
          ]
        }
      ],
      "source": [
        "# use PolynomialFeatures to create polynomial features from the numeric variables\n",
        "poly = PolynomialFeatures(degree=2, include_bias=False)\n",
        "numeric_poly = poly.fit_transform(car_encoded[numeric_vars])\n",
        "\n",
        "# dataframe with poly features\n",
        "numeric_poly_df = pd.DataFrame(numeric_poly, columns=poly.get_feature_names_out(numeric_vars))\n",
        "\n",
        "# polynomial features + encoded categorical variables\n",
        "car_poly_encoded = pd.concat([numeric_poly_df, car_encoded.drop(columns=numeric_vars)], axis=1)\n",
        "\n",
        "# data split\n",
        "X6 = car_poly_encoded.drop('log_price', axis=1)\n",
        "y6 = car_poly_encoded['log_price']\n",
        "X6_train, X6_test, y6_train, y6_test = train_test_split(X6, y6, test_size=0.2, random_state=99)\n",
        "\n",
        "# regression model\n",
        "model = LinearRegression()\n",
        "model.fit(X6_train, y6_train)\n",
        "\n",
        "# predict \n",
        "y6_pred = model.predict(X6_test)\n",
        "\n",
        "r2_6 = r2_score(y6_test, y6_pred)\n",
        "rmse_6 = np.sqrt(mean_squared_error(y6_test, y6_pred))\n",
        "\n",
        "print(f'R^2: {r2_6}')\n",
        "print(f'RMSE: {rmse_6}')"
      ]
    },
    {
      "cell_type": "markdown",
      "id": "bed54517",
      "metadata": {},
      "source": [
        "- As I increase the degree of the expansion, $R^2$ and RMSE decreases. By degree=13, $R^2$ goes negative on the test set. \n",
        "- At degree=2 (best expanded features model), $R^2$ is 0.9597 and RMSE is 0.08326. Compared to my best model in part 4, which was the categorical regression and joint model, the expanded features model is only a little bit better with a 0.007 greater $R^2$ and .01 smaller RMSE."
      ]
    },
    {
      "cell_type": "markdown",
      "id": "c2168ac0",
      "metadata": {},
      "source": [
        "6. For your best model so far, determine the predicted values for the test data and plot them against the true values. Do the predicted values and true values roughly line up along the diagonal, or not? Compute the residuals/errors for the test data and create a kernel density plot. Do the residuals look roughly bell-shaped around zero? Evaluate the strengths and weaknesses of your model."
      ]
    },
    {
      "cell_type": "code",
      "execution_count": null,
      "id": "85f73b99",
      "metadata": {},
      "outputs": [
        {
          "data": {
            "image/png": "[encoded data removed]",
            "text/plain": [
              "<Figure size 800x600 with 1 Axes>"
            ]
          },
          "metadata": {},
          "output_type": "display_data"
        }
      ],
      "source": [
        "# scatter plot of predicted vs. actual values\n",
        "plt.figure(figsize=(8, 6))\n",
        "sns.scatterplot(x=y6_test, y=y6_pred, alpha=0.6, color='blue', label='Predicted')\n",
        "\n",
        "# 45-degree reference line (perfect predictions)\n",
        "plt.plot([y6_test.min(), y6_test.max()], [y6_test.min(), y6_test.max()], color='red', linestyle='--', label='Perfect Prediction')\n",
        "\n",
        "# labels and title\n",
        "plt.xlabel(\"Actual log_price\")\n",
        "plt.ylabel(\"Predicted log_price\")\n",
        "plt.title(\"Predicted vs. Actual log_price (Polynomial Regression)\")\n",
        "plt.legend()\n",
        "plt.show()\n",
        "\n",
        "# The predicted values and true values roughly line up along the diagonal."
      ]
    },
    {
      "cell_type": "code",
      "execution_count": 97,
      "id": "07db49fb",
      "metadata": {},
      "outputs": [
        {
          "name": "stdout",
          "output_type": "stream",
          "text": [
            "Residuals: 317    0.144051\n",
            "793    0.042720\n",
            "48    -0.039132\n",
            "383   -0.024762\n",
            "969    0.018866\n",
            "         ...   \n",
            "15    -0.166606\n",
            "796   -0.025278\n",
            "236    0.099271\n",
            "755   -0.147821\n",
            "101   -0.069578\n",
            "Name: log_price, Length: 196, dtype: float64\n"
          ]
        }
      ],
      "source": [
        "# residuals/errors for test data\n",
        "residuals = y6_test - y6_pred\n",
        "print(f'Residuals: {residuals}')"
      ]
    },
    {
      "cell_type": "code",
      "execution_count": 98,
      "id": "18e95a8a",
      "metadata": {},
      "outputs": [
        {
          "name": "stderr",
          "output_type": "stream",
          "text": [
            "/tmp/ipykernel_90937/3766738763.py:3: FutureWarning: \n",
            "\n",
            "`shade` is now deprecated in favor of `fill`; setting `fill=True`.\n",
            "This will become an error in seaborn v0.14.0; please update your code.\n",
            "\n",
            "  sns.kdeplot(residuals, shade=True)\n",
            "/tmp/ipykernel_90937/3766738763.py:7: UserWarning: No artists with labels found to put in legend.  Note that artists whose label start with an underscore are ignored when legend() is called with no argument.\n",
            "  plt.legend()\n"
          ]
        },
        {
          "data": {
            "image/png": "[encoded data removed]",
            "text/plain": [
              "<Figure size 640x480 with 1 Axes>"
            ]
          },
          "metadata": {},
          "output_type": "display_data"
        }
      ],
      "source": [
        "# KDE for residuals \n",
        "\n",
        "sns.kdeplot(residuals, shade=True)\n",
        "plt.title(\"Kernel Density Plot of Residuals\")\n",
        "plt.xlabel('Residuals')\n",
        "plt.ylabel('Density')\n",
        "plt.legend()\n",
        "plt.show()"
      ]
    },
    {
      "cell_type": "markdown",
      "id": "536f3edb",
      "metadata": {},
      "source": [
        "- The residuals look bell-shaped around 0. \n",
        "- Using the PolynomialFeatures allows for more complex relationships and captures nonlinear relationships between numeric variables and log_price. Its weakness however, is that it increases the number of predictors significantly, so it may lead to overfitting."
      ]
    },
    {
      "cell_type": "markdown",
      "id": "b67478ac-ad78-4a44-9720-583c71b8da14",
      "metadata": {
        "id": "b67478ac-ad78-4a44-9720-583c71b8da14"
      },
      "source": [
        "**Q3.**\n",
        "1. Find a dataset on a topic you're interested in. Some easy options are data.gov, kaggle.com, and data.world."
      ]
    },
    {
      "cell_type": "markdown",
      "id": "5f6ed005",
      "metadata": {},
      "source": [
        "2. Clean the data and do some exploratory data analysis on key variables that interest you. Pick a particular target/outcome variable and features/predictors."
      ]
    },
    {
      "cell_type": "code",
      "execution_count": 100,
      "id": "74da4833",
      "metadata": {},
      "outputs": [
        {
          "data": {
            "text/html": [
              "<div>\n",
              "<style scoped>\n",
              "    .dataframe tbody tr th:only-of-type {\n",
              "        vertical-align: middle;\n",
              "    }\n",
              "\n",
              "    .dataframe tbody tr th {\n",
              "        vertical-align: top;\n",
              "    }\n",
              "\n",
              "    .dataframe thead th {\n",
              "        text-align: right;\n",
              "    }\n",
              "</style>\n",
              "<table border=\"1\" class=\"dataframe\">\n",
              "  <thead>\n",
              "    <tr style=\"text-align: right;\">\n",
              "      <th></th>\n",
              "      <th>Gender</th>\n",
              "      <th>Age</th>\n",
              "      <th>Occupation</th>\n",
              "      <th>Sleep Duration</th>\n",
              "      <th>Quality of Sleep</th>\n",
              "      <th>Physical Activity Level</th>\n",
              "      <th>Stress Level</th>\n",
              "      <th>BMI Category</th>\n",
              "      <th>Blood Pressure</th>\n",
              "      <th>Heart Rate</th>\n",
              "      <th>Daily Steps</th>\n",
              "      <th>Sleep Disorder</th>\n",
              "    </tr>\n",
              "  </thead>\n",
              "  <tbody>\n",
              "    <tr>\n",
              "      <th>3</th>\n",
              "      <td>Male</td>\n",
              "      <td>28</td>\n",
              "      <td>Sales Representative</td>\n",
              "      <td>5.9</td>\n",
              "      <td>4</td>\n",
              "      <td>30</td>\n",
              "      <td>8</td>\n",
              "      <td>Obese</td>\n",
              "      <td>140/90</td>\n",
              "      <td>85</td>\n",
              "      <td>3000</td>\n",
              "      <td>Sleep Apnea</td>\n",
              "    </tr>\n",
              "    <tr>\n",
              "      <th>4</th>\n",
              "      <td>Male</td>\n",
              "      <td>28</td>\n",
              "      <td>Sales Representative</td>\n",
              "      <td>5.9</td>\n",
              "      <td>4</td>\n",
              "      <td>30</td>\n",
              "      <td>8</td>\n",
              "      <td>Obese</td>\n",
              "      <td>140/90</td>\n",
              "      <td>85</td>\n",
              "      <td>3000</td>\n",
              "      <td>Sleep Apnea</td>\n",
              "    </tr>\n",
              "    <tr>\n",
              "      <th>5</th>\n",
              "      <td>Male</td>\n",
              "      <td>28</td>\n",
              "      <td>Software Engineer</td>\n",
              "      <td>5.9</td>\n",
              "      <td>4</td>\n",
              "      <td>30</td>\n",
              "      <td>8</td>\n",
              "      <td>Obese</td>\n",
              "      <td>140/90</td>\n",
              "      <td>85</td>\n",
              "      <td>3000</td>\n",
              "      <td>Insomnia</td>\n",
              "    </tr>\n",
              "    <tr>\n",
              "      <th>6</th>\n",
              "      <td>Male</td>\n",
              "      <td>29</td>\n",
              "      <td>Teacher</td>\n",
              "      <td>6.3</td>\n",
              "      <td>6</td>\n",
              "      <td>40</td>\n",
              "      <td>7</td>\n",
              "      <td>Obese</td>\n",
              "      <td>140/90</td>\n",
              "      <td>82</td>\n",
              "      <td>3500</td>\n",
              "      <td>Insomnia</td>\n",
              "    </tr>\n",
              "    <tr>\n",
              "      <th>16</th>\n",
              "      <td>Female</td>\n",
              "      <td>29</td>\n",
              "      <td>Nurse</td>\n",
              "      <td>6.5</td>\n",
              "      <td>5</td>\n",
              "      <td>40</td>\n",
              "      <td>7</td>\n",
              "      <td>Normal Weight</td>\n",
              "      <td>132/87</td>\n",
              "      <td>80</td>\n",
              "      <td>4000</td>\n",
              "      <td>Sleep Apnea</td>\n",
              "    </tr>\n",
              "  </tbody>\n",
              "</table>\n",
              "</div>"
            ],
            "text/plain": [
              "    Gender  Age            Occupation  Sleep Duration  Quality of Sleep  \\\n",
              "3     Male   28  Sales Representative             5.9                 4   \n",
              "4     Male   28  Sales Representative             5.9                 4   \n",
              "5     Male   28     Software Engineer             5.9                 4   \n",
              "6     Male   29               Teacher             6.3                 6   \n",
              "16  Female   29                 Nurse             6.5                 5   \n",
              "\n",
              "    Physical Activity Level  Stress Level   BMI Category Blood Pressure  \\\n",
              "3                        30             8          Obese         140/90   \n",
              "4                        30             8          Obese         140/90   \n",
              "5                        30             8          Obese         140/90   \n",
              "6                        40             7          Obese         140/90   \n",
              "16                       40             7  Normal Weight         132/87   \n",
              "\n",
              "    Heart Rate  Daily Steps Sleep Disorder  \n",
              "3           85         3000    Sleep Apnea  \n",
              "4           85         3000    Sleep Apnea  \n",
              "5           85         3000       Insomnia  \n",
              "6           82         3500       Insomnia  \n",
              "16          80         4000    Sleep Apnea  "
            ]
          },
          "execution_count": 100,
          "metadata": {},
          "output_type": "execute_result"
        }
      ],
      "source": [
        "sleep = pd.read_csv('../data/sleep_health_and_lifestyle_dataset.csv')\n",
        "\n",
        "sleep.dropna(inplace=True)\n",
        "\n",
        "# dropping column \n",
        "sleep.drop(columns=['Person ID'], inplace=True)\n",
        "\n",
        "sleep.head()"
      ]
    },
    {
      "cell_type": "code",
      "execution_count": 101,
      "id": "ff402497",
      "metadata": {},
      "outputs": [
        {
          "name": "stdout",
          "output_type": "stream",
          "text": [
            "<class 'pandas.core.frame.DataFrame'>\n",
            "Index: 155 entries, 3 to 373\n",
            "Data columns (total 12 columns):\n",
            " #   Column                   Non-Null Count  Dtype  \n",
            "---  ------                   --------------  -----  \n",
            " 0   Gender                   155 non-null    object \n",
            " 1   Age                      155 non-null    int64  \n",
            " 2   Occupation               155 non-null    object \n",
            " 3   Sleep Duration           155 non-null    float64\n",
            " 4   Quality of Sleep         155 non-null    int64  \n",
            " 5   Physical Activity Level  155 non-null    int64  \n",
            " 6   Stress Level             155 non-null    int64  \n",
            " 7   BMI Category             155 non-null    object \n",
            " 8   Blood Pressure           155 non-null    object \n",
            " 9   Heart Rate               155 non-null    int64  \n",
            " 10  Daily Steps              155 non-null    int64  \n",
            " 11  Sleep Disorder           155 non-null    object \n",
            "dtypes: float64(1), int64(6), object(5)\n",
            "memory usage: 15.7+ KB\n",
            "None\n",
            "              Age  Sleep Duration  Quality of Sleep  Physical Activity Level  \\\n",
            "count  155.000000      155.000000        155.000000               155.000000   \n",
            "mean    46.632258        6.812258          6.870968                60.896774   \n",
            "std      7.839311        0.773534          1.337325                20.634158   \n",
            "min     28.000000        5.800000          4.000000                30.000000   \n",
            "25%     43.000000        6.300000          6.000000                45.000000   \n",
            "50%     45.000000        6.500000          7.000000                45.000000   \n",
            "75%     51.000000        7.400000          8.000000                75.000000   \n",
            "max     59.000000        8.300000          9.000000                90.000000   \n",
            "\n",
            "       Stress Level  Heart Rate   Daily Steps  \n",
            "count    155.000000  155.000000    155.000000  \n",
            "mean       5.767742   71.787097   6765.806452  \n",
            "std        1.946757    5.187381   1893.921881  \n",
            "min        3.000000   65.000000   3000.000000  \n",
            "25%        4.000000   68.000000   6000.000000  \n",
            "50%        7.000000   72.000000   6000.000000  \n",
            "75%        7.000000   75.000000   7000.000000  \n",
            "max        8.000000   86.000000  10000.000000  \n"
          ]
        }
      ],
      "source": [
        "print(sleep.info()) \n",
        "print(sleep.describe())"
      ]
    },
    {
      "cell_type": "markdown",
      "id": "ecdaaa87",
      "metadata": {},
      "source": [
        "- Target/outcome variable: Stress Level\n",
        "- Features/predictors: Sleep Duration"
      ]
    },
    {
      "cell_type": "markdown",
      "id": "20a169e7",
      "metadata": {},
      "source": [
        "3. Split the sample into an ~80% training set and a ~20% test set.\n",
        "\n",
        "    - Done below"
      ]
    },
    {
      "cell_type": "markdown",
      "id": "26aa9afd",
      "metadata": {},
      "source": [
        "4. Run a few regressions of your target/outcome variable on a variety of features/predictors. Compute the RMSE on the test set."
      ]
    },
    {
      "cell_type": "code",
      "execution_count": 102,
      "id": "5bf8ba6e",
      "metadata": {},
      "outputs": [
        {
          "name": "stdout",
          "output_type": "stream",
          "text": [
            "R^2: 0.9344487286883256\n",
            "RMSE: 0.5161726450761119\n"
          ]
        }
      ],
      "source": [
        "# numeric regression \n",
        "\n",
        "# selecting only numeric variables\n",
        "numeric_v = sleep.select_dtypes(include=[np.number]).columns.tolist()\n",
        "numeric_v.remove('Stress Level')  # remove target variable from the list of features\n",
        "\n",
        "# data split\n",
        "a = sleep[numeric_v]\n",
        "b = sleep['Stress Level']\n",
        "a_train, a_test, b_train, b_test = train_test_split(a, b, test_size=0.2, random_state=99)\n",
        "\n",
        "# regression model\n",
        "model = LinearRegression()\n",
        "model.fit(a_train, b_train)\n",
        "\n",
        "# predict on test data\n",
        "b_pred = model.predict(a_test)\n",
        "\n",
        "r2_a = r2_score(b_test, b_pred)\n",
        "rmse_a = np.sqrt(mean_squared_error(b_test, b_pred))\n",
        "\n",
        "print(f'R^2: {r2_a}')\n",
        "print(f'RMSE: {rmse_a}')"
      ]
    },
    {
      "cell_type": "code",
      "execution_count": 105,
      "id": "6c8c5788",
      "metadata": {},
      "outputs": [
        {
          "name": "stdout",
          "output_type": "stream",
          "text": [
            "R^2: 0.9168871252213193\n",
            "RMSE: 0.5812173604325543\n"
          ]
        }
      ],
      "source": [
        "# categorical regression \n",
        "\n",
        "# only categorical variables\n",
        "categorical_v = sleep.select_dtypes(include=['object']).columns.tolist()\n",
        "\n",
        "# one-hot encoding\n",
        "sleep_encoded = pd.get_dummies(sleep, columns=categorical_v, drop_first=True)\n",
        "\n",
        "# data split\n",
        "a1 = sleep_encoded.drop('Stress Level', axis=1)\n",
        "b1 = sleep_encoded['Stress Level']\n",
        "a1_train, a1_test, b1_train, b1_test = train_test_split(a1, b1, test_size=0.2, random_state=99)\n",
        "\n",
        "# regression model\n",
        "model = LinearRegression()\n",
        "model.fit(a1_train, b1_train)\n",
        "\n",
        "# Predict on the test data\n",
        "b1_pred = model.predict(a1_test)\n",
        "\n",
        "# Evaluate the model\n",
        "r2_b = r2_score(b1_test, b1_pred)\n",
        "rmse_b = np.sqrt(mean_squared_error(b1_test, b1_pred))\n",
        "\n",
        "print(f'R^2: {r2_b}')\n",
        "print(f'RMSE: {rmse_b}')"
      ]
    },
    {
      "cell_type": "markdown",
      "id": "437f46b6",
      "metadata": {},
      "source": [
        "5. Which model performed the best, and why?\n",
        "\n",
        "    - The numeric model performed the best because there were more variables that were numeric than categorical."
      ]
    },
    {
      "cell_type": "markdown",
      "id": "27036072",
      "metadata": {},
      "source": [
        "6. What did you learn?\n",
        "   \n",
        "   - I learned that the dummy variable trap is very real, especially when you have so many different variables. This doesn't apply to numeric models - which is one of the reasons why I think my numeric model above was able to handle more variable values in a precise manner than my categorical model. "
      ]
    },
    {
      "cell_type": "markdown",
      "id": "5f6cf7bf",
      "metadata": {
        "vscode": {
          "languageId": "plaintext"
        }
      },
      "source": [
        "### Dummy Variable Trap \n",
        "\n",
        "\n",
        "In linear regression with categorical variables you should be careful of the Dummy Variable Trap. \n",
        "The Dummy Variable trap is a scenario in which the independent variables are multicollinear - a \n",
        "scenario in which two or more variables are highly correlated; in simple terms one variable can \n",
        "be predicted from the others. This can produce singularity of a model, meaning your model just won't \n",
        "work. Read about it here\n",
        "\n",
        "Idea is to use dummy variable encoding with drop_first=True, this will omit one column from each \n",
        "category after converting categorical variable into dummy/indicator variables. You WILL NOT lose \n",
        "and relevant information by doing that simply because your all point in dataset can fully be \n",
        "explained by rest of the features.\n",
        "\n",
        "Here is complete code on how you can do it for a \"jobs\" dataset\n",
        "\n",
        "So you have your X features:\n",
        "\n",
        "Age, Gender, Job, Classification \n",
        "\n",
        "And one numerical features that you are trying to predict:\n",
        "\n",
        "Wage\n",
        "\n",
        "First you need to split your initial dataset on input variables and prediction, \n",
        "assuming its pandas dataframe it would look like this:\n",
        "\n",
        "Input variables (your dataset is bit different but whole code remains the same, \n",
        "you will put every column from dataset in X, except one that will go to Y. pd.get_dummies \n",
        "works without problem like that - it will just convert categorical variables and it won't \n",
        "touch numerical):\n",
        "\n",
        "X = jobs[['Age','Gender','Job','Classification']]\n",
        "\n",
        "Prediction:\n",
        "\n",
        "Y = jobs['Wage']\n",
        "\n",
        "Convert categorical variable into dummy/indicator variables and drop one in each category:\n",
        "\n",
        "X = pd.get_dummies(data=X, drop_first=True)\n",
        "\n",
        "So now if you check shape of X (X.shape) with drop_first=True you will see that it has \n",
        "4 columns less - one for each of your categorical variables.\n",
        "\n",
        "You can now continue to use them in your linear model. For scikit-learn implementation it \n",
        "could look like this:\n"
      ]
    },
    {
      "cell_type": "code",
      "execution_count": null,
      "id": "505b7d47",
      "metadata": {},
      "outputs": [],
      "source": [
        "from sklearn import linear_model\n",
        "from sklearn.model_selection import train_test_split\n",
        "    \n",
        "X_train, X_test, Y_train, Y_test = train_test_split(X, Y, test_size = .20, random_state = 40)\n",
        "    \n",
        "regr = linear_model.LinearRegression() # Do not use fit_intercept = False if you have removed \n",
        "1 column after dummy encoding\n",
        "\n",
        "regr.fit(X_train, Y_train)\n",
        "predicted = regr.predict(X_test)"
      ]
    },
    {
      "cell_type": "markdown",
      "id": "1c11ffcb",
      "metadata": {},
      "source": [
        "### Transformation versus Normalization\n",
        "\n",
        "Use a **log transformation** when your data is strictly positive and heavily skewed towards larger values (right-skewed), while an **arcsinh transformation** is better suited for data with both positive and negative values, or when you need to handle potential zero values; **normalize** your data when you need to scale all values to a similar range, typically between 0 and 1, and especially when using algorithms sensitive to feature scale, but not necessarily to achieve a **normal distribution**. \n",
        "Key points about each transformation: \n",
        "\n",
        "    Log transformation: \n",
        "\n",
        "    Best for positively skewed data with large variations in magnitude. \n",
        "\n",
        "Useful when analyzing relative changes rather than absolute differences. \n",
        "Cannot handle negative values. \n",
        "\n",
        "Arcsinh transformation:\n",
        "\n",
        "    Can handle both positive and negative data. \n",
        "\n",
        "Effective for data with extreme values on both ends of the spectrum. \n",
        "Often used when dealing with proportions or percentages near 0 or 1. \n",
        "\n",
        "Normalization: \n",
        "\n",
        "    Scales data to a common range, usually between 0 and 1. \n",
        "\n",
        "Useful when comparing features with different scales in machine learning algorithms. \n",
        "Does not necessarily transform the data distribution to be normal. \n"
      ]
    }
  ],
  "metadata": {
    "colab": {
      "provenance": []
    },
    "kernelspec": {
      "display_name": "Python 3",
      "language": "python",
      "name": "python3"
    },
    "language_info": {
      "codemirror_mode": {
        "name": "ipython",
        "version": 3
      },
      "file_extension": ".py",
      "mimetype": "text/x-python",
      "name": "python",
      "nbconvert_exporter": "python",
      "pygments_lexer": "ipython3",
      "version": "3.12.7"
    }
  },
  "nbformat": 4,
  "nbformat_minor": 5
}
